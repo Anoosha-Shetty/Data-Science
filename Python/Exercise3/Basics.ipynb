{
 "cells": [
  {
   "cell_type": "markdown",
   "metadata": {},
   "source": [
    "# Introduction To The Dataset\n",
    "The dataset contains the following columns:\n",
    "\n",
    "year: Year (1994 to 2003).\n",
    "month: Month (1 to 12).\n",
    "date_of_month: Day number of the month (1 to 31).\n",
    "day_of_week: Day of week (1 to 7).\n",
    "births: Number of births that day.\n",
    "First things first, let's read in the CSV file and explore it.\n",
    "\n"
   ]
  },
  {
   "cell_type": "code",
   "execution_count": 233,
   "metadata": {
    "collapsed": false
   },
   "outputs": [],
   "source": [
    "# Read and split the fields\n",
    "def read_csv(file):\n",
    "    strlst = open(file).read().split(\"\\n\")\n",
    "    string_list = strlst[1:len(strlst)]\n",
    "    \n",
    "    final_list = []\n",
    "    for i in string_list:\n",
    "        string_fields = i.split(\",\")\n",
    "        int_fields = []\n",
    "        for j in string_fields:\n",
    "            int_fields.append(int(j))\n",
    "        final_list.append(int_fields)\n",
    "    return(final_list)    \n",
    "\n",
    "'''\n",
    "Calculate number of births by month\n",
    "'''\n",
    "def month_births(birth_list):\n",
    "    births_per_month = {}\n",
    "    for mnth in birth_list:\n",
    "        if mnth[1] in births_per_month:\n",
    "            births_per_month[mnth[1]] = births_per_month[mnth[1]] \\\n",
    "               + mnth[4]\n",
    "        else:\n",
    "            births_per_month[mnth[1]] = mnth[4]\n",
    "    return(births_per_month)  \n",
    "\n",
    "'''\n",
    "Calculate number of births each day of week\n",
    "'''\n",
    "def dow_births(birth_list):\n",
    "    births_per_day = {}\n",
    "    for day in birth_list:\n",
    "        if day[3] in births_per_day:\n",
    "            births_per_day[day[3]] = births_per_day[day[3]] + day[4]\n",
    "        else:\n",
    "            births_per_day[day[3]] = day[4]\n",
    "    return(births_per_day)\n",
    "\n",
    "'''\n",
    "Calculate number of births by Year/month/date_of_month/day_of_week by\n",
    "specifying the list and column position (year = 1, month = 2, \n",
    "date_of_month = 3, day_of_week = 4)\n",
    "'''\n",
    "def calc_counts(birth_list, col_pos):\n",
    "    totals = {}\n",
    "    for i in birth_list:\n",
    "        if i[col_pos-1] in totals:\n",
    "            totals[i[col_pos-1]] = totals[i[col_pos-1]] + i[4]\n",
    "        else:\n",
    "            totals[i[col_pos-1]] = i[4]\n",
    "    return(totals)\n",
    "\n",
    "''' \n",
    "Calculate min and max key/values in a dictionary \n",
    "'''\n",
    "def calc_minmax(datset):\n",
    "    minval = min(datset.values())\n",
    "    maxval = max(datset.values())\n",
    "    minkey = min(datset.keys())\n",
    "    maxkey = max(datset.keys())\n",
    "    return(minkey, maxkey, minval, maxval)    \n",
    "              \n",
    "''' \n",
    "Sort the dictionary by key/val (parm = 1 for sort by key, \n",
    "parm = 2 for sort by value) \n",
    "'''\n",
    "from collections import OrderedDict\n",
    "def sort_dict(datset, parm):\n",
    "    if(parm == 1):\n",
    "        ordered = OrderedDict(sorted(datset.items(), key = lambda a: a[0]))\n",
    "    elif(parm == 2):\n",
    "        ordered = OrderedDict(sorted(datset.items(), key = lambda a: a[1]))\n",
    "    return(ordered)\n"
   ]
  },
  {
   "cell_type": "code",
   "execution_count": 234,
   "metadata": {
    "collapsed": false
   },
   "outputs": [
    {
     "name": "stdout",
     "output_type": "stream",
     "text": [
      "\n",
      "-----------------\n",
      "First 10 elements\n",
      "-----------------\n",
      "[[1994, 1, 1, 6, 8096], [1994, 1, 2, 7, 7772], [1994, 1, 3, 1, 10142], [1994, 1, 4, 2, 11248], [1994, 1, 5, 3, 11053], [1994, 1, 6, 4, 11406], [1994, 1, 7, 5, 11251], [1994, 1, 8, 6, 8653], [1994, 1, 9, 7, 7910], [1994, 1, 10, 1, 10498]]\n"
     ]
    }
   ],
   "source": [
    "# Main logic\n",
    "cdc_list = read_csv(r'D:\\GitHub\\Data-Science\\Python\\Exercise3\\US_births_1994-2003_CDC_NCHS.csv')\n",
    "print(\"\\n-----------------\")\n",
    "print(\"First 10 elements\")\n",
    "print(\"-----------------\")\n",
    "print(cdc_list[0:10])"
   ]
  },
  {
   "cell_type": "code",
   "execution_count": 235,
   "metadata": {
    "collapsed": false
   },
   "outputs": [
    {
     "name": "stdout",
     "output_type": "stream",
     "text": [
      "\n",
      "---------------------------\n",
      "Number of births each month\n",
      "---------------------------\n",
      "{1: 3232517, 2: 3018140, 3: 3322069, 4: 3185314, 5: 3350907, 6: 3296530, 7: 3498783, 8: 3525858, 9: 3439698, 10: 3378814, 11: 3171647, 12: 3301860}\n"
     ]
    }
   ],
   "source": [
    "#Number of births each month\n",
    "cdc_month_births = month_births(cdc_list)\n",
    "print(\"\\n---------------------------\")\n",
    "print(\"Number of births each month\")\n",
    "print(\"---------------------------\")\n",
    "print(cdc_month_births)"
   ]
  },
  {
   "cell_type": "code",
   "execution_count": 236,
   "metadata": {
    "collapsed": false
   },
   "outputs": [
    {
     "name": "stdout",
     "output_type": "stream",
     "text": [
      "\n",
      "---------------------------------\n",
      "Number of births each day of week\n",
      "---------------------------------\n",
      "{1: 5789166, 2: 6446196, 3: 6322855, 4: 6288429, 5: 6233657, 6: 4562111, 7: 4079723}\n"
     ]
    }
   ],
   "source": [
    "#Number of births each day of week\n",
    "cdc_day_births = dow_births(cdc_list)\n",
    "print(\"\\n---------------------------------\")\n",
    "print(\"Number of births each day of week\")\n",
    "print(\"---------------------------------\")\n",
    "print(cdc_day_births)"
   ]
  },
  {
   "cell_type": "code",
   "execution_count": 237,
   "metadata": {
    "collapsed": false
   },
   "outputs": [
    {
     "name": "stdout",
     "output_type": "stream",
     "text": [
      "\n",
      "-------------\n",
      "Yearly totals\n",
      "-------------\n",
      "{2000: 4058814, 2001: 4025933, 2002: 4021726, 2003: 4089950, 1994: 3952767, 1995: 3899589, 1996: 3891494, 1997: 3880894, 1998: 3941553, 1999: 3959417}\n"
     ]
    }
   ],
   "source": [
    "#Calculate number of births by Year by specifying the list \n",
    "#and column pos (year = 1)\n",
    "cdc_year_births = calc_counts(cdc_list,1)\n",
    "print(\"\\n-------------\")\n",
    "print(\"Yearly totals\")\n",
    "print(\"-------------\")\n",
    "print(cdc_year_births)"
   ]
  },
  {
   "cell_type": "code",
   "execution_count": 238,
   "metadata": {
    "collapsed": false
   },
   "outputs": [
    {
     "name": "stdout",
     "output_type": "stream",
     "text": [
      "\n",
      "---------------\n",
      "Monthly totals:\n",
      "---------------\n",
      "{1: 3232517, 2: 3018140, 3: 3322069, 4: 3185314, 5: 3350907, 6: 3296530, 7: 3498783, 8: 3525858, 9: 3439698, 10: 3378814, 11: 3171647, 12: 3301860}\n"
     ]
    }
   ],
   "source": [
    "#Calculate number of births by month by specifying the list \n",
    "#and column pos (month = 2)\n",
    "cdc_month_births = calc_counts(cdc_list,2)\n",
    "print(\"\\n---------------\")\n",
    "print(\"Monthly totals:\")\n",
    "print(\"---------------\")\n",
    "print(cdc_month_births)"
   ]
  },
  {
   "cell_type": "code",
   "execution_count": 239,
   "metadata": {
    "collapsed": false
   },
   "outputs": [
    {
     "name": "stdout",
     "output_type": "stream",
     "text": [
      "\n",
      "--------------------\n",
      "Day-of-month-totals:\n",
      "--------------------\n",
      "{1: 1276557, 2: 1288739, 3: 1304499, 4: 1288154, 5: 1299953, 6: 1304474, 7: 1310459, 8: 1312297, 9: 1303292, 10: 1320764, 11: 1314361, 12: 1318437, 13: 1277684, 14: 1320153, 15: 1319171, 16: 1315192, 17: 1324953, 18: 1326855, 19: 1318727, 20: 1324821, 21: 1322897, 22: 1317381, 23: 1293290, 24: 1288083, 25: 1272116, 26: 1284796, 27: 1294395, 28: 1307685, 29: 1223161, 30: 1202095, 31: 746696}\n"
     ]
    }
   ],
   "source": [
    "#Calculate number of births by date by specifying the list \n",
    "#and column pos (date_of_month = 3)\n",
    "cdc_dom_births = calc_counts(cdc_list,3)\n",
    "print(\"\\n--------------------\")\n",
    "print(\"Day-of-month-totals:\")\n",
    "print(\"--------------------\")\n",
    "print(cdc_dom_births)"
   ]
  },
  {
   "cell_type": "code",
   "execution_count": 240,
   "metadata": {
    "collapsed": false
   },
   "outputs": [
    {
     "name": "stdout",
     "output_type": "stream",
     "text": [
      "\n",
      "-------------------\n",
      "Day-of-week-totals:\n",
      "-------------------\n",
      "{1: 5789166, 2: 6446196, 3: 6322855, 4: 6288429, 5: 6233657, 6: 4562111, 7: 4079723}\n"
     ]
    }
   ],
   "source": [
    "#Calculate number of births by week by specifying the list \n",
    "#and column pos (day_of_week = 4)\n",
    "cdc_dow_births = calc_counts(cdc_list,4)\n",
    "print(\"\\n-------------------\")\n",
    "print(\"Day-of-week-totals:\")\n",
    "print(\"-------------------\")\n",
    "print(cdc_dow_births)"
   ]
  },
  {
   "cell_type": "code",
   "execution_count": 241,
   "metadata": {
    "collapsed": false
   },
   "outputs": [
    {
     "name": "stdout",
     "output_type": "stream",
     "text": [
      "\n",
      "------------------------\n",
      "Dict Keys (Day-of-week):\n",
      "------------------------\n",
      "dict_keys([1, 2, 3, 4, 5, 6, 7])\n"
     ]
    }
   ],
   "source": [
    "# Print the keys of a dictionary\n",
    "print(\"\\n------------------------\")\n",
    "print(\"Dict Keys (Day-of-week):\")\n",
    "print(\"------------------------\")\n",
    "print(cdc_dow_births.keys())"
   ]
  },
  {
   "cell_type": "code",
   "execution_count": 242,
   "metadata": {
    "collapsed": false
   },
   "outputs": [
    {
     "name": "stdout",
     "output_type": "stream",
     "text": [
      "\n",
      "-------------------------\n",
      "Dict Values (Day-of-week:\n",
      "-------------------------\n",
      "dict_values([5789166, 6446196, 6322855, 6288429, 6233657, 4562111, 4079723])\n"
     ]
    }
   ],
   "source": [
    "# Print the values of the dictionary\n",
    "print(\"\\n-------------------------\")\n",
    "print(\"Dict Values (Day-of-week:\")\n",
    "print(\"-------------------------\")\n",
    "print(cdc_dow_births.values())"
   ]
  },
  {
   "cell_type": "code",
   "execution_count": 243,
   "metadata": {
    "collapsed": false
   },
   "outputs": [
    {
     "name": "stdout",
     "output_type": "stream",
     "text": [
      "\n",
      "-------------------\n",
      "Min/Max key/values:\n",
      "-------------------\n",
      "Min_key:  1994 \n",
      "Max_key:  2003 \n",
      "Min_val:  3880894 \n",
      "Max_val:  4089950\n"
     ]
    }
   ],
   "source": [
    "# Calculate the minimum, maximum value of keys, values in dictionary\n",
    "minmax = calc_minmax(cdc_year_births)\n",
    "print(\"\\n-------------------\")\n",
    "print(\"Min/Max key/values:\")\n",
    "print(\"-------------------\")\n",
    "print(\"Min_key: \", minmax[0], \"\\nMax_key: \", minmax[1], \"\\nMin_val: \" \\\n",
    "      , minmax[2], \"\\nMax_val: \" , minmax[3])"
   ]
  },
  {
   "cell_type": "code",
   "execution_count": 244,
   "metadata": {
    "collapsed": false
   },
   "outputs": [
    {
     "name": "stdout",
     "output_type": "stream",
     "text": [
      "\n",
      "----------------------------------------\n",
      "Sort by key (in-built function 'sorted')\n",
      "----------------------------------------\n",
      "[1994, 1995, 1996, 1997, 1998, 1999, 2000, 2001, 2002, 2003]\n"
     ]
    }
   ],
   "source": [
    "# Sort the dictionary based on key (in-built function sorted)\n",
    "print(\"\\n----------------------------------------\")\n",
    "print(\"Sort by key (in-built function 'sorted')\")\n",
    "print(\"----------------------------------------\")\n",
    "print(sorted(cdc_year_births))"
   ]
  },
  {
   "cell_type": "code",
   "execution_count": 245,
   "metadata": {
    "collapsed": false
   },
   "outputs": [
    {
     "name": "stdout",
     "output_type": "stream",
     "text": [
      "\n",
      "----------------------\n",
      "Sort by key (parm = 1)\n",
      "----------------------\n",
      "OrderedDict([(1994, 3952767), (1995, 3899589), (1996, 3891494), (1997, 3880894), (1998, 3941553), (1999, 3959417), (2000, 4058814), (2001, 4025933), (2002, 4021726), (2003, 4089950)])\n"
     ]
    }
   ],
   "source": [
    "# Sort the dictionary based on key (user defined function)\n",
    "print(\"\\n----------------------\")\n",
    "print(\"Sort by key (parm = 1)\")\n",
    "print(\"----------------------\")\n",
    "sortbykey = sort_dict(cdc_year_births, 1)\n",
    "print(sortbykey)"
   ]
  },
  {
   "cell_type": "code",
   "execution_count": 246,
   "metadata": {
    "collapsed": false
   },
   "outputs": [
    {
     "name": "stdout",
     "output_type": "stream",
     "text": [
      "\n",
      "----------------------\n",
      "Sort by val (parm = 2)\n",
      "----------------------\n",
      "OrderedDict([(1997, 3880894), (1996, 3891494), (1995, 3899589), (1998, 3941553), (1994, 3952767), (1999, 3959417), (2002, 4021726), (2001, 4025933), (2000, 4058814), (2003, 4089950)])\n"
     ]
    }
   ],
   "source": [
    "# Sort the dictionary based on value (user defined function)\n",
    "print(\"\\n----------------------\")\n",
    "print(\"Sort by val (parm = 2)\")\n",
    "print(\"----------------------\")\n",
    "sortbyval = sort_dict(cdc_year_births, 2)\n",
    "print(sortbyval)"
   ]
  },
  {
   "cell_type": "code",
   "execution_count": 247,
   "metadata": {
    "collapsed": false
   },
   "outputs": [
    {
     "name": "stdout",
     "output_type": "stream",
     "text": [
      "{1994, 1995, 1996, 1997, 1998, 1999, 2000, 2001, 2002, 2003}\n",
      "{1, 2, 3, 4, 5, 6, 7, 8, 9, 10, 11, 12}\n",
      "{1, 2, 3, 4, 5, 6, 7, 8, 9, 10, 11, 12, 13, 14, 15, 16, 17, 18, 19, 20, 21, 22, 23, 24, 25, 26, 27, 28, 29, 30, 31}\n",
      "{1, 2, 3, 4, 5, 6, 7}\n"
     ]
    }
   ],
   "source": [
    "# Main logic\n",
    "year_list = []\n",
    "mon_list = []\n",
    "dat_list = []\n",
    "day_list = []\n",
    "for i in cdc_list:\n",
    "    year_list.append(i[0])\n",
    "    mon_list.append(i[1])\n",
    "    dat_list.append(i[2])\n",
    "    day_list.append(i[3])\n",
    "\n",
    "unique_yrs = set(year_list)\n",
    "unique_mnt = set(mon_list)\n",
    "unique_dat = set(dat_list)\n",
    "unique_day = set(day_list)\n",
    "print(unique_yrs)\n",
    "print(unique_mnt)\n",
    "print(unique_dat)\n",
    "print(unique_day)"
   ]
  },
  {
   "cell_type": "code",
   "execution_count": 248,
   "metadata": {
    "collapsed": false
   },
   "outputs": [],
   "source": [
    "#Find the sum of total births month wise for year\n",
    "'''\n",
    "parm = 1 (month), 2 (date of month), 3 (day of week)\n",
    "val = 1-12 (if parm = 1)\n",
    "    = 1-31 (if parm = 2)\n",
    "    = 1-7 (if parm = 3)\n",
    "'''\n",
    "\n",
    "def year_beh(year, parm, val):\n",
    "    new_lst = []\n",
    "    if parm == 1:\n",
    "        if val >= 1 and val <= 12:\n",
    "            tot = 0\n",
    "            for i in cdc_list:\n",
    "                if i[0] == year and i[1] == val:\n",
    "                    tot += i[4]\n",
    "            new_lst = [year, parm, val, tot]\n",
    "            return(new_lst)\n",
    "        else:\n",
    "            return(\"Invalid value of month entered for parameter 1\")\n",
    "    \n",
    "    elif parm == 2:\n",
    "        if val >= 1 and val <= 31:\n",
    "            tot = 0\n",
    "            for i in cdc_list:\n",
    "                if i[0] == year and i[2] == val:\n",
    "                    tot += i[4]\n",
    "            new_lst = [year, parm, val, tot]\n",
    "            return(new_lst)\n",
    "        else:\n",
    "            return(\"Invalid value of date entered for parameter 2\")\n",
    "    \n",
    "    elif parm == 3:\n",
    "        if val >= 1 and val <= 7:\n",
    "            tot = 0\n",
    "            for i in cdc_list:\n",
    "                if i[0] == year and i[3] == val:\n",
    "                    tot += i[4]\n",
    "            new_lst = [year, parm, val, tot]\n",
    "            return(new_lst)\n",
    "        else:\n",
    "            return(\"Invalid value of day entered for parameter 3\")"
   ]
  },
  {
   "cell_type": "code",
   "execution_count": 249,
   "metadata": {
    "collapsed": false
   },
   "outputs": [
    {
     "name": "stdout",
     "output_type": "stream",
     "text": [
      "[2003, 1, 1, 329803]\n",
      "[1993, 1, 1, 0]\n",
      "[1994, 1, 1, 320705]\n",
      "[1994, 2, 4, 128735]\n",
      "[2000, 2, 4, 129344]\n",
      "[1996, 3, 7, 413336]\n",
      "[2001, 3, 7, 397119]\n"
     ]
    }
   ],
   "source": [
    "print(year_beh(2003,1,1))\n",
    "print(year_beh(1993,1,1))\n",
    "print(year_beh(1994,1,1))\n",
    "print(year_beh(1994,2,4))\n",
    "print(year_beh(2000,2,4))\n",
    "print(year_beh(1996,3,7))\n",
    "print(year_beh(2001,3,7))"
   ]
  },
  {
   "cell_type": "code",
   "execution_count": 250,
   "metadata": {
    "collapsed": false
   },
   "outputs": [
    {
     "name": "stdout",
     "output_type": "stream",
     "text": [
      "Invalid value of month entered for parameter 1\n",
      "Invalid value of date entered for parameter 2\n",
      "Invalid value of day entered for parameter 3\n"
     ]
    }
   ],
   "source": [
    "print(year_beh(2003,1,14))\n",
    "print(year_beh(2003,2,35))\n",
    "print(year_beh(2003,3,10))"
   ]
  },
  {
   "cell_type": "code",
   "execution_count": 251,
   "metadata": {
    "collapsed": false
   },
   "outputs": [
    {
     "name": "stdout",
     "output_type": "stream",
     "text": [
      "[[1994, 1, 320705], [1994, 2, 301327], [1994, 3, 339736], [1994, 4, 317392], [1994, 5, 330295], [1994, 6, 329737], [1994, 7, 345862], [1994, 8, 352173], [1994, 9, 339223], [1994, 10, 330172]]\n"
     ]
    }
   ],
   "source": [
    "# Month wise summary for all years\n",
    "mon_sum_lst = []\n",
    "for yr in unique_yrs:\n",
    "    for mn in unique_mnt:\n",
    "        tot = 0\n",
    "        for i in cdc_list:\n",
    "            if i[0] == yr and i[1] == mn:\n",
    "                tot += i[4]\n",
    "        tmp_lst = [yr,mn,tot]\n",
    "        mon_sum_lst.append(tmp_lst)\n",
    "\n",
    "print(mon_sum_lst[:10])"
   ]
  },
  {
   "cell_type": "code",
   "execution_count": 252,
   "metadata": {
    "collapsed": false
   },
   "outputs": [
    {
     "name": "stdout",
     "output_type": "stream",
     "text": [
      "[[1994, 1, 132515], [1994, 2, 128688], [1994, 3, 126213], [1994, 4, 128735], [1994, 5, 125279], [1994, 6, 128859], [1994, 7, 134629], [1994, 8, 133760], [1994, 9, 128391], [1994, 10, 127805]]\n"
     ]
    }
   ],
   "source": [
    "# Date wise summary for all years\n",
    "dat_sum_lst = []\n",
    "for yr in unique_yrs:\n",
    "    for dt in unique_dat:\n",
    "        tot = 0\n",
    "        for i in cdc_list:\n",
    "            if i[0] == yr and i[2] == dt:\n",
    "                tot += i[4]\n",
    "        tmp_lst = [yr,dt,tot]\n",
    "        dat_sum_lst.append(tmp_lst)\n",
    "\n",
    "print(dat_sum_lst[0:10])"
   ]
  },
  {
   "cell_type": "code",
   "execution_count": 253,
   "metadata": {
    "collapsed": false
   },
   "outputs": [
    {
     "name": "stdout",
     "output_type": "stream",
     "text": [
      "[[1994, 1, 132515], [1994, 2, 128688], [1994, 3, 126213], [1994, 4, 128735], [1994, 5, 125279], [1994, 6, 128859], [1994, 7, 134629], [1994, 8, 133760], [1994, 9, 128391], [1994, 10, 127805]]\n"
     ]
    }
   ],
   "source": [
    "# Day wise summary for all years\n",
    "day_sum_lst = []\n",
    "for yr in unique_yrs:\n",
    "    for day in unique_day:\n",
    "        tot = 0\n",
    "        for i in cdc_list:\n",
    "            if i[0] == yr and i[2] == day:\n",
    "                tot += i[4]\n",
    "        tmp_lst = [yr,day,tot]\n",
    "        day_sum_lst.append(tmp_lst)\n",
    "        \n",
    "print(dat_sum_lst[0:10])"
   ]
  },
  {
   "cell_type": "code",
   "execution_count": 254,
   "metadata": {
    "collapsed": false
   },
   "outputs": [
    {
     "name": "stdout",
     "output_type": "stream",
     "text": [
      "[[2000, 1, 1, 6, 9083], [2000, 1, 2, 7, 8006], [2000, 1, 3, 1, 11363], [2000, 1, 4, 2, 13032], [2000, 1, 5, 3, 12558]]\n",
      "cdc_list:  3652\n",
      "ssa_list:  5479\n",
      "mrg_list:  3652\n"
     ]
    }
   ],
   "source": [
    "ssa_list = read_csv(r'D:\\GitHub\\Data-Science\\Python\\Exercise3\\US_births_2000-2014_SSA.csv')\n",
    "mrg_list = cdc_list\n",
    "print(ssa_list[0:5])\n",
    "print(\"cdc_list: \" , len(cdc_list))\n",
    "print(\"ssa_list: \" , len(ssa_list))\n",
    "print(\"mrg_list: \" , len(mrg_list))\n"
   ]
  },
  {
   "cell_type": "code",
   "execution_count": 255,
   "metadata": {
    "collapsed": false
   },
   "outputs": [
    {
     "name": "stdout",
     "output_type": "stream",
     "text": [
      "mrg_list:  9131\n"
     ]
    }
   ],
   "source": [
    "# Merge the lists cdc_list and ssa_list\n",
    "mrg_list = mrg_list + ssa_list\n",
    "print(\"mrg_list: \" , len(mrg_list))\n",
    "mrg_list = sorted(mrg_list)"
   ]
  },
  {
   "cell_type": "code",
   "execution_count": 256,
   "metadata": {
    "collapsed": false
   },
   "outputs": [
    {
     "name": "stdout",
     "output_type": "stream",
     "text": [
      "[[2000, 1, 1, 6, 8843], [2000, 1, 1, 6, 9083], [2000, 1, 2, 7, 7816], [2000, 1, 2, 7, 8006], [2000, 1, 3, 1, 11123]]\n"
     ]
    }
   ],
   "source": [
    "print(mrg_list[2191:2196])"
   ]
  },
  {
   "cell_type": "code",
   "execution_count": 257,
   "metadata": {
    "collapsed": true
   },
   "outputs": [],
   "source": [
    "# For the overlapping elements, sum up the birth counts\n",
    "tmp_yr = tmp_mn = tmp_dat = tmp_day = tmp_brth = 0\n",
    "pos = 0\n",
    "for i in mrg_list:\n",
    "    if i[0] == tmp_yr and i[1] == tmp_mn and i[2] == tmp_dat and i[3] == tmp_day:\n",
    "        i[4] = i[4] + tmp_brth\n",
    "        del(mrg_list[pos - 1])\n",
    "    tmp_yr = mrg_list[pos][0]\n",
    "    tmp_mn = mrg_list[pos][1]\n",
    "    tmp_dat = mrg_list[pos][2]\n",
    "    tmp_day = mrg_list[pos][3]\n",
    "    tmp_brth = mrg_list[pos][4]\n",
    "    pos += 1"
   ]
  },
  {
   "cell_type": "code",
   "execution_count": 258,
   "metadata": {
    "collapsed": false
   },
   "outputs": [
    {
     "name": "stdout",
     "output_type": "stream",
     "text": [
      "7670\n",
      "[[2000, 1, 1, 6, 17926], [2000, 1, 2, 7, 15822], [2000, 1, 3, 1, 22486], [2000, 1, 4, 2, 25735], [2000, 1, 5, 3, 24798]]\n"
     ]
    }
   ],
   "source": [
    "print(len(mrg_list))\n",
    "print(mrg_list[2191:2196])"
   ]
  }
 ],
 "metadata": {
  "anaconda-cloud": {},
  "kernelspec": {
   "display_name": "Python [Root]",
   "language": "python",
   "name": "Python [Root]"
  },
  "language_info": {
   "codemirror_mode": {
    "name": "ipython",
    "version": 3
   },
   "file_extension": ".py",
   "mimetype": "text/x-python",
   "name": "python",
   "nbconvert_exporter": "python",
   "pygments_lexer": "ipython3",
   "version": "3.5.2"
  }
 },
 "nbformat": 4,
 "nbformat_minor": 1
}
