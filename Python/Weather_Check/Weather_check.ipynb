{
 "cells": [
  {
   "cell_type": "markdown",
   "metadata": {},
   "source": [
    "### Weather Check\n",
    "Header | Definition\n",
    "---|---------\n",
    "`Do you typically check a daily weather report?` | Yes or No\n",
    "`How do you typically check the weather?` | \"The Weather Channel\", \"Local TV News\", \"Radio weather\", \"Internet search\", \"The default weather app on your phone\", \"Newsletter\", \"Newspaper\", \"A specific website or app (please provide the answer)\n",
    "`A specific website or app (please provide the answer)` | If they responded this value for the second question, they were asked to write-in the app or website they used. \n",
    "`If you had a smartwatch (like the soon to be released Apple Watch), how likely or unlikely would you be to check the weather on that device?` | \"Very Likely\", \"Somewhat Likely\", \"Somewhat unlikely\", \"Very unlikely\" \n",
    "`Age` | 18-29, 30-44, 45-59, 60+\n",
    "`What is your gender?` | Female, Male\n",
    "`How much total combined money did all members of your HOUSEHOLD earn last year?` | $0 to $9,999, $10,000 to $24,999, $25,000 to $49,999, $50,000 to $74,999, $75,000 to $99,999, $100,000 to $124,000, $125,000 to $149,999, $150,000 to $174,999, $175,000 to $199,999, $200,000+, Prefer not to answer. \n",
    "`US Region` | New England, Middle Atlantic, East North Central, West North Central, South Atlantic, East South Central, West South Central, Mountain, Pacific. "
   ]
  },
  {
   "cell_type": "code",
   "execution_count": 1,
   "metadata": {
    "collapsed": true
   },
   "outputs": [],
   "source": [
    "def uniq(parm1):\n",
    "    uniq_lst = list(set(parm1))\n",
    "    return(sorted(uniq_lst))\n",
    "    \n",
    "def val_rep(pos):\n",
    "    for i in mod_lst:\n",
    "        if i[pos] == '-':\n",
    "            i[pos] = 'N/A'\n",
    "    return(mod_lst)\n",
    "    \n",
    "def ageprob(parm1, parm2):\n",
    "    #print(parm1)\n",
    "    #print(parm2)\n",
    "    dict1 = {}\n",
    "    print(\"**********\",parm1,\"**********\")\n",
    "    for i in parm2:\n",
    "        if i in dict1:\n",
    "            dict1[i] = dict1[i] + 1\n",
    "        else:\n",
    "            dict1[i] = 1\n",
    "    print(dict1)\n",
    "    return(dict1)"
   ]
  },
  {
   "cell_type": "code",
   "execution_count": 4,
   "metadata": {
    "collapsed": false
   },
   "outputs": [
    {
     "data": {
      "text/plain": [
       "['3887201482,Yes,The default weather app on your phone,-,Very likely,30 - 44,Male,\"$50,000 to $74,999\",South Atlantic',\n",
       " '3887159451,Yes,The default weather app on your phone,-,Very likely,18 - 29,Male,Prefer not to answer,-',\n",
       " '3887152228,Yes,The default weather app on your phone,-,Very likely,30 - 44,Male,\"$100,000 to $124,999\",Middle Atlantic',\n",
       " '3887145426,Yes,The default weather app on your phone,-,Somewhat likely,30 - 44,Male,Prefer not to answer,-',\n",
       " '3887021873,Yes,A specific website or app (please provide the answer),Iphone app,Very likely,30 - 44,Male,\"$150,000 to $174,999\",Middle Atlantic']"
      ]
     },
     "execution_count": 4,
     "metadata": {},
     "output_type": "execute_result"
    }
   ],
   "source": [
    "fileop = open(r\"D:\\GitHub\\Datasets\\weather-check\\weather-check.csv\")\n",
    "wchk = fileop.read().split(\"\\n\")\n",
    "wchk1 = wchk[1:len(wchk)]\n",
    "wchk1[0:5]"
   ]
  },
  {
   "cell_type": "code",
   "execution_count": 8,
   "metadata": {
    "collapsed": false
   },
   "outputs": [
    {
     "name": "stdout",
     "output_type": "stream",
     "text": [
      "[['3887201482', 'Yes', 'The default weather app on your phone', '-', 'Very likely', '30 - 44', 'Male', '\"$50', '000 to $74', '999\"', 'South Atlantic'], ['3887159451', 'Yes', 'The default weather app on your phone', '-', 'Very likely', '18 - 29', 'Male', 'Prefer not to answer', '-']]\n"
     ]
    }
   ],
   "source": [
    "wchk_lst = []\n",
    "len_lst = []\n",
    "for i in wchk1:\n",
    "    tmp_lst = i.split(\",\")\n",
    "    len_lst.append(len(tmp_lst))\n",
    "    wchk_lst.append(tmp_lst)\n",
    "print(wchk_lst[0:2])"
   ]
  },
  {
   "cell_type": "code",
   "execution_count": 9,
   "metadata": {
    "collapsed": false
   },
   "outputs": [
    {
     "name": "stdout",
     "output_type": "stream",
     "text": [
      "[9, 10, 11, 12, 13]\n"
     ]
    }
   ],
   "source": [
    "#Call the function to get the unique values for the individual list length\n",
    "len_lst = uniq(len_lst)\n",
    "print(len_lst)"
   ]
  },
  {
   "cell_type": "code",
   "execution_count": 11,
   "metadata": {
    "collapsed": false
   },
   "outputs": [
    {
     "name": "stdout",
     "output_type": "stream",
     "text": [
      "[['3887201482', 'Yes', 'The default weather app on your phone', '-', 'Very likely', '30 - 44', 'Male', '\"$50000 to $74999\"', 'South Atlantic'], ['3887159451', 'Yes', 'The default weather app on your phone', '-', 'Very likely', '18 - 29', 'Male', 'Prefer not to answer', '-'], ['3887152228', 'Yes', 'The default weather app on your phone', '-', 'Very likely', '30 - 44', 'Male', '\"$100000 to $124999\"', 'Middle Atlantic'], ['3887145426', 'Yes', 'The default weather app on your phone', '-', 'Somewhat likely', '30 - 44', 'Male', 'Prefer not to answer', '-'], ['3887021873', 'Yes', 'A specific website or app (please provide the answer)', 'Iphone app', 'Very likely', '30 - 44', 'Male', '\"$150000 to $174999\"', 'Middle Atlantic'], ['3886937140', 'Yes', 'A specific website or app (please provide the answer)', 'AccuWeather App', 'Somewhat likely', '18 - 29', 'Male', '\"$100000 to $124999\"', 'West South Central'], ['3886923931', 'Yes', 'The Weather Channel', '-', 'Very unlikely', '30 - 44', 'Male', '\"$25000 to $49999\"', 'West South Central'], ['3886913587', 'Yes', '-', '-', '-', '-', '-', '-', '-'], ['3886889048', 'Yes', 'The Weather Channel', '-', 'Very likely', '30 - 44', 'Male', 'Prefer not to answer', 'Pacific'], ['3886848806', 'Yes', 'The default weather app on your phone', '-', 'Very likely', '30 - 44', 'Male', '\"$150000 to $174999\"', 'West North Central']]\n"
     ]
    }
   ],
   "source": [
    "#As the list contains commas (,) in the 7th column,the entries are modified accordingly\n",
    "mod_lst = []\n",
    "for i in wchk_lst:\n",
    "    if len(i) == 9:\n",
    "        mod_lst.append(i)\n",
    "    elif len(i) == 10:\n",
    "        tmp_lst = [i[0], i[1],i[2], i[3], i[4], i[5],i[6],i[7]+i[8],i[9]]\n",
    "        mod_lst.append(tmp_lst)\n",
    "    elif len(i) == 11:\n",
    "        #print(i)\n",
    "        tmp_lst = [i[0], i[1],i[2], i[3], i[4], i[5],i[6],i[7]+i[8]+i[9],i[10]]\n",
    "        mod_lst.append(tmp_lst)\n",
    "        #print(tmp_lst)\n",
    "    elif len(i) == 12:\n",
    "        tmp_lst = [i[0], i[1],i[2], i[3]+\",\"+i[4], i[5],i[6],i[7],i[8]+i[9]+i[10],i[11]]\n",
    "        mod_lst.append(tmp_lst)\n",
    "    elif len(i) == 13:\n",
    "        tmp_lst = [i[0], i[1],i[2], i[3]+\",\"+i[4]+\",\"+i[5]+\",\"+i[6],i[7], i[8], i[9], i[10]+i[11],i[12]]\n",
    "        mod_lst.append(tmp_lst)\n",
    "\n",
    "print(mod_lst[0:10])"
   ]
  },
  {
   "cell_type": "code",
   "execution_count": 13,
   "metadata": {
    "collapsed": false
   },
   "outputs": [
    {
     "name": "stdout",
     "output_type": "stream",
     "text": [
      "{'Pacific': 185, 'East North Central': 141, 'East South Central': 41, 'West North Central': 54, 'West South Central': 94, 'New England': 52, 'Mountain': 72, 'South Atlantic': 154, '-': 31, 'Middle Atlantic': 104}\n"
     ]
    }
   ],
   "source": [
    "# Create a dictionary with Region as the key and number of entries for each\n",
    "Region = {}\n",
    "for i in mod_lst:\n",
    "    if i[8] in Region:\n",
    "        Region[i[8]] = Region[i[8]] + 1\n",
    "    else:\n",
    "        Region[i[8]] = 1\n",
    "\n",
    "print(Region)"
   ]
  },
  {
   "cell_type": "code",
   "execution_count": 17,
   "metadata": {
    "collapsed": false
   },
   "outputs": [
    {
     "name": "stdout",
     "output_type": "stream",
     "text": [
      "[['3887201482', 'Yes', 'The default weather app on your phone', 'N/A', 'Very likely', '30 - 44', 'Male', '$50000 to $74999', 'South Atlantic'], ['3887159451', 'Yes', 'The default weather app on your phone', 'N/A', 'Very likely', '18 - 29', 'Male', 'Prefer not to answer', 'N/A'], ['3887152228', 'Yes', 'The default weather app on your phone', 'N/A', 'Very likely', '30 - 44', 'Male', '$100000 to $124999', 'Middle Atlantic'], ['3887145426', 'Yes', 'The default weather app on your phone', 'N/A', 'Somewhat likely', '30 - 44', 'Male', 'Prefer not to answer', 'N/A'], ['3887021873', 'Yes', 'A specific website or app (please provide the answer)', 'Iphone app', 'Very likely', '30 - 44', 'Male', '$150000 to $174999', 'Middle Atlantic'], ['3886937140', 'Yes', 'A specific website or app (please provide the answer)', 'AccuWeather App', 'Somewhat likely', '18 - 29', 'Male', '$100000 to $124999', 'West South Central'], ['3886923931', 'Yes', 'The Weather Channel', 'N/A', 'Very unlikely', '30 - 44', 'Male', '$25000 to $49999', 'West South Central'], ['3886913587', 'Yes', 'N/A', 'N/A', 'N/A', 'N/A', 'N/A', 'N/A', 'N/A'], ['3886889048', 'Yes', 'The Weather Channel', 'N/A', 'Very likely', '30 - 44', 'Male', 'Prefer not to answer', 'Pacific'], ['3886848806', 'Yes', 'The default weather app on your phone', 'N/A', 'Very likely', '30 - 44', 'Male', '$150000 to $174999', 'West North Central']]\n"
     ]
    }
   ],
   "source": [
    "# Replace the fields having values '-' with 'N/A'\n",
    "tmp_lst = val_rep(2)\n",
    "tmp_lst = val_rep(3)\n",
    "tmp_lst = val_rep(4)\n",
    "tmp_lst = val_rep(5)\n",
    "tmp_lst = val_rep(6)\n",
    "tmp_lst = val_rep(7)\n",
    "tmp_lst = val_rep(8)\n",
    "\n",
    "print(mod_lst[0:10])"
   ]
  },
  {
   "cell_type": "code",
   "execution_count": 20,
   "metadata": {
    "collapsed": false
   },
   "outputs": [
    {
     "name": "stdout",
     "output_type": "stream",
     "text": [
      "fin_lst[0:10] --  [['3887201482', 'Yes', 'The default weather app on your phone', 'N/A', 'Very likely', '30 - 44', 'Male', '$50000 to $74999', 'South Atlantic'], ['3887159451', 'Yes', 'The default weather app on your phone', 'N/A', 'Very likely', '18 - 29', 'Male', 'Prefer not to answer', 'N/A'], ['3887152228', 'Yes', 'The default weather app on your phone', 'N/A', 'Very likely', '30 - 44', 'Male', '$100000 to $124999', 'Middle Atlantic'], ['3887145426', 'Yes', 'The default weather app on your phone', 'N/A', 'Somewhat likely', '30 - 44', 'Male', 'Prefer not to answer', 'N/A'], ['3887021873', 'Yes', 'A specific website or app (please provide the answer)', 'Iphone app', 'Very likely', '30 - 44', 'Male', '$150000 to $174999', 'Middle Atlantic'], ['3886937140', 'Yes', 'A specific website or app (please provide the answer)', 'AccuWeather App', 'Somewhat likely', '18 - 29', 'Male', '$100000 to $124999', 'West South Central'], ['3886923931', 'Yes', 'The Weather Channel', 'N/A', 'Very unlikely', '30 - 44', 'Male', '$25000 to $49999', 'West South Central'], ['3886913587', 'Yes', 'N/A', 'N/A', 'N/A', 'N/A', 'N/A', 'N/A', 'N/A'], ['3886889048', 'Yes', 'The Weather Channel', 'N/A', 'Very likely', '30 - 44', 'Male', 'Prefer not to answer', 'Pacific'], ['3886848806', 'Yes', 'The default weather app on your phone', 'N/A', 'Very likely', '30 - 44', 'Male', '$150000 to $174999', 'West North Central']]\n",
      "\n",
      "prob_lst[0:10] --  ['Very likely', 'Very likely', 'Very likely', 'Somewhat likely', 'Very likely', 'Somewhat likely', 'Very unlikely', 'N/A', 'Very likely', 'Very likely']\n",
      "\n",
      "agegrp_lst[0:10] --  ['30 - 44', '18 - 29', '30 - 44', '30 - 44', '30 - 44', '18 - 29', '30 - 44', 'N/A', '30 - 44', '30 - 44']\n"
     ]
    }
   ],
   "source": [
    "# Remove double quotes \" in the annual income column (8th column)\n",
    "# Move the details of the probability factor to a separate list\n",
    "# Move the details of age-group to a separate list\n",
    "fin_lst = []\n",
    "prob_lst = []\n",
    "agegrp_lst = []\n",
    "for i in mod_lst:\n",
    "    i[7] = i[7].replace('\"','')\n",
    "    fin_lst.append(i)\n",
    "    prob_lst.append(i[4])\n",
    "    agegrp_lst.append(i[5])\n",
    "\n",
    "print(\"fin_lst[0:10] -- \", fin_lst[0:10])\n",
    "print(\"\\nprob_lst[0:10] -- \", prob_lst[0:10])\n",
    "print(\"\\nagegrp_lst[0:10] -- \", agegrp_lst[0:10])"
   ]
  },
  {
   "cell_type": "code",
   "execution_count": 16,
   "metadata": {
    "collapsed": false
   },
   "outputs": [
    {
     "name": "stdout",
     "output_type": "stream",
     "text": [
      "['N/A', 'Somewhat likely', 'Somewhat unlikely', 'Very likely', 'Very unlikely']\n"
     ]
    }
   ],
   "source": [
    "#Get unique values for the probability of buying a smartwatch\n",
    "prob = uniq(prob_lst)\n",
    "print(prob)"
   ]
  },
  {
   "cell_type": "code",
   "execution_count": 21,
   "metadata": {
    "collapsed": false
   },
   "outputs": [
    {
     "name": "stdout",
     "output_type": "stream",
     "text": [
      "********** N/A **********\n",
      "{'N/A': 11}\n",
      "********** Somewhat likely **********\n",
      "{'45 - 59': 73, '18 - 29': 61, '60+': 71, 'N/A': 1, '30 - 44': 68}\n",
      "********** Somewhat unlikely **********\n",
      "{'45 - 59': 20, '18 - 29': 11, '60+': 28, '30 - 44': 14}\n",
      "********** Very likely **********\n",
      "{'45 - 59': 128, '18 - 29': 68, '60+': 95, '30 - 44': 71}\n",
      "********** Very unlikely **********\n",
      "{'45 - 59': 57, '18 - 29': 36, '60+': 64, '30 - 44': 51}\n",
      "{'45 - 59': 57, '18 - 29': 36, '60+': 64, '30 - 44': 51}\n"
     ]
    }
   ],
   "source": [
    "# Get details about the age group of people who are more likely to buy a smartwatch\n",
    "tmp_dct = {}\n",
    "fil_lst = []\n",
    "\n",
    "for i in prob:\n",
    "    tmp_lst = []\n",
    "    for j in fin_lst:\n",
    "        if j[4] == i:\n",
    "            tmp_lst.append(j[5])\n",
    "    tmp_dct = ageprob(i,tmp_lst)\n",
    "\n",
    "print(tmp_dct)\n"
   ]
  },
  {
   "cell_type": "code",
   "execution_count": null,
   "metadata": {
    "collapsed": true
   },
   "outputs": [],
   "source": []
  }
 ],
 "metadata": {
  "anaconda-cloud": {},
  "kernelspec": {
   "display_name": "Python [Root]",
   "language": "python",
   "name": "Python [Root]"
  },
  "language_info": {
   "codemirror_mode": {
    "name": "ipython",
    "version": 3
   },
   "file_extension": ".py",
   "mimetype": "text/x-python",
   "name": "python",
   "nbconvert_exporter": "python",
   "pygments_lexer": "ipython3",
   "version": "3.5.2"
  }
 },
 "nbformat": 4,
 "nbformat_minor": 0
}
