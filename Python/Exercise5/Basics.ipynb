{
 "cells": [
  {
   "cell_type": "markdown",
   "metadata": {},
   "source": [
    "The dataset contains information on gun deaths in the US from 2012 to 2014. Each row in the dataset represents a single fatality. The columns contain demographic and other information about the victim. \n",
    "\n",
    "Here's an explanation of each column:\n",
    "-- this is an identifier column, which contains the row number. It's common in CSV files to include a unique identifier for each row, but we can ignore it in this analysis.\n",
    "year -- the year in which the fatality occurred.\n",
    "month -- the month in which the fatality occurred.\n",
    "intent -- the intent of the perpetrator of the crime. This can be Suicide, Accidental, NA, Homicide, or Undetermined.\n",
    "police -- whether a police officer was involved with the shooting. Either 0 (false) or 1 (true).\n",
    "sex -- the gender of the victim. Either M or F.\n",
    "age -- the age of the victim.\n",
    "race -- the race of the victim. Either Asian/Pacific Islander, Native American/Native Alaskan, Black, Hispanic, or White.\n",
    "hispanic -- a code indicating the Hispanic origin of the victim.\n",
    "place -- where the shooting occurred. Has several categories, which you're encouraged to explore on your own.\n",
    "education -- educational status of the victim. Can be one of the following:\n",
    "1 -- Less than High School\n",
    "2 -- Graduated from High School or equivalent\n",
    "3 -- Some College\n",
    "4 -- At least graduated from College\n",
    "5 -- Not available\n",
    "In this project, we'll explore the dataset, and try to find patterns in the demographics of the victims. Our first step is to read the data in and take a look at it."
   ]
  },
  {
   "cell_type": "markdown",
   "metadata": {},
   "source": [
    "# Read the dataset in as a list using the csv module.\n",
    "1. Import the csv module.\n",
    "2. Open the file using the open() function.\n",
    "3. Use the csv.reader() function to load the opened file.\n",
    "4. Call list() on the result to get a list of all the data in the file.\n",
    "5. Assign the result to the variable data.\n",
    "6. Display the first 5 rows of data to verify everything."
   ]
  },
  {
   "cell_type": "code",
   "execution_count": 21,
   "metadata": {
    "collapsed": false
   },
   "outputs": [
    {
     "name": "stdout",
     "output_type": "stream",
     "text": [
      "[['', 'year', 'month', 'intent', 'police', 'sex', 'age', 'race', 'hispanic', 'place', 'education'], ['1', '2012', '01', 'Suicide', '0', 'M', '34', 'Asian/Pacific Islander', '100', 'Home', '4'], ['2', '2012', '01', 'Suicide', '0', 'F', '21', 'White', '100', 'Street', '3'], ['3', '2012', '01', 'Suicide', '0', 'M', '60', 'White', '100', 'Other specified', '4'], ['4', '2012', '02', 'Suicide', '0', 'M', '64', 'White', '100', 'Home', '4']]\n"
     ]
    }
   ],
   "source": [
    "import csv\n",
    "import datetime\n",
    "data = list(csv.reader(open('guns.csv','r')))\n",
    "print(data[0:5])"
   ]
  },
  {
   "cell_type": "markdown",
   "metadata": {},
   "source": [
    "# Removing Headers From A List Of Lists\n",
    "1. Extract the first row of data, and assign it to the variable headers.\n",
    "2. Remove the first row from data.\n",
    "3. Display headers.\n",
    "4. Display the first 5 rows of data to verify that you removed the header row properly."
   ]
  },
  {
   "cell_type": "code",
   "execution_count": 18,
   "metadata": {
    "collapsed": false
   },
   "outputs": [
    {
     "name": "stdout",
     "output_type": "stream",
     "text": [
      "\n",
      "\n",
      "Headers \n",
      " ====== \n",
      " [['1', '2012', '01', 'Suicide', '0', 'M', '34', 'Asian/Pacific Islander', '100', 'Home', '4']]\n",
      "\n",
      "\n",
      "[['2', '2012', '01', 'Suicide', '0', 'F', '21', 'White', '100', 'Street', '3'], ['3', '2012', '01', 'Suicide', '0', 'M', '60', 'White', '100', 'Other specified', '4'], ['4', '2012', '02', 'Suicide', '0', 'M', '64', 'White', '100', 'Home', '4'], ['5', '2012', '02', 'Suicide', '0', 'M', '31', 'White', '100', 'Other specified', '2'], ['6', '2012', '02', 'Suicide', '0', 'M', '17', 'Native American/Native Alaskan', '100', 'Home', '1']]\n"
     ]
    }
   ],
   "source": [
    "headers = data[0]\n",
    "headers = data[:1]\n",
    "data = data[1:len(data)]\n",
    "print(\"\\n\")\n",
    "print(\"Headers\", \"\\n\",\"======\" , \"\\n\",headers)\n",
    "print(\"\\n\")\n",
    "print(data[:5])"
   ]
  },
  {
   "cell_type": "markdown",
   "metadata": {},
   "source": [
    "# Counting Gun Deaths By Year\n",
    "1. Use a list comprehension to extract the year column from data.\n",
    "Because the year column is the second column in the data, you'll need to get the element at index 1 in each row.\n",
    "Assign the result to the variable years.\n",
    "2. Create an empty dictionary called year_counts.\n",
    "3. Loop through each element in years.\n",
    "If the element isn't a key in year_counts, create it, and set the value to 1.\n",
    "If the element is a key in year_counts, increment the value by one.\n",
    "4. Display year_counts to see how many gun deaths occur in each year."
   ]
  },
  {
   "cell_type": "code",
   "execution_count": 3,
   "metadata": {
    "collapsed": false
   },
   "outputs": [
    {
     "name": "stdout",
     "output_type": "stream",
     "text": [
      "['2012', '2012', '2012', '2012', '2012']\n",
      "{'2013': 33636, '2014': 33599, '2012': 33563}\n"
     ]
    }
   ],
   "source": [
    "years = [i[1] for i in data]\n",
    "print(years[0:5])\n",
    "year_counts = {}\n",
    "for i in years:\n",
    "    if i in year_counts:\n",
    "        year_counts[i] = year_counts[i] + 1\n",
    "    else:\n",
    "        year_counts[i] = 1\n",
    "        \n",
    "print(year_counts)"
   ]
  },
  {
   "cell_type": "markdown",
   "metadata": {},
   "source": [
    "# Exploring Gun Deaths By Month And Year\n",
    "1. Use a list comprehension to create a datetime.datetime object for each row. Assign the result to dates.\n",
    "The year column in the second element in each row.\n",
    "The month column is the third element in each row.\n",
    "Make sure to convert year and month to integers using int().\n",
    "Pass year, month, and day=1 into the datetime.datetime() function.\n",
    "2. Display the first 5 rows in dates to verify everything worked.\n",
    "3. Count up how many times each unique date occurs in dates. Assign the result to date_counts.\n",
    "This follows a similar procedure to what we did in the last screen with year_counts.\n",
    "4. Display date_counts."
   ]
  },
  {
   "cell_type": "code",
   "execution_count": 4,
   "metadata": {
    "collapsed": false
   },
   "outputs": [
    {
     "name": "stdout",
     "output_type": "stream",
     "text": [
      "[datetime.datetime(2012, 1, 1, 0, 0), datetime.datetime(2012, 1, 1, 0, 0), datetime.datetime(2012, 1, 1, 0, 0), datetime.datetime(2012, 2, 1, 0, 0), datetime.datetime(2012, 2, 1, 0, 0)]\n",
      "\n",
      "\n"
     ]
    }
   ],
   "source": [
    "#Exploring gun deaths by month, year\n",
    "dates = []\n",
    "for i in data:\n",
    "    tmp = datetime.datetime(year=int(i[1]), month=int(i[2]), day=1)\n",
    "    dates.append(tmp)\n",
    "    \n",
    "print(dates[:5])\n",
    "print(\"\\n\")\n",
    "\n",
    "date_counts = {}\n",
    "for i in dates:\n",
    "    if i in date_counts:\n",
    "        date_counts[i] = date_counts[i] + 1\n",
    "    else:\n",
    "        date_counts[i] = 1"
   ]
  },
  {
   "cell_type": "code",
   "execution_count": 10,
   "metadata": {
    "collapsed": false
   },
   "outputs": [
    {
     "data": {
      "text/plain": [
       "{datetime.datetime(2012, 1, 1, 0, 0): 2758,\n",
       " datetime.datetime(2012, 2, 1, 0, 0): 2357,\n",
       " datetime.datetime(2012, 3, 1, 0, 0): 2743,\n",
       " datetime.datetime(2012, 4, 1, 0, 0): 2795,\n",
       " datetime.datetime(2012, 5, 1, 0, 0): 2999,\n",
       " datetime.datetime(2012, 6, 1, 0, 0): 2826,\n",
       " datetime.datetime(2012, 7, 1, 0, 0): 3026,\n",
       " datetime.datetime(2012, 8, 1, 0, 0): 2954,\n",
       " datetime.datetime(2012, 9, 1, 0, 0): 2852,\n",
       " datetime.datetime(2012, 10, 1, 0, 0): 2733,\n",
       " datetime.datetime(2012, 11, 1, 0, 0): 2729,\n",
       " datetime.datetime(2012, 12, 1, 0, 0): 2791,\n",
       " datetime.datetime(2013, 1, 1, 0, 0): 2864,\n",
       " datetime.datetime(2013, 2, 1, 0, 0): 2375,\n",
       " datetime.datetime(2013, 3, 1, 0, 0): 2862,\n",
       " datetime.datetime(2013, 4, 1, 0, 0): 2798,\n",
       " datetime.datetime(2013, 5, 1, 0, 0): 2806,\n",
       " datetime.datetime(2013, 6, 1, 0, 0): 2920,\n",
       " datetime.datetime(2013, 7, 1, 0, 0): 3079,\n",
       " datetime.datetime(2013, 8, 1, 0, 0): 2859,\n",
       " datetime.datetime(2013, 9, 1, 0, 0): 2742,\n",
       " datetime.datetime(2013, 10, 1, 0, 0): 2808,\n",
       " datetime.datetime(2013, 11, 1, 0, 0): 2758,\n",
       " datetime.datetime(2013, 12, 1, 0, 0): 2765,\n",
       " datetime.datetime(2014, 1, 1, 0, 0): 2651,\n",
       " datetime.datetime(2014, 2, 1, 0, 0): 2361,\n",
       " datetime.datetime(2014, 3, 1, 0, 0): 2684,\n",
       " datetime.datetime(2014, 4, 1, 0, 0): 2862,\n",
       " datetime.datetime(2014, 5, 1, 0, 0): 2864,\n",
       " datetime.datetime(2014, 6, 1, 0, 0): 2931,\n",
       " datetime.datetime(2014, 7, 1, 0, 0): 2884,\n",
       " datetime.datetime(2014, 8, 1, 0, 0): 2970,\n",
       " datetime.datetime(2014, 9, 1, 0, 0): 2914,\n",
       " datetime.datetime(2014, 10, 1, 0, 0): 2865,\n",
       " datetime.datetime(2014, 11, 1, 0, 0): 2756,\n",
       " datetime.datetime(2014, 12, 1, 0, 0): 2857}"
      ]
     },
     "execution_count": 10,
     "metadata": {},
     "output_type": "execute_result"
    }
   ],
   "source": [
    "date_counts"
   ]
  },
  {
   "cell_type": "markdown",
   "metadata": {},
   "source": [
    "# Exploring Gun Deaths By Race And Sex\n",
    "1. Count up how many times each item in the sex column occurs.\n",
    "Assign the result to sex_counts.\n",
    "2. Count up how many times each item in the race column occurs.\n",
    "Assign the result to race_counts.\n",
    "3. Display race_counts and sex_counts to verify your work, and see if you can spot any patterns.\n",
    "4. Write a markdown cell detailing what you've learned so far, and what you think might need further examination."
   ]
  },
  {
   "cell_type": "code",
   "execution_count": 5,
   "metadata": {
    "collapsed": false
   },
   "outputs": [
    {
     "name": "stdout",
     "output_type": "stream",
     "text": [
      "{'M': 86349, 'F': 14449}\n"
     ]
    }
   ],
   "source": [
    "#Exploring gun deaths by sex\n",
    "sex_counts = {}\n",
    "for i in data:\n",
    "    if i[5] in sex_counts:\n",
    "        sex_counts[i[5]] = sex_counts[i[5]] + 1\n",
    "    else:\n",
    "        sex_counts[i[5]] = 1\n",
    "print(sex_counts)"
   ]
  },
  {
   "cell_type": "code",
   "execution_count": 6,
   "metadata": {
    "collapsed": false
   },
   "outputs": [
    {
     "name": "stdout",
     "output_type": "stream",
     "text": [
      "{'White': 66237, 'Black': 23296, 'Hispanic': 9022, 'Asian/Pacific Islander': 1326, 'Native American/Native Alaskan': 917}\n"
     ]
    }
   ],
   "source": [
    "#Exploring gun deaths by race\n",
    "race_counts = {}\n",
    "for i in data:\n",
    "    if i[7] in race_counts:\n",
    "        race_counts[i[7]] = race_counts[i[7]] + 1\n",
    "    else:\n",
    "        race_counts[i[7]] = 1\n",
    "print(race_counts)"
   ]
  },
  {
   "cell_type": "markdown",
   "metadata": {},
   "source": [
    "# Reading In A Second Dataset\n",
    "We explored gun deaths by race in the past screen. However, our analysis only gives us the total number of gun deaths by race in the US. Unless we know the proportion of each race in the US, we won't be able to meaningfully compare those numbers. What we really want to get is a rate of gun deaths per 100000 people of each race. In order to do this, we'll need to read in data about what percentage of the US population falls into each racial category. Luckily, we can import some census data to help us out.\n",
    "\n",
    "The data contains information on the total population of the US, as well as the total population of each racial group in the US. The data is stored in the census.csv file, and only consists of two rows:\n",
    "\n",
    "We'll need to read this file in using the csv.reader() function.\n",
    "\n",
    "Instructions\n",
    "Read in census.csv, and convert to a list of lists. Assign the result to the census variable.\n",
    "Display census to verify your work."
   ]
  },
  {
   "cell_type": "code",
   "execution_count": 7,
   "metadata": {
    "collapsed": false
   },
   "outputs": [
    {
     "name": "stdout",
     "output_type": "stream",
     "text": [
      "[['Id', 'Year', 'Id', 'Sex', 'Id', 'Hispanic Origin', 'Id', 'Id2', 'Geography', 'Total', 'Race Alone - White', 'Race Alone - Hispanic', 'Race Alone - Black or African American', 'Race Alone - American Indian and Alaska Native', 'Race Alone - Asian', 'Race Alone - Native Hawaiian and Other Pacific Islander', 'Two or More Races'], ['cen42010', 'April 1, 2010 Census', 'totsex', 'Both Sexes', 'tothisp', 'Total', '0100000US', '', 'United States', '308745538', '197318956', '44618105', '40250635', '3739506', '15159516', '674625', '6984195']]\n"
     ]
    }
   ],
   "source": [
    "data2 = list(csv.reader(open('census.csv', 'r')))\n",
    "print(data2)\n",
    "\n",
    "mapping = {'White': 197318956, \n",
    "           'Native American/Native Alaskan' : 3739506, \n",
    "           'Hispanic' : 44618105, \n",
    "           'Black' : 40250635, \n",
    "           'Asian/Pacific Islander' : 15834141}"
   ]
  },
  {
   "cell_type": "markdown",
   "metadata": {},
   "source": [
    "# Computing Rates Of Gun Deaths Per Race\n",
    "\n",
    "Earlier, we computed the number of gun deaths per race, and created a dictionary, race_counts, that looked like this:\n",
    "\n",
    "\n",
    "{\n",
    "     'Asian/Pacific Islander': 1326,\n",
    "     'Black': 23296,\n",
    "     'Hispanic': 9022,\n",
    "     'Native American/Native Alaskan': 917,\n",
    "     'White': 66237\n",
    "}\n",
    "In order to get from the raw counts of gun deaths by race to a rate of gun deaths per 100000 people in each race, we'll need to divide the total number of gun deaths by the population of each race and then multiply this by 100000. \n",
    "\n",
    "Here's a list of the race name in data, and the corresponding race name in census:\n",
    "\n",
    "Asian/Pacific Islander -- Race Alone - Asian plus Race Alone - Native Hawaiian and Other Pacific Islander.\n",
    "Black -- Race Alone - Black or African American.\n",
    "Hispanic -- Race Alone - Hispanic\n",
    "Native American/Native Alaskan -- Race Alone - American Indian and Alaska Native\n",
    "White -- Race Alone - White\n",
    "We'll need to create a dictionary that has each race name from data as a key, and has the population count for the races from census as the values.\n",
    "\n",
    "Instructions\n",
    "1. Manually create a dictionary, mapping that maps each key from race_counts to the population count of the race from census.\n",
    "The keys in the dictionary should be Asian/Pacific Islander, Black, Native American/Native Alaskan, Hispanic, and White.\n",
    "In the case of Asian/Pacific Islander, you'll need to add the counts from census for Race Alone - Asian, and Race Alone - Native Hawaiian and Other Pacific Islander.\n",
    "2. Create an empty dictionary, race_per_hundredk.\n",
    "3. Loop through each key in race_counts.\n",
    "Divide the value associated with the key in race_counts by the value associated with the key in mapping.\n",
    "Multiply by 100000.\n",
    "Assign the result to the same key in race_per_hundredk.\n",
    "4. When you're done, race_per_hundredk should contain the rate of gun deaths per 100000 people for each racial category.\n",
    "5. Print race_per_hundredk to verify your work."
   ]
  },
  {
   "cell_type": "code",
   "execution_count": 11,
   "metadata": {
    "collapsed": false
   },
   "outputs": [],
   "source": [
    "race_per_hundredk = {}\n",
    "\n",
    "for i in race_counts:\n",
    "    race_per_hundredk[i] = (race_counts[i]/mapping[i])*100000"
   ]
  },
  {
   "cell_type": "code",
   "execution_count": 12,
   "metadata": {
    "collapsed": false
   },
   "outputs": [
    {
     "data": {
      "text/plain": [
       "{'Asian/Pacific Islander': 8.374309664161762,\n",
       " 'Black': 57.8773477735196,\n",
       " 'Hispanic': 20.220491210910907,\n",
       " 'Native American/Native Alaskan': 24.521955573811088,\n",
       " 'White': 33.56849303419181}"
      ]
     },
     "execution_count": 12,
     "metadata": {},
     "output_type": "execute_result"
    }
   ],
   "source": [
    "race_per_hundredk"
   ]
  },
  {
   "cell_type": "markdown",
   "metadata": {},
   "source": [
    "# Filtering By Intent\n",
    "We can filter our results, and restrict them to the Homicide intent. This will tell us what the gun-related murder rate per 100000 people in each racial category is. In order to do this, we'll need to redo our work in generating race_counts, but only count rows where the intent was Homicide.\n",
    "\n",
    "Instructions\n",
    "1. Extract the intent column using a list comprehension. The intent column is the fourth column in data.\n",
    "Assign the result to intents.\n",
    "2. Extract the race column using a list comprehension. The race column is the eighth column in data.\n",
    "Assign the result to races.\n",
    "3. Create an empty dictionary called homicide_race_per_hundredk\n",
    "4. Use the enumerate() function to loop through each item in races. The position should be assigned to the loop variable i, and the value to the loop variable race.\n",
    "Check the value at position i in intents.\n",
    "If the value at position i in intents is Homicide:\n",
    "If the key race doesn't exist in homicide_race_per_hundredk, create it.\n",
    "Add 1 to the value associated with race in homicide_race_per_hundredk.\n",
    "5. When you're done, homicide_race_per_hundredk should have one key for each of the racial categories in data. The associated value should be the number of gun deaths by homicide for that race.\n",
    "6. Perform the same procedure we did in the last screen using mapping on homicide_race_per_hundredk to get from raw numbers to rates per 100000.\n",
    "7. Display homicide_race_per_hundredk to verify your work.\n",
    "8. Write up your findings in a markdown cell.\n",
    "9. Write up any next steps you want to pursue with the data in a markdown cell."
   ]
  },
  {
   "cell_type": "code",
   "execution_count": 13,
   "metadata": {
    "collapsed": false
   },
   "outputs": [],
   "source": [
    "intents = [i[3] for i in data]\n",
    "races = [i[7] for i in data]\n",
    "\n",
    "homicide_race_per_hundredk = {}\n",
    "\n",
    "for i, j in enumerate(races):\n",
    "    if intents[i] == 'Homicide':\n",
    "        if j in homicide_race_per_hundredk:\n",
    "            homicide_race_per_hundredk[j] = homicide_race_per_hundredk[j] + 1\n",
    "        else:\n",
    "            homicide_race_per_hundredk[j] = 1"
   ]
  },
  {
   "cell_type": "code",
   "execution_count": 14,
   "metadata": {
    "collapsed": false
   },
   "outputs": [
    {
     "data": {
      "text/plain": [
       "{'Asian/Pacific Islander': 559,\n",
       " 'Black': 19510,\n",
       " 'Hispanic': 5634,\n",
       " 'Native American/Native Alaskan': 326,\n",
       " 'White': 9147}"
      ]
     },
     "execution_count": 14,
     "metadata": {},
     "output_type": "execute_result"
    }
   ],
   "source": [
    "homicide_race_per_hundredk\n"
   ]
  },
  {
   "cell_type": "code",
   "execution_count": 15,
   "metadata": {
    "collapsed": true
   },
   "outputs": [],
   "source": [
    "for i,j in homicide_race_per_hundredk.items():\n",
    "    homicide_race_per_hundredk[i] = (j/mapping[i])*100000\n",
    "    "
   ]
  },
  {
   "cell_type": "code",
   "execution_count": 16,
   "metadata": {
    "collapsed": false
   },
   "outputs": [
    {
     "data": {
      "text/plain": [
       "{'Asian/Pacific Islander': 3.530346230970155,\n",
       " 'Black': 48.471284987180944,\n",
       " 'Hispanic': 12.627161104219914,\n",
       " 'Native American/Native Alaskan': 8.717729026240365,\n",
       " 'White': 4.6356417981453335}"
      ]
     },
     "execution_count": 16,
     "metadata": {},
     "output_type": "execute_result"
    }
   ],
   "source": [
    "homicide_race_per_hundredk"
   ]
  }
 ],
 "metadata": {
  "kernelspec": {
   "display_name": "Python 3",
   "language": "python",
   "name": "python3"
  },
  "language_info": {
   "codemirror_mode": {
    "name": "ipython",
    "version": 3
   },
   "file_extension": ".py",
   "mimetype": "text/x-python",
   "name": "python",
   "nbconvert_exporter": "python",
   "pygments_lexer": "ipython3",
   "version": "3.4.3"
  }
 },
 "nbformat": 4,
 "nbformat_minor": 0
}
