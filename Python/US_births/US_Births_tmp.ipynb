{
 "cells": [
  {
   "cell_type": "markdown",
   "metadata": {},
   "source": [
    "#Introduction To The Dataset\n",
    "The dataset contains the following columns:\n",
    "year: Year (1994 to 2003). month: Month (1 to 12). date_of_month: Day number of the month (1 to 31). day_of_week: Day of week (1 to 7). births: Number of births that day. First things first, let's read in the CSV file and explore it.\n",
    "#Functions"
   ]
  },
  {
   "cell_type": "code",
   "execution_count": 1,
   "metadata": {
    "collapsed": false
   },
   "outputs": [],
   "source": [
    "# Read and split the fields\n",
    "def read_csv(file):\n",
    "    strlst = open(file).read().split(\"\\n\")\n",
    "    string_list = strlst[1:len(strlst)]\n",
    "    \n",
    "    final_list = []\n",
    "    for i in string_list:\n",
    "        string_fields = i.split(\",\")\n",
    "        int_fields = []\n",
    "        for j in string_fields:\n",
    "            int_fields.append(int(j))\n",
    "        final_list.append(int_fields)\n",
    "    return(final_list)    \n",
    "\n",
    "'''\n",
    "Calculate number of births by month\n",
    "'''\n",
    "def month_births(birth_list):\n",
    "    births_per_month = {}\n",
    "    for mnth in birth_list:\n",
    "        if mnth[1] in births_per_month:\n",
    "            births_per_month[mnth[1]] = births_per_month[mnth[1]] \\\n",
    "               + mnth[4]\n",
    "        else:\n",
    "            births_per_month[mnth[1]] = mnth[4]\n",
    "    return(births_per_month)  \n",
    "\n",
    "'''\n",
    "Calculate number of births each day of week\n",
    "'''\n",
    "def dow_births(birth_list):\n",
    "    births_per_day = {}\n",
    "    for day in birth_list:\n",
    "        if day[3] in births_per_day:\n",
    "            births_per_day[day[3]] = births_per_day[day[3]] + day[4]\n",
    "        else:\n",
    "            births_per_day[day[3]] = day[4]\n",
    "    return(births_per_day)\n",
    "\n",
    "'''\n",
    "Calculate number of births by Year/month/date_of_month/day_of_week by\n",
    "specifying the list and column position (year = 1, month = 2, \n",
    "date_of_month = 3, day_of_week = 4)\n",
    "'''\n",
    "def calc_counts(birth_list, col_pos):\n",
    "    totals = {}\n",
    "    for i in birth_list:\n",
    "        if i[col_pos-1] in totals:\n",
    "            totals[i[col_pos-1]] = totals[i[col_pos-1]] + i[4]\n",
    "        else:\n",
    "            totals[i[col_pos-1]] = i[4]\n",
    "    return(totals)\n",
    "\n",
    "''' \n",
    "Calculate min and max key/values in a dictionary \n",
    "'''\n",
    "def calc_minmax(datset):\n",
    "    minval = min(datset.values())\n",
    "    maxval = max(datset.values())\n",
    "    minkey = min(datset.keys())\n",
    "    maxkey = max(datset.keys())\n",
    "    return(minkey, maxkey, minval, maxval)    \n",
    "              \n",
    "''' \n",
    "Sort the dictionary by key/val (parm = 1 for sort by key, \n",
    "parm = 2 for sort by value) \n",
    "'''\n",
    "from collections import OrderedDict\n",
    "def sort_dict(datset, parm):\n",
    "    if(parm == 1):\n",
    "        ordered = OrderedDict(sorted(datset.items(), key = lambda a: a[0]))\n",
    "    elif(parm == 2):\n",
    "        ordered = OrderedDict(sorted(datset.items(), key = lambda a: a[1]))\n",
    "    return(ordered)\n"
   ]
  },
  {
   "cell_type": "code",
   "execution_count": 2,
   "metadata": {
    "collapsed": false
   },
   "outputs": [
    {
     "name": "stdout",
     "output_type": "stream",
     "text": [
      "\n",
      "-----------------\n",
      "First 10 elements\n",
      "-----------------\n",
      "[[1994, 1, 1, 6, 8096], [1994, 1, 2, 7, 7772], [1994, 1, 3, 1, 10142], [1994, 1, 4, 2, 11248], [1994, 1, 5, 3, 11053], [1994, 1, 6, 4, 11406], [1994, 1, 7, 5, 11251], [1994, 1, 8, 6, 8653], [1994, 1, 9, 7, 7910], [1994, 1, 10, 1, 10498]]\n"
     ]
    }
   ],
   "source": [
    "# Main logic\n",
    "cdc_list = read_csv(r'D:\\GitHub\\Data-Science\\Python\\Exercise3\\US_births_1994-2003_CDC_NCHS.csv')\n",
    "print(\"\\n-----------------\")\n",
    "print(\"First 10 elements\")\n",
    "print(\"-----------------\")\n",
    "print(cdc_list[0:10])"
   ]
  },
  {
   "cell_type": "code",
   "execution_count": 3,
   "metadata": {
    "collapsed": false
   },
   "outputs": [
    {
     "name": "stdout",
     "output_type": "stream",
     "text": [
      "\n",
      "---------------------------------\n",
      "Number of births each day of week\n",
      "---------------------------------\n",
      "{1: 5789166, 2: 6446196, 3: 6322855, 4: 6288429, 5: 6233657, 6: 4562111, 7: 4079723}\n"
     ]
    }
   ],
   "source": [
    "#Number of births each day of week\n",
    "cdc_day_births = dow_births(cdc_list)\n",
    "print(\"\\n---------------------------------\")\n",
    "print(\"Number of births each day of week\")\n",
    "print(\"---------------------------------\")\n",
    "print(cdc_day_births)"
   ]
  },
  {
   "cell_type": "code",
   "execution_count": 4,
   "metadata": {
    "collapsed": false
   },
   "outputs": [
    {
     "name": "stdout",
     "output_type": "stream",
     "text": [
      "\n",
      "-------------\n",
      "Yearly totals\n",
      "-------------\n",
      "{2000: 4058814, 2001: 4025933, 2002: 4021726, 2003: 4089950, 1994: 3952767, 1995: 3899589, 1996: 3891494, 1997: 3880894, 1998: 3941553, 1999: 3959417}\n"
     ]
    }
   ],
   "source": [
    "#Calculate number of births by Year by specifying the list \n",
    "#and column pos (year = 1)\n",
    "cdc_year_births = calc_counts(cdc_list,1)\n",
    "print(\"\\n-------------\")\n",
    "print(\"Yearly totals\")\n",
    "print(\"-------------\")\n",
    "print(cdc_year_births)"
   ]
  },
  {
   "cell_type": "code",
   "execution_count": 5,
   "metadata": {
    "collapsed": false
   },
   "outputs": [
    {
     "name": "stdout",
     "output_type": "stream",
     "text": [
      "\n",
      "---------------\n",
      "Monthly totals:\n",
      "---------------\n",
      "{1: 3232517, 2: 3018140, 3: 3322069, 4: 3185314, 5: 3350907, 6: 3296530, 7: 3498783, 8: 3525858, 9: 3439698, 10: 3378814, 11: 3171647, 12: 3301860}\n"
     ]
    }
   ],
   "source": [
    "#Calculate number of births by month by specifying the list \n",
    "#and column pos (month = 2)\n",
    "cdc_month_births = calc_counts(cdc_list,2)\n",
    "print(\"\\n---------------\")\n",
    "print(\"Monthly totals:\")\n",
    "print(\"---------------\")\n",
    "print(cdc_month_births)"
   ]
  },
  {
   "cell_type": "code",
   "execution_count": 6,
   "metadata": {
    "collapsed": false
   },
   "outputs": [
    {
     "name": "stdout",
     "output_type": "stream",
     "text": [
      "\n",
      "--------------------\n",
      "Day-of-month-totals:\n",
      "--------------------\n",
      "{1: 1276557, 2: 1288739, 3: 1304499, 4: 1288154, 5: 1299953, 6: 1304474, 7: 1310459, 8: 1312297, 9: 1303292, 10: 1320764, 11: 1314361, 12: 1318437, 13: 1277684, 14: 1320153, 15: 1319171, 16: 1315192, 17: 1324953, 18: 1326855, 19: 1318727, 20: 1324821, 21: 1322897, 22: 1317381, 23: 1293290, 24: 1288083, 25: 1272116, 26: 1284796, 27: 1294395, 28: 1307685, 29: 1223161, 30: 1202095, 31: 746696}\n"
     ]
    }
   ],
   "source": [
    "#Calculate number of births by date by specifying the list \n",
    "#and column pos (date_of_month = 3)\n",
    "cdc_dom_births = calc_counts(cdc_list,3)\n",
    "print(\"\\n--------------------\")\n",
    "print(\"Day-of-month-totals:\")\n",
    "print(\"--------------------\")\n",
    "print(cdc_dom_births)"
   ]
  },
  {
   "cell_type": "code",
   "execution_count": 7,
   "metadata": {
    "collapsed": false
   },
   "outputs": [
    {
     "name": "stdout",
     "output_type": "stream",
     "text": [
      "\n",
      "-------------------\n",
      "Day-of-week-totals:\n",
      "-------------------\n",
      "{1: 5789166, 2: 6446196, 3: 6322855, 4: 6288429, 5: 6233657, 6: 4562111, 7: 4079723}\n"
     ]
    }
   ],
   "source": [
    "#Calculate number of births by week by specifying the list \n",
    "#and column pos (day_of_week = 4)\n",
    "cdc_dow_births = calc_counts(cdc_list,4)\n",
    "print(\"\\n-------------------\")\n",
    "print(\"Day-of-week-totals:\")\n",
    "print(\"-------------------\")\n",
    "print(cdc_dow_births)"
   ]
  },
  {
   "cell_type": "code",
   "execution_count": 8,
   "metadata": {
    "collapsed": false
   },
   "outputs": [
    {
     "name": "stdout",
     "output_type": "stream",
     "text": [
      "\n",
      "------------------------\n",
      "Dict Keys (Day-of-week):\n",
      "------------------------\n",
      "dict_keys([1, 2, 3, 4, 5, 6, 7])\n"
     ]
    }
   ],
   "source": [
    "# Print the keys of a dictionary\n",
    "print(\"\\n------------------------\")\n",
    "print(\"Dict Keys (Day-of-week):\")\n",
    "print(\"------------------------\")\n",
    "print(cdc_dow_births.keys())"
   ]
  },
  {
   "cell_type": "code",
   "execution_count": 9,
   "metadata": {
    "collapsed": false
   },
   "outputs": [
    {
     "name": "stdout",
     "output_type": "stream",
     "text": [
      "\n",
      "-------------------------\n",
      "Dict Values (Day-of-week:\n",
      "-------------------------\n",
      "dict_values([5789166, 6446196, 6322855, 6288429, 6233657, 4562111, 4079723])\n"
     ]
    }
   ],
   "source": [
    "# Print the values of the dictionary\n",
    "print(\"\\n-------------------------\")\n",
    "print(\"Dict Values (Day-of-week:\")\n",
    "print(\"-------------------------\")\n",
    "print(cdc_dow_births.values())"
   ]
  },
  {
   "cell_type": "code",
   "execution_count": 10,
   "metadata": {
    "collapsed": false
   },
   "outputs": [
    {
     "name": "stdout",
     "output_type": "stream",
     "text": [
      "\n",
      "-------------------\n",
      "Min/Max key/values:\n",
      "-------------------\n",
      "Min_key:  1994 \n",
      "Max_key:  2003 \n",
      "Min_val:  3880894 \n",
      "Max_val:  4089950\n"
     ]
    }
   ],
   "source": [
    "# Calculate the minimum, maximum value of keys, values in dictionary\n",
    "minmax = calc_minmax(cdc_year_births)\n",
    "print(\"\\n-------------------\")\n",
    "print(\"Min/Max key/values:\")\n",
    "print(\"-------------------\")\n",
    "print(\"Min_key: \", minmax[0], \"\\nMax_key: \", minmax[1], \"\\nMin_val: \" \\\n",
    "      , minmax[2], \"\\nMax_val: \" , minmax[3])"
   ]
  },
  {
   "cell_type": "code",
   "execution_count": 11,
   "metadata": {
    "collapsed": false
   },
   "outputs": [
    {
     "name": "stdout",
     "output_type": "stream",
     "text": [
      "\n",
      "----------------------------------------\n",
      "Sort by key (in-built function 'sorted')\n",
      "----------------------------------------\n",
      "[1994, 1995, 1996, 1997, 1998, 1999, 2000, 2001, 2002, 2003]\n"
     ]
    }
   ],
   "source": [
    "# Sort the dictionary based on key (in-built function sorted)\n",
    "print(\"\\n----------------------------------------\")\n",
    "print(\"Sort by key (in-built function 'sorted')\")\n",
    "print(\"----------------------------------------\")\n",
    "print(sorted(cdc_year_births))"
   ]
  },
  {
   "cell_type": "code",
   "execution_count": 12,
   "metadata": {
    "collapsed": false
   },
   "outputs": [
    {
     "name": "stdout",
     "output_type": "stream",
     "text": [
      "\n",
      "----------------------\n",
      "Sort by key (parm = 1)\n",
      "----------------------\n",
      "OrderedDict([(1994, 3952767), (1995, 3899589), (1996, 3891494), (1997, 3880894), (1998, 3941553), (1999, 3959417), (2000, 4058814), (2001, 4025933), (2002, 4021726), (2003, 4089950)])\n"
     ]
    }
   ],
   "source": [
    "# Sort the dictionary based on key (user defined function)\n",
    "print(\"\\n----------------------\")\n",
    "print(\"Sort by key (parm = 1)\")\n",
    "print(\"----------------------\")\n",
    "sortbykey = sort_dict(cdc_year_births, 1)\n",
    "print(sortbykey)"
   ]
  },
  {
   "cell_type": "code",
   "execution_count": 13,
   "metadata": {
    "collapsed": false
   },
   "outputs": [
    {
     "name": "stdout",
     "output_type": "stream",
     "text": [
      "\n",
      "----------------------\n",
      "Sort by val (parm = 2)\n",
      "----------------------\n",
      "OrderedDict([(1997, 3880894), (1996, 3891494), (1995, 3899589), (1998, 3941553), (1994, 3952767), (1999, 3959417), (2002, 4021726), (2001, 4025933), (2000, 4058814), (2003, 4089950)])\n"
     ]
    }
   ],
   "source": [
    "# Sort the dictionary based on value (user defined function)\n",
    "print(\"\\n----------------------\")\n",
    "print(\"Sort by val (parm = 2)\")\n",
    "print(\"----------------------\")\n",
    "sortbyval = sort_dict(cdc_year_births, 2)\n",
    "print(sortbyval)"
   ]
  },
  {
   "cell_type": "code",
   "execution_count": 14,
   "metadata": {
    "collapsed": false
   },
   "outputs": [],
   "source": [
    "# Main logic\n",
    "#cdc_list = read_csv('US_births_1994-2003_CDC_NCHS.csv')\n",
    "year_list = []\n",
    "mon_list = []\n",
    "dat_list = []\n",
    "day_list = []\n",
    "for i in cdc_list:\n",
    "    year_list.append(i[0])\n",
    "    mon_list.append(i[1])\n",
    "    dat_list.append(i[2])\n",
    "    day_list.append(i[3])\n",
    "\n",
    "unique_yrs = set(year_list)\n",
    "unique_mnt = set(mon_list)\n",
    "unique_dat = set(dat_list)\n",
    "unique_day = set(day_list)"
   ]
  },
  {
   "cell_type": "code",
   "execution_count": 15,
   "metadata": {
    "collapsed": false
   },
   "outputs": [
    {
     "name": "stdout",
     "output_type": "stream",
     "text": [
      "{1994, 1995, 1996, 1997, 1998, 1999, 2000, 2001, 2002, 2003}\n",
      "{1, 2, 3, 4, 5, 6, 7, 8, 9, 10, 11, 12}\n",
      "{1, 2, 3, 4, 5, 6, 7, 8, 9, 10, 11, 12, 13, 14, 15, 16, 17, 18, 19, 20, 21, 22, 23, 24, 25, 26, 27, 28, 29, 30, 31}\n",
      "{1, 2, 3, 4, 5, 6, 7}\n"
     ]
    }
   ],
   "source": [
    "print(unique_yrs)\n",
    "print(unique_mnt)\n",
    "print(unique_dat)\n",
    "print(unique_day)"
   ]
  },
  {
   "cell_type": "code",
   "execution_count": 16,
   "metadata": {
    "collapsed": true
   },
   "outputs": [],
   "source": [
    "#Find the sum of total births month wise for year\n",
    "'''\n",
    "parm = 1 (month), 2 (date of month), 3 (day of week)\n",
    "val = 1-12 (if parm = 1)\n",
    "    = 1-31 (if parm = 2)\n",
    "    = 1-7 (if parm = 3)\n",
    "'''\n",
    "\n",
    "def year_beh(year, parm, val):\n",
    "    new_lst = []\n",
    "    if parm == 1:\n",
    "        if val >= 1 and val <= 12:\n",
    "            tot = 0\n",
    "            for i in cdc_list:\n",
    "                if i[0] == year and i[1] == val:\n",
    "                    tot += i[4]\n",
    "            new_lst = [year, parm, val, tot]\n",
    "            return(new_lst)\n",
    "        else:\n",
    "            return(\"Invalid value of month entered for parameter 1\")\n",
    "    \n",
    "    elif parm == 2:\n",
    "        if val >= 1 and val <= 31:\n",
    "            tot = 0\n",
    "            for i in cdc_list:\n",
    "                if i[0] == year and i[2] == val:\n",
    "                    tot += i[4]\n",
    "            new_lst = [year, parm, val, tot]\n",
    "            return(new_lst)\n",
    "        else:\n",
    "            return(\"Invalid value of date entered for parameter 2\")\n",
    "    \n",
    "    elif parm == 3:\n",
    "        if val >= 1 and val <= 7:\n",
    "            tot = 0\n",
    "            for i in cdc_list:\n",
    "                if i[0] == year and i[3] == val:\n",
    "                    tot += i[4]\n",
    "            new_lst = [year, parm, val, tot]\n",
    "            return(new_lst)\n",
    "        else:\n",
    "            return(\"Invalid value of day entered for parameter 3\")"
   ]
  },
  {
   "cell_type": "code",
   "execution_count": 17,
   "metadata": {
    "collapsed": false
   },
   "outputs": [
    {
     "name": "stdout",
     "output_type": "stream",
     "text": [
      "[2003, 1, 1, 329803]\n",
      "[1993, 1, 1, 0]\n",
      "[1994, 1, 1, 320705]\n",
      "[1994, 2, 4, 128735]\n",
      "[2000, 2, 4, 129344]\n",
      "[1996, 3, 7, 413336]\n",
      "[2001, 3, 7, 397119]\n"
     ]
    }
   ],
   "source": [
    "print(year_beh(2003,1,1))\n",
    "print(year_beh(1993,1,1))\n",
    "print(year_beh(1994,1,1))\n",
    "print(year_beh(1994,2,4))\n",
    "print(year_beh(2000,2,4))\n",
    "print(year_beh(1996,3,7))\n",
    "print(year_beh(2001,3,7))"
   ]
  },
  {
   "cell_type": "code",
   "execution_count": 18,
   "metadata": {
    "collapsed": false
   },
   "outputs": [
    {
     "name": "stdout",
     "output_type": "stream",
     "text": [
      "Invalid value of month entered for parameter 1\n",
      "Invalid value of date entered for parameter 2\n",
      "Invalid value of day entered for parameter 3\n"
     ]
    }
   ],
   "source": [
    "print(year_beh(2003,1,14))\n",
    "print(year_beh(2003,2,35))\n",
    "print(year_beh(2003,3,10))"
   ]
  },
  {
   "cell_type": "code",
   "execution_count": 19,
   "metadata": {
    "collapsed": false
   },
   "outputs": [
    {
     "name": "stdout",
     "output_type": "stream",
     "text": [
      "[[1994, 1, 320705], [1994, 2, 301327], [1994, 3, 339736], [1994, 4, 317392], [1994, 5, 330295], [1994, 6, 329737], [1994, 7, 345862], [1994, 8, 352173], [1994, 9, 339223], [1994, 10, 330172], [1994, 11, 319397], [1994, 12, 326748], [1995, 1, 316013], [1995, 2, 295094], [1995, 3, 328503], [1995, 4, 309119], [1995, 5, 334543], [1995, 6, 329805], [1995, 7, 340873], [1995, 8, 350737], [1995, 9, 339103], [1995, 10, 330012], [1995, 11, 310817], [1995, 12, 314970], [1996, 1, 314283], [1996, 2, 301763], [1996, 3, 322581], [1996, 4, 312595], [1996, 5, 325708], [1996, 6, 318525], [1996, 7, 345162], [1996, 8, 346317], [1996, 9, 336348], [1996, 10, 336346], [1996, 11, 309397], [1996, 12, 322469], [1997, 1, 317211], [1997, 2, 291541], [1997, 3, 321212], [1997, 4, 314230], [1997, 5, 330331], [1997, 6, 321867], [1997, 7, 346506], [1997, 8, 339122], [1997, 9, 333600], [1997, 10, 328657], [1997, 11, 307282], [1997, 12, 329335], [1998, 1, 319340], [1998, 2, 298711], [1998, 3, 329436], [1998, 4, 319758], [1998, 5, 330519], [1998, 6, 327091], [1998, 7, 348651], [1998, 8, 344736], [1998, 9, 343384], [1998, 10, 332790], [1998, 11, 313241], [1998, 12, 333896], [1999, 1, 319182], [1999, 2, 297568], [1999, 3, 332939], [1999, 4, 316889], [1999, 5, 328526], [1999, 6, 332201], [1999, 7, 349812], [1999, 8, 351371], [1999, 9, 349409], [1999, 10, 332980], [1999, 11, 315289], [1999, 12, 333251], [2000, 1, 330108], [2000, 2, 317377], [2000, 3, 340553], [2000, 4, 317180], [2000, 5, 341207], [2000, 6, 341206], [2000, 7, 348975], [2000, 8, 360080], [2000, 9, 347609], [2000, 10, 343921], [2000, 11, 333811], [2000, 12, 336787], [2001, 1, 335198], [2001, 2, 303534], [2001, 3, 338684], [2001, 4, 323613], [2001, 5, 344017], [2001, 6, 331085], [2001, 7, 351047], [2001, 8, 361802], [2001, 9, 342564], [2001, 10, 344074], [2001, 11, 323746], [2001, 12, 326569], [2002, 1, 330674], [2002, 2, 303977], [2002, 3, 331505], [2002, 4, 324432], [2002, 5, 339007], [2002, 6, 327588], [2002, 7, 357669], [2002, 8, 359417], [2002, 9, 348814], [2002, 10, 345814], [2002, 11, 318573], [2002, 12, 334256], [2003, 1, 329803], [2003, 2, 307248], [2003, 3, 336920], [2003, 4, 330106], [2003, 5, 346754], [2003, 6, 337425], [2003, 7, 364226], [2003, 8, 360103], [2003, 9, 359644], [2003, 10, 354048], [2003, 11, 320094], [2003, 12, 343579]]\n"
     ]
    }
   ],
   "source": [
    "# Month wise summary for all years\n",
    "mon_sum_lst = []\n",
    "for yr in unique_yrs:\n",
    "    for mn in unique_mnt:\n",
    "        tot = 0\n",
    "        for i in cdc_list:\n",
    "            if i[0] == yr and i[1] == mn:\n",
    "                tot += i[4]\n",
    "        tmp_lst = [yr,mn,tot]\n",
    "        mon_sum_lst.append(tmp_lst)\n",
    "\n",
    "print(mon_sum_lst)"
   ]
  },
  {
   "cell_type": "code",
   "execution_count": 20,
   "metadata": {
    "collapsed": false
   },
   "outputs": [
    {
     "name": "stdout",
     "output_type": "stream",
     "text": [
      "[[1994, 1, 132515], [1994, 2, 128688], [1994, 3, 126213], [1994, 4, 128735], [1994, 5, 125279], [1994, 6, 128859], [1994, 7, 134629], [1994, 8, 133760], [1994, 9, 128391], [1994, 10, 127805], [1994, 11, 129910], [1994, 12, 129848], [1994, 13, 126379], [1994, 14, 135522], [1994, 15, 134843], [1994, 16, 130578], [1994, 17, 128644], [1994, 18, 131217], [1994, 19, 129101], [1994, 20, 130391], [1994, 21, 135427], [1994, 22, 134741], [1994, 23, 127311], [1994, 24, 124835], [1994, 25, 128632], [1994, 26, 126854], [1994, 27, 127901], [1994, 28, 135118], [1994, 29, 122366], [1994, 30, 114699], [1994, 31, 73576], [1995, 1, 127995], [1995, 2, 123816], [1995, 3, 126834], [1995, 4, 121511], [1995, 5, 125726], [1995, 6, 133246], [1995, 7, 133034], [1995, 8, 127736], [1995, 9, 125279], [1995, 10, 130022], [1995, 11, 127763], [1995, 12, 127406], [1995, 13, 129684], [1995, 14, 132424], [1995, 15, 129350], [1995, 16, 126365], [1995, 17, 130175], [1995, 18, 128216], [1995, 19, 127573], [1995, 20, 133679], [1995, 21, 133402], [1995, 22, 127854], [1995, 23, 122580], [1995, 24, 127197], [1995, 25, 123983], [1995, 26, 124867], [1995, 27, 133076], [1995, 28, 133734], [1995, 29, 113970], [1995, 30, 113897], [1995, 31, 77195], [1996, 1, 125606], [1996, 2, 126392], [1996, 3, 126145], [1996, 4, 127134], [1996, 5, 131225], [1996, 6, 127626], [1996, 7, 122540], [1996, 8, 127691], [1996, 9, 130078], [1996, 10, 126983], [1996, 11, 128319], [1996, 12, 132572], [1996, 13, 124761], [1996, 14, 123324], [1996, 15, 128216], [1996, 16, 131727], [1996, 17, 128492], [1996, 18, 129742], [1996, 19, 132832], [1996, 20, 129174], [1996, 21, 123688], [1996, 22, 129121], [1996, 23, 130513], [1996, 24, 124645], [1996, 25, 125489], [1996, 26, 132056], [1996, 27, 126046], [1996, 28, 119108], [1996, 29, 125808], [1996, 30, 120234], [1996, 31, 74207], [1997, 1, 120861], [1997, 2, 124563], [1997, 3, 132879], [1997, 4, 129369], [1997, 5, 126011], [1997, 6, 124234], [1997, 7, 129325], [1997, 8, 126505], [1997, 9, 124974], [1997, 10, 132117], [1997, 11, 130777], [1997, 12, 126396], [1997, 13, 122455], [1997, 14, 129337], [1997, 15, 127681], [1997, 16, 127386], [1997, 17, 132716], [1997, 18, 131282], [1997, 19, 128119], [1997, 20, 126728], [1997, 21, 129640], [1997, 22, 129958], [1997, 23, 126999], [1997, 24, 130369], [1997, 25, 127307], [1997, 26, 122463], [1997, 27, 121094], [1997, 28, 127188], [1997, 29, 119536], [1997, 30, 119738], [1997, 31, 72887], [1998, 1, 124446], [1998, 2, 132042], [1998, 3, 131142], [1998, 4, 128120], [1998, 5, 126168], [1998, 6, 130686], [1998, 7, 125408], [1998, 8, 127808], [1998, 9, 134951], [1998, 10, 133592], [1998, 11, 127843], [1998, 12, 127253], [1998, 13, 127149], [1998, 14, 130336], [1998, 15, 129649], [1998, 16, 134632], [1998, 17, 134842], [1998, 18, 130392], [1998, 19, 127322], [1998, 20, 132083], [1998, 21, 131279], [1998, 22, 129810], [1998, 23, 134211], [1998, 24, 130991], [1998, 25, 120234], [1998, 26, 122086], [1998, 27, 128560], [1998, 28, 130565], [1998, 29, 121727], [1998, 30, 124435], [1998, 31, 71791], [1999, 1, 130489], [1999, 2, 134071], [1999, 3, 128608], [1999, 4, 126971], [1999, 5, 128895], [1999, 6, 125268], [1999, 7, 128555], [1999, 8, 135914], [1999, 9, 134847], [1999, 10, 129495], [1999, 11, 128123], [1999, 12, 131928], [1999, 13, 126964], [1999, 14, 128758], [1999, 15, 135403], [1999, 16, 134276], [1999, 17, 130340], [1999, 18, 128390], [1999, 19, 131442], [1999, 20, 131343], [1999, 21, 130461], [1999, 22, 136311], [1999, 23, 133252], [1999, 24, 125328], [1999, 25, 122164], [1999, 26, 128297], [1999, 27, 130052], [1999, 28, 130583], [1999, 29, 125387], [1999, 30, 121697], [1999, 31, 65805], [2000, 1, 134559], [2000, 2, 127447], [2000, 3, 132060], [2000, 4, 129344], [2000, 5, 130594], [2000, 6, 135874], [2000, 7, 139893], [2000, 8, 134581], [2000, 9, 127573], [2000, 10, 134127], [2000, 11, 136833], [2000, 12, 132939], [2000, 13, 131599], [2000, 14, 140375], [2000, 15, 134419], [2000, 16, 128897], [2000, 17, 134077], [2000, 18, 137724], [2000, 19, 132886], [2000, 20, 137050], [2000, 21, 138872], [2000, 22, 132321], [2000, 23, 122156], [2000, 24, 130006], [2000, 25, 131310], [2000, 26, 130253], [2000, 27, 135697], [2000, 28, 141019], [2000, 29, 130872], [2000, 30, 114744], [2000, 31, 78713], [2001, 1, 126497], [2001, 2, 132651], [2001, 3, 128107], [2001, 4, 126729], [2001, 5, 138661], [2001, 6, 137163], [2001, 7, 131497], [2001, 8, 130081], [2001, 9, 133767], [2001, 10, 132944], [2001, 11, 130622], [2001, 12, 139475], [2001, 13, 131966], [2001, 14, 132177], [2001, 15, 130388], [2001, 16, 134369], [2001, 17, 133584], [2001, 18, 131312], [2001, 19, 138380], [2001, 20, 138920], [2001, 21, 132453], [2001, 22, 126112], [2001, 23, 130937], [2001, 24, 128368], [2001, 25, 125443], [2001, 26, 135966], [2001, 27, 137393], [2001, 28, 129840], [2001, 29, 117744], [2001, 30, 122109], [2001, 31, 80278], [2002, 1, 128723], [2002, 2, 127603], [2002, 3, 130009], [2002, 4, 134801], [2002, 5, 135570], [2002, 6, 130276], [2002, 7, 129607], [2002, 8, 133809], [2002, 9, 131374], [2002, 10, 131409], [2002, 11, 136211], [2002, 12, 137075], [2002, 13, 128197], [2002, 14, 130846], [2002, 15, 134663], [2002, 16, 132736], [2002, 17, 131211], [2002, 18, 139139], [2002, 19, 137078], [2002, 20, 133245], [2002, 21, 130365], [2002, 22, 135134], [2002, 23, 132382], [2002, 24, 127967], [2002, 25, 133627], [2002, 26, 135189], [2002, 27, 128334], [2002, 28, 125478], [2002, 29, 119125], [2002, 30, 124267], [2002, 31, 76276], [2003, 1, 124866], [2003, 2, 131466], [2003, 3, 142502], [2003, 4, 135440], [2003, 5, 131824], [2003, 6, 131242], [2003, 7, 135971], [2003, 8, 134412], [2003, 9, 132058], [2003, 10, 142270], [2003, 11, 137960], [2003, 12, 133545], [2003, 13, 128530], [2003, 14, 137054], [2003, 15, 134559], [2003, 16, 134226], [2003, 17, 140872], [2003, 18, 139441], [2003, 19, 133994], [2003, 20, 132208], [2003, 21, 137310], [2003, 22, 136019], [2003, 23, 132949], [2003, 24, 138377], [2003, 25, 133927], [2003, 26, 126765], [2003, 27, 126242], [2003, 28, 135052], [2003, 29, 126626], [2003, 30, 126275], [2003, 31, 75968]]\n"
     ]
    }
   ],
   "source": [
    "# Date wise summary for all years\n",
    "dat_sum_lst = []\n",
    "for yr in unique_yrs:\n",
    "    for dt in unique_dat:\n",
    "        tot = 0\n",
    "        for i in cdc_list:\n",
    "            if i[0] == yr and i[2] == dt:\n",
    "                tot += i[4]\n",
    "        tmp_lst = [yr,dt,tot]\n",
    "        dat_sum_lst.append(tmp_lst)\n",
    "\n",
    "print(dat_sum_lst)"
   ]
  },
  {
   "cell_type": "code",
   "execution_count": 21,
   "metadata": {
    "collapsed": false
   },
   "outputs": [
    {
     "name": "stdout",
     "output_type": "stream",
     "text": [
      "[[1994, 1, 132515], [1994, 2, 128688], [1994, 3, 126213], [1994, 4, 128735], [1994, 5, 125279], [1994, 6, 128859], [1994, 7, 134629], [1995, 1, 127995], [1995, 2, 123816], [1995, 3, 126834], [1995, 4, 121511], [1995, 5, 125726], [1995, 6, 133246], [1995, 7, 133034], [1996, 1, 125606], [1996, 2, 126392], [1996, 3, 126145], [1996, 4, 127134], [1996, 5, 131225], [1996, 6, 127626], [1996, 7, 122540], [1997, 1, 120861], [1997, 2, 124563], [1997, 3, 132879], [1997, 4, 129369], [1997, 5, 126011], [1997, 6, 124234], [1997, 7, 129325], [1998, 1, 124446], [1998, 2, 132042], [1998, 3, 131142], [1998, 4, 128120], [1998, 5, 126168], [1998, 6, 130686], [1998, 7, 125408], [1999, 1, 130489], [1999, 2, 134071], [1999, 3, 128608], [1999, 4, 126971], [1999, 5, 128895], [1999, 6, 125268], [1999, 7, 128555], [2000, 1, 134559], [2000, 2, 127447], [2000, 3, 132060], [2000, 4, 129344], [2000, 5, 130594], [2000, 6, 135874], [2000, 7, 139893], [2001, 1, 126497], [2001, 2, 132651], [2001, 3, 128107], [2001, 4, 126729], [2001, 5, 138661], [2001, 6, 137163], [2001, 7, 131497], [2002, 1, 128723], [2002, 2, 127603], [2002, 3, 130009], [2002, 4, 134801], [2002, 5, 135570], [2002, 6, 130276], [2002, 7, 129607], [2003, 1, 124866], [2003, 2, 131466], [2003, 3, 142502], [2003, 4, 135440], [2003, 5, 131824], [2003, 6, 131242], [2003, 7, 135971]]\n"
     ]
    }
   ],
   "source": [
    "# Day wise summary for all years\n",
    "day_sum_lst = []\n",
    "for yr in unique_yrs:\n",
    "    for day in unique_day:\n",
    "        tot = 0\n",
    "        for i in cdc_list:\n",
    "            if i[0] == yr and i[2] == day:\n",
    "                tot += i[4]\n",
    "        tmp_lst = [yr,day,tot]\n",
    "        day_sum_lst.append(tmp_lst)\n",
    "        \n",
    "print(day_sum_lst)"
   ]
  },
  {
   "cell_type": "code",
   "execution_count": 22,
   "metadata": {
    "collapsed": false
   },
   "outputs": [
    {
     "name": "stdout",
     "output_type": "stream",
     "text": [
      "[[2000, 1, 1, 6, 9083], [2000, 1, 2, 7, 8006], [2000, 1, 3, 1, 11363], [2000, 1, 4, 2, 13032]]\n"
     ]
    }
   ],
   "source": [
    "# Read SSA file\n",
    "ssa_list = read_csv(r'D:\\GitHub\\Data-Science\\Python\\Exercise3\\US_births_2000-2014_SSA.csv')\n",
    "print(ssa_list[:4])"
   ]
  },
  {
   "cell_type": "code",
   "execution_count": 25,
   "metadata": {
    "collapsed": false
   },
   "outputs": [
    {
     "name": "stdout",
     "output_type": "stream",
     "text": [
      "3652\n",
      "5479\n"
     ]
    },
    {
     "data": {
      "text/plain": [
       "'\\nfor i in _list:\\n    if i[0] >= 2000:\\n        for j in ssa_list:\\n            if i[0] == j[0] and i[1] == j[1] and i[2] == j[2] and i[3] == j[3]:\\n                tmp_lst = [i[0],i[1],i[2],i[3],i[4] + j[4]]\\n                mrg_list.append(tmp_lst)\\n    else:\\n        mrg_list.append(i) \\n    '"
      ]
     },
     "execution_count": 25,
     "metadata": {},
     "output_type": "execute_result"
    }
   ],
   "source": [
    "mrg_list = []\n",
    "mrg_list = cdc_list\n",
    "print(len(mrg_list))\n",
    "print(len(ssa_list))\n",
    "'''\n",
    "for i in ssa_list:\n",
    "    if i[0] >= 2000:\n",
    "        for j in ssa_list:\n",
    "            if i[0] == j[0] and i[1] == j[1] and i[2] == j[2] and i[3] == j[3]:\n",
    "                tmp_lst = [i[0],i[1],i[2],i[3],i[4] + j[4]]\n",
    "                mrg_list.append(tmp_lst)\n",
    "    else:\n",
    "        mrg_list.append(i) \n",
    "    '''"
   ]
  },
  {
   "cell_type": "code",
   "execution_count": 24,
   "metadata": {
    "collapsed": false
   },
   "outputs": [
    {
     "name": "stdout",
     "output_type": "stream",
     "text": [
      "[[1994, 1, 1, 6, 8096], [1994, 1, 2, 7, 7772], [1994, 1, 3, 1, 10142], [1994, 1, 4, 2, 11248], [1994, 1, 5, 3, 11053]]\n",
      "3652\n"
     ]
    }
   ],
   "source": [
    "print(mrg_list[0:5])\n",
    "print(len(mrg_list))"
   ]
  }
 ],
 "metadata": {
  "kernelspec": {
   "display_name": "Python [Root]",
   "language": "python",
   "name": "Python [Root]"
  },
  "language_info": {
   "codemirror_mode": {
    "name": "ipython",
    "version": 3
   },
   "file_extension": ".py",
   "mimetype": "text/x-python",
   "name": "python",
   "nbconvert_exporter": "python",
   "pygments_lexer": "ipython3",
   "version": "3.5.2"
  }
 },
 "nbformat": 4,
 "nbformat_minor": 0
}
