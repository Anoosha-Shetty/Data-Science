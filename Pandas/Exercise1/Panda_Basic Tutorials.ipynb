{
 "cells": [
  {
   "cell_type": "code",
   "execution_count": 436,
   "metadata": {
    "collapsed": false
   },
   "outputs": [
    {
     "name": "stdout",
     "output_type": "stream",
     "text": [
      "Type:  <class 'pandas.core.frame.DataFrame'>\n"
     ]
    }
   ],
   "source": [
    "#Read a csv file\n",
    "import pandas as pd\n",
    "drvr_info = pd.read_csv(r'D:\\GitHub\\Data-Science\\Pandas\\Exercise1\\bad-drivers.csv')\n",
    "print(\"Type: \", type(drvr_info))"
   ]
  },
  {
   "cell_type": "code",
   "execution_count": 437,
   "metadata": {
    "collapsed": false
   },
   "outputs": [],
   "source": [
    "#Extract the first 'n' rows\n",
    "first_rows = drvr_info.head()\n",
    "first_4_rows = drvr_info.head(4)\n",
    "first_n_rows = drvr_info.head(7)"
   ]
  },
  {
   "cell_type": "code",
   "execution_count": 438,
   "metadata": {
    "collapsed": false
   },
   "outputs": [
    {
     "data": {
      "text/html": [
       "<div>\n",
       "<table border=\"1\" class=\"dataframe\">\n",
       "  <thead>\n",
       "    <tr style=\"text-align: right;\">\n",
       "      <th></th>\n",
       "      <th>State</th>\n",
       "      <th>Number of drivers involved in fatal collisions per billion miles</th>\n",
       "      <th>Percentage Of Drivers Involved In Fatal Collisions Who Were Speeding</th>\n",
       "      <th>Percentage Of Drivers Involved In Fatal Collisions Who Were Alcohol-Impaired</th>\n",
       "      <th>Percentage Of Drivers Involved In Fatal Collisions Who Were Not Distracted</th>\n",
       "      <th>Percentage Of Drivers Involved In Fatal Collisions Who Had Not Been Involved In Any Previous Accidents</th>\n",
       "      <th>Car Insurance Premiums ($)</th>\n",
       "      <th>Losses incurred by insurance companies for collisions per insured driver ($)</th>\n",
       "    </tr>\n",
       "  </thead>\n",
       "  <tbody>\n",
       "    <tr>\n",
       "      <th>0</th>\n",
       "      <td>Alabama</td>\n",
       "      <td>18.8</td>\n",
       "      <td>39</td>\n",
       "      <td>30</td>\n",
       "      <td>96</td>\n",
       "      <td>80</td>\n",
       "      <td>784.55</td>\n",
       "      <td>145.08</td>\n",
       "    </tr>\n",
       "    <tr>\n",
       "      <th>1</th>\n",
       "      <td>Alaska</td>\n",
       "      <td>18.1</td>\n",
       "      <td>41</td>\n",
       "      <td>25</td>\n",
       "      <td>90</td>\n",
       "      <td>94</td>\n",
       "      <td>1053.48</td>\n",
       "      <td>133.93</td>\n",
       "    </tr>\n",
       "    <tr>\n",
       "      <th>2</th>\n",
       "      <td>Arizona</td>\n",
       "      <td>18.6</td>\n",
       "      <td>35</td>\n",
       "      <td>28</td>\n",
       "      <td>84</td>\n",
       "      <td>96</td>\n",
       "      <td>899.47</td>\n",
       "      <td>110.35</td>\n",
       "    </tr>\n",
       "    <tr>\n",
       "      <th>3</th>\n",
       "      <td>Arkansas</td>\n",
       "      <td>22.4</td>\n",
       "      <td>18</td>\n",
       "      <td>26</td>\n",
       "      <td>94</td>\n",
       "      <td>95</td>\n",
       "      <td>827.34</td>\n",
       "      <td>142.39</td>\n",
       "    </tr>\n",
       "    <tr>\n",
       "      <th>4</th>\n",
       "      <td>California</td>\n",
       "      <td>12.0</td>\n",
       "      <td>35</td>\n",
       "      <td>28</td>\n",
       "      <td>91</td>\n",
       "      <td>89</td>\n",
       "      <td>878.41</td>\n",
       "      <td>165.63</td>\n",
       "    </tr>\n",
       "  </tbody>\n",
       "</table>\n",
       "</div>"
      ],
      "text/plain": [
       "        State  \\\n",
       "0     Alabama   \n",
       "1      Alaska   \n",
       "2     Arizona   \n",
       "3    Arkansas   \n",
       "4  California   \n",
       "\n",
       "   Number of drivers involved in fatal collisions per billion miles  \\\n",
       "0                                               18.8                  \n",
       "1                                               18.1                  \n",
       "2                                               18.6                  \n",
       "3                                               22.4                  \n",
       "4                                               12.0                  \n",
       "\n",
       "   Percentage Of Drivers Involved In Fatal Collisions Who Were Speeding  \\\n",
       "0                                                 39                      \n",
       "1                                                 41                      \n",
       "2                                                 35                      \n",
       "3                                                 18                      \n",
       "4                                                 35                      \n",
       "\n",
       "   Percentage Of Drivers Involved In Fatal Collisions Who Were Alcohol-Impaired  \\\n",
       "0                                                 30                              \n",
       "1                                                 25                              \n",
       "2                                                 28                              \n",
       "3                                                 26                              \n",
       "4                                                 28                              \n",
       "\n",
       "   Percentage Of Drivers Involved In Fatal Collisions Who Were Not Distracted  \\\n",
       "0                                                 96                            \n",
       "1                                                 90                            \n",
       "2                                                 84                            \n",
       "3                                                 94                            \n",
       "4                                                 91                            \n",
       "\n",
       "   Percentage Of Drivers Involved In Fatal Collisions Who Had Not Been Involved In Any Previous Accidents  \\\n",
       "0                                                 80                                                        \n",
       "1                                                 94                                                        \n",
       "2                                                 96                                                        \n",
       "3                                                 95                                                        \n",
       "4                                                 89                                                        \n",
       "\n",
       "   Car Insurance Premiums ($)  \\\n",
       "0                      784.55   \n",
       "1                     1053.48   \n",
       "2                      899.47   \n",
       "3                      827.34   \n",
       "4                      878.41   \n",
       "\n",
       "   Losses incurred by insurance companies for collisions per insured driver ($)  \n",
       "0                                             145.08                             \n",
       "1                                             133.93                             \n",
       "2                                             110.35                             \n",
       "3                                             142.39                             \n",
       "4                                             165.63                             "
      ]
     },
     "execution_count": 438,
     "metadata": {},
     "output_type": "execute_result"
    }
   ],
   "source": [
    "first_rows"
   ]
  },
  {
   "cell_type": "code",
   "execution_count": 439,
   "metadata": {
    "collapsed": false
   },
   "outputs": [
    {
     "data": {
      "text/html": [
       "<div>\n",
       "<table border=\"1\" class=\"dataframe\">\n",
       "  <thead>\n",
       "    <tr style=\"text-align: right;\">\n",
       "      <th></th>\n",
       "      <th>State</th>\n",
       "      <th>Number of drivers involved in fatal collisions per billion miles</th>\n",
       "      <th>Percentage Of Drivers Involved In Fatal Collisions Who Were Speeding</th>\n",
       "      <th>Percentage Of Drivers Involved In Fatal Collisions Who Were Alcohol-Impaired</th>\n",
       "      <th>Percentage Of Drivers Involved In Fatal Collisions Who Were Not Distracted</th>\n",
       "      <th>Percentage Of Drivers Involved In Fatal Collisions Who Had Not Been Involved In Any Previous Accidents</th>\n",
       "      <th>Car Insurance Premiums ($)</th>\n",
       "      <th>Losses incurred by insurance companies for collisions per insured driver ($)</th>\n",
       "    </tr>\n",
       "  </thead>\n",
       "  <tbody>\n",
       "    <tr>\n",
       "      <th>0</th>\n",
       "      <td>Alabama</td>\n",
       "      <td>18.8</td>\n",
       "      <td>39</td>\n",
       "      <td>30</td>\n",
       "      <td>96</td>\n",
       "      <td>80</td>\n",
       "      <td>784.55</td>\n",
       "      <td>145.08</td>\n",
       "    </tr>\n",
       "    <tr>\n",
       "      <th>1</th>\n",
       "      <td>Alaska</td>\n",
       "      <td>18.1</td>\n",
       "      <td>41</td>\n",
       "      <td>25</td>\n",
       "      <td>90</td>\n",
       "      <td>94</td>\n",
       "      <td>1053.48</td>\n",
       "      <td>133.93</td>\n",
       "    </tr>\n",
       "    <tr>\n",
       "      <th>2</th>\n",
       "      <td>Arizona</td>\n",
       "      <td>18.6</td>\n",
       "      <td>35</td>\n",
       "      <td>28</td>\n",
       "      <td>84</td>\n",
       "      <td>96</td>\n",
       "      <td>899.47</td>\n",
       "      <td>110.35</td>\n",
       "    </tr>\n",
       "    <tr>\n",
       "      <th>3</th>\n",
       "      <td>Arkansas</td>\n",
       "      <td>22.4</td>\n",
       "      <td>18</td>\n",
       "      <td>26</td>\n",
       "      <td>94</td>\n",
       "      <td>95</td>\n",
       "      <td>827.34</td>\n",
       "      <td>142.39</td>\n",
       "    </tr>\n",
       "  </tbody>\n",
       "</table>\n",
       "</div>"
      ],
      "text/plain": [
       "      State  Number of drivers involved in fatal collisions per billion miles  \\\n",
       "0   Alabama                                               18.8                  \n",
       "1    Alaska                                               18.1                  \n",
       "2   Arizona                                               18.6                  \n",
       "3  Arkansas                                               22.4                  \n",
       "\n",
       "   Percentage Of Drivers Involved In Fatal Collisions Who Were Speeding  \\\n",
       "0                                                 39                      \n",
       "1                                                 41                      \n",
       "2                                                 35                      \n",
       "3                                                 18                      \n",
       "\n",
       "   Percentage Of Drivers Involved In Fatal Collisions Who Were Alcohol-Impaired  \\\n",
       "0                                                 30                              \n",
       "1                                                 25                              \n",
       "2                                                 28                              \n",
       "3                                                 26                              \n",
       "\n",
       "   Percentage Of Drivers Involved In Fatal Collisions Who Were Not Distracted  \\\n",
       "0                                                 96                            \n",
       "1                                                 90                            \n",
       "2                                                 84                            \n",
       "3                                                 94                            \n",
       "\n",
       "   Percentage Of Drivers Involved In Fatal Collisions Who Had Not Been Involved In Any Previous Accidents  \\\n",
       "0                                                 80                                                        \n",
       "1                                                 94                                                        \n",
       "2                                                 96                                                        \n",
       "3                                                 95                                                        \n",
       "\n",
       "   Car Insurance Premiums ($)  \\\n",
       "0                      784.55   \n",
       "1                     1053.48   \n",
       "2                      899.47   \n",
       "3                      827.34   \n",
       "\n",
       "   Losses incurred by insurance companies for collisions per insured driver ($)  \n",
       "0                                             145.08                             \n",
       "1                                             133.93                             \n",
       "2                                             110.35                             \n",
       "3                                             142.39                             "
      ]
     },
     "execution_count": 439,
     "metadata": {},
     "output_type": "execute_result"
    }
   ],
   "source": [
    "first_4_rows"
   ]
  },
  {
   "cell_type": "code",
   "execution_count": 440,
   "metadata": {
    "collapsed": false
   },
   "outputs": [
    {
     "data": {
      "text/html": [
       "<div>\n",
       "<table border=\"1\" class=\"dataframe\">\n",
       "  <thead>\n",
       "    <tr style=\"text-align: right;\">\n",
       "      <th></th>\n",
       "      <th>State</th>\n",
       "      <th>Number of drivers involved in fatal collisions per billion miles</th>\n",
       "      <th>Percentage Of Drivers Involved In Fatal Collisions Who Were Speeding</th>\n",
       "      <th>Percentage Of Drivers Involved In Fatal Collisions Who Were Alcohol-Impaired</th>\n",
       "      <th>Percentage Of Drivers Involved In Fatal Collisions Who Were Not Distracted</th>\n",
       "      <th>Percentage Of Drivers Involved In Fatal Collisions Who Had Not Been Involved In Any Previous Accidents</th>\n",
       "      <th>Car Insurance Premiums ($)</th>\n",
       "      <th>Losses incurred by insurance companies for collisions per insured driver ($)</th>\n",
       "    </tr>\n",
       "  </thead>\n",
       "  <tbody>\n",
       "    <tr>\n",
       "      <th>0</th>\n",
       "      <td>Alabama</td>\n",
       "      <td>18.8</td>\n",
       "      <td>39</td>\n",
       "      <td>30</td>\n",
       "      <td>96</td>\n",
       "      <td>80</td>\n",
       "      <td>784.55</td>\n",
       "      <td>145.08</td>\n",
       "    </tr>\n",
       "    <tr>\n",
       "      <th>1</th>\n",
       "      <td>Alaska</td>\n",
       "      <td>18.1</td>\n",
       "      <td>41</td>\n",
       "      <td>25</td>\n",
       "      <td>90</td>\n",
       "      <td>94</td>\n",
       "      <td>1053.48</td>\n",
       "      <td>133.93</td>\n",
       "    </tr>\n",
       "    <tr>\n",
       "      <th>2</th>\n",
       "      <td>Arizona</td>\n",
       "      <td>18.6</td>\n",
       "      <td>35</td>\n",
       "      <td>28</td>\n",
       "      <td>84</td>\n",
       "      <td>96</td>\n",
       "      <td>899.47</td>\n",
       "      <td>110.35</td>\n",
       "    </tr>\n",
       "    <tr>\n",
       "      <th>3</th>\n",
       "      <td>Arkansas</td>\n",
       "      <td>22.4</td>\n",
       "      <td>18</td>\n",
       "      <td>26</td>\n",
       "      <td>94</td>\n",
       "      <td>95</td>\n",
       "      <td>827.34</td>\n",
       "      <td>142.39</td>\n",
       "    </tr>\n",
       "    <tr>\n",
       "      <th>4</th>\n",
       "      <td>California</td>\n",
       "      <td>12.0</td>\n",
       "      <td>35</td>\n",
       "      <td>28</td>\n",
       "      <td>91</td>\n",
       "      <td>89</td>\n",
       "      <td>878.41</td>\n",
       "      <td>165.63</td>\n",
       "    </tr>\n",
       "    <tr>\n",
       "      <th>5</th>\n",
       "      <td>Colorado</td>\n",
       "      <td>13.6</td>\n",
       "      <td>37</td>\n",
       "      <td>28</td>\n",
       "      <td>79</td>\n",
       "      <td>95</td>\n",
       "      <td>835.50</td>\n",
       "      <td>139.91</td>\n",
       "    </tr>\n",
       "    <tr>\n",
       "      <th>6</th>\n",
       "      <td>Connecticut</td>\n",
       "      <td>10.8</td>\n",
       "      <td>46</td>\n",
       "      <td>36</td>\n",
       "      <td>87</td>\n",
       "      <td>82</td>\n",
       "      <td>1068.73</td>\n",
       "      <td>167.02</td>\n",
       "    </tr>\n",
       "  </tbody>\n",
       "</table>\n",
       "</div>"
      ],
      "text/plain": [
       "         State  \\\n",
       "0      Alabama   \n",
       "1       Alaska   \n",
       "2      Arizona   \n",
       "3     Arkansas   \n",
       "4   California   \n",
       "5     Colorado   \n",
       "6  Connecticut   \n",
       "\n",
       "   Number of drivers involved in fatal collisions per billion miles  \\\n",
       "0                                               18.8                  \n",
       "1                                               18.1                  \n",
       "2                                               18.6                  \n",
       "3                                               22.4                  \n",
       "4                                               12.0                  \n",
       "5                                               13.6                  \n",
       "6                                               10.8                  \n",
       "\n",
       "   Percentage Of Drivers Involved In Fatal Collisions Who Were Speeding  \\\n",
       "0                                                 39                      \n",
       "1                                                 41                      \n",
       "2                                                 35                      \n",
       "3                                                 18                      \n",
       "4                                                 35                      \n",
       "5                                                 37                      \n",
       "6                                                 46                      \n",
       "\n",
       "   Percentage Of Drivers Involved In Fatal Collisions Who Were Alcohol-Impaired  \\\n",
       "0                                                 30                              \n",
       "1                                                 25                              \n",
       "2                                                 28                              \n",
       "3                                                 26                              \n",
       "4                                                 28                              \n",
       "5                                                 28                              \n",
       "6                                                 36                              \n",
       "\n",
       "   Percentage Of Drivers Involved In Fatal Collisions Who Were Not Distracted  \\\n",
       "0                                                 96                            \n",
       "1                                                 90                            \n",
       "2                                                 84                            \n",
       "3                                                 94                            \n",
       "4                                                 91                            \n",
       "5                                                 79                            \n",
       "6                                                 87                            \n",
       "\n",
       "   Percentage Of Drivers Involved In Fatal Collisions Who Had Not Been Involved In Any Previous Accidents  \\\n",
       "0                                                 80                                                        \n",
       "1                                                 94                                                        \n",
       "2                                                 96                                                        \n",
       "3                                                 95                                                        \n",
       "4                                                 89                                                        \n",
       "5                                                 95                                                        \n",
       "6                                                 82                                                        \n",
       "\n",
       "   Car Insurance Premiums ($)  \\\n",
       "0                      784.55   \n",
       "1                     1053.48   \n",
       "2                      899.47   \n",
       "3                      827.34   \n",
       "4                      878.41   \n",
       "5                      835.50   \n",
       "6                     1068.73   \n",
       "\n",
       "   Losses incurred by insurance companies for collisions per insured driver ($)  \n",
       "0                                             145.08                             \n",
       "1                                             133.93                             \n",
       "2                                             110.35                             \n",
       "3                                             142.39                             \n",
       "4                                             165.63                             \n",
       "5                                             139.91                             \n",
       "6                                             167.02                             "
      ]
     },
     "execution_count": 440,
     "metadata": {},
     "output_type": "execute_result"
    }
   ],
   "source": [
    "first_n_rows"
   ]
  },
  {
   "cell_type": "code",
   "execution_count": 441,
   "metadata": {
    "collapsed": false
   },
   "outputs": [],
   "source": [
    "#Dimensions\n",
    "dim = drvr_info.shape\n",
    "row_cnt = dim[0]   # 0 ==> row\n",
    "col_cnt = dim[1]   # 1 ==> col"
   ]
  },
  {
   "cell_type": "code",
   "execution_count": 442,
   "metadata": {
    "collapsed": false
   },
   "outputs": [
    {
     "data": {
      "text/plain": [
       "(51, 8)"
      ]
     },
     "execution_count": 442,
     "metadata": {},
     "output_type": "execute_result"
    }
   ],
   "source": [
    "dim"
   ]
  },
  {
   "cell_type": "code",
   "execution_count": 443,
   "metadata": {
    "collapsed": false
   },
   "outputs": [
    {
     "data": {
      "text/plain": [
       "51"
      ]
     },
     "execution_count": 443,
     "metadata": {},
     "output_type": "execute_result"
    }
   ],
   "source": [
    "row_cnt"
   ]
  },
  {
   "cell_type": "code",
   "execution_count": 444,
   "metadata": {
    "collapsed": false
   },
   "outputs": [
    {
     "data": {
      "text/plain": [
       "8"
      ]
     },
     "execution_count": 444,
     "metadata": {},
     "output_type": "execute_result"
    }
   ],
   "source": [
    "col_cnt"
   ]
  },
  {
   "cell_type": "markdown",
   "metadata": {},
   "source": [
    "Indexing : The values in the first row of a dataframe are known as column labels/index while the values in the first column are row labels/index\n",
    "The Series object is a core data structure that pandas uses to represent rows and columns. A Series is a labelled collection of values similar to the NumPy vector. The main advantage of Series objects is the ability to utilize non-integer labels. NumPy arrays can only utilize integer labels for indexing.\n",
    "Pandas utilizes this feature to provide more context when returning a row or a column from a dataframe. For example, when you select a row from a dataframe, instead of just returning the values in that row as a list, pandas returns a Series object that contains the column labels as well as the corresponding values."
   ]
  },
  {
   "cell_type": "code",
   "execution_count": 445,
   "metadata": {
    "collapsed": false
   },
   "outputs": [
    {
     "data": {
      "text/plain": [
       "State                                                                                                     Alabama\n",
       "Number of drivers involved in fatal collisions per billion miles                                             18.8\n",
       "Percentage Of Drivers Involved In Fatal Collisions Who Were Speeding                                           39\n",
       "Percentage Of Drivers Involved In Fatal Collisions Who Were Alcohol-Impaired                                   30\n",
       "Percentage Of Drivers Involved In Fatal Collisions Who Were Not Distracted                                     96\n",
       "Percentage Of Drivers Involved In Fatal Collisions Who Had Not Been Involved In Any Previous Accidents         80\n",
       "Car Insurance Premiums ($)                                                                                 784.55\n",
       "Losses incurred by insurance companies for collisions per insured driver ($)                               145.08\n",
       "Name: 0, dtype: object"
      ]
     },
     "execution_count": 445,
     "metadata": {},
     "output_type": "execute_result"
    }
   ],
   "source": [
    "#Selecting a row: Pandas return a Series object\n",
    "drvr_info.loc[0]"
   ]
  },
  {
   "cell_type": "code",
   "execution_count": 446,
   "metadata": {
    "collapsed": false
   },
   "outputs": [
    {
     "data": {
      "text/plain": [
       "State                                                                                                     Colorado\n",
       "Number of drivers involved in fatal collisions per billion miles                                              13.6\n",
       "Percentage Of Drivers Involved In Fatal Collisions Who Were Speeding                                            37\n",
       "Percentage Of Drivers Involved In Fatal Collisions Who Were Alcohol-Impaired                                    28\n",
       "Percentage Of Drivers Involved In Fatal Collisions Who Were Not Distracted                                      79\n",
       "Percentage Of Drivers Involved In Fatal Collisions Who Had Not Been Involved In Any Previous Accidents          95\n",
       "Car Insurance Premiums ($)                                                                                   835.5\n",
       "Losses incurred by insurance companies for collisions per insured driver ($)                                139.91\n",
       "Name: 5, dtype: object"
      ]
     },
     "execution_count": 446,
     "metadata": {},
     "output_type": "execute_result"
    }
   ],
   "source": [
    "drvr_info.loc[5]"
   ]
  },
  {
   "cell_type": "code",
   "execution_count": 447,
   "metadata": {
    "collapsed": false
   },
   "outputs": [
    {
     "data": {
      "text/plain": [
       "State                                                                                                      object\n",
       "Number of drivers involved in fatal collisions per billion miles                                          float64\n",
       "Percentage Of Drivers Involved In Fatal Collisions Who Were Speeding                                        int64\n",
       "Percentage Of Drivers Involved In Fatal Collisions Who Were Alcohol-Impaired                                int64\n",
       "Percentage Of Drivers Involved In Fatal Collisions Who Were Not Distracted                                  int64\n",
       "Percentage Of Drivers Involved In Fatal Collisions Who Had Not Been Involved In Any Previous Accidents      int64\n",
       "Car Insurance Premiums ($)                                                                                float64\n",
       "Losses incurred by insurance companies for collisions per insured driver ($)                              float64\n",
       "dtype: object"
      ]
     },
     "execution_count": 447,
     "metadata": {},
     "output_type": "execute_result"
    }
   ],
   "source": [
    "#Data types\n",
    "drvr_info.dtypes"
   ]
  },
  {
   "cell_type": "code",
   "execution_count": 448,
   "metadata": {
    "collapsed": false
   },
   "outputs": [
    {
     "data": {
      "text/plain": [
       "Index(['State',\n",
       "       'Number of drivers involved in fatal collisions per billion miles',\n",
       "       'Percentage Of Drivers Involved In Fatal Collisions Who Were Speeding',\n",
       "       'Percentage Of Drivers Involved In Fatal Collisions Who Were Alcohol-Impaired',\n",
       "       'Percentage Of Drivers Involved In Fatal Collisions Who Were Not Distracted',\n",
       "       'Percentage Of Drivers Involved In Fatal Collisions Who Had Not Been Involved In Any Previous Accidents',\n",
       "       'Car Insurance Premiums ($)',\n",
       "       'Losses incurred by insurance companies for collisions per insured driver ($)'],\n",
       "      dtype='object')"
      ]
     },
     "execution_count": 448,
     "metadata": {},
     "output_type": "execute_result"
    }
   ],
   "source": [
    "#Extract the column names\n",
    "drvr_info.columns"
   ]
  },
  {
   "cell_type": "code",
   "execution_count": 449,
   "metadata": {
    "collapsed": false
   },
   "outputs": [
    {
     "data": {
      "text/plain": [
       "['State',\n",
       " 'Number of drivers involved in fatal collisions per billion miles',\n",
       " 'Percentage Of Drivers Involved In Fatal Collisions Who Were Speeding',\n",
       " 'Percentage Of Drivers Involved In Fatal Collisions Who Were Alcohol-Impaired',\n",
       " 'Percentage Of Drivers Involved In Fatal Collisions Who Were Not Distracted',\n",
       " 'Percentage Of Drivers Involved In Fatal Collisions Who Had Not Been Involved In Any Previous Accidents',\n",
       " 'Car Insurance Premiums ($)',\n",
       " 'Losses incurred by insurance companies for collisions per insured driver ($)']"
      ]
     },
     "execution_count": 449,
     "metadata": {},
     "output_type": "execute_result"
    }
   ],
   "source": [
    "#Convert col names to list\n",
    "col_names = drvr_info.columns.tolist()\n",
    "col_names"
   ]
  },
  {
   "cell_type": "code",
   "execution_count": 450,
   "metadata": {
    "collapsed": false
   },
   "outputs": [
    {
     "data": {
      "text/html": [
       "<div>\n",
       "<table border=\"1\" class=\"dataframe\">\n",
       "  <thead>\n",
       "    <tr style=\"text-align: right;\">\n",
       "      <th></th>\n",
       "      <th>State</th>\n",
       "      <th>Number of drivers involved in fatal collisions per billion miles</th>\n",
       "      <th>Percentage Of Drivers Involved In Fatal Collisions Who Were Speeding</th>\n",
       "      <th>Percentage Of Drivers Involved In Fatal Collisions Who Were Alcohol-Impaired</th>\n",
       "      <th>Percentage Of Drivers Involved In Fatal Collisions Who Were Not Distracted</th>\n",
       "      <th>Percentage Of Drivers Involved In Fatal Collisions Who Had Not Been Involved In Any Previous Accidents</th>\n",
       "      <th>Car Insurance Premiums ($)</th>\n",
       "      <th>Losses incurred by insurance companies for collisions per insured driver ($)</th>\n",
       "    </tr>\n",
       "  </thead>\n",
       "  <tbody>\n",
       "    <tr>\n",
       "      <th>3</th>\n",
       "      <td>Arkansas</td>\n",
       "      <td>22.4</td>\n",
       "      <td>18</td>\n",
       "      <td>26</td>\n",
       "      <td>94</td>\n",
       "      <td>95</td>\n",
       "      <td>827.34</td>\n",
       "      <td>142.39</td>\n",
       "    </tr>\n",
       "    <tr>\n",
       "      <th>4</th>\n",
       "      <td>California</td>\n",
       "      <td>12.0</td>\n",
       "      <td>35</td>\n",
       "      <td>28</td>\n",
       "      <td>91</td>\n",
       "      <td>89</td>\n",
       "      <td>878.41</td>\n",
       "      <td>165.63</td>\n",
       "    </tr>\n",
       "    <tr>\n",
       "      <th>5</th>\n",
       "      <td>Colorado</td>\n",
       "      <td>13.6</td>\n",
       "      <td>37</td>\n",
       "      <td>28</td>\n",
       "      <td>79</td>\n",
       "      <td>95</td>\n",
       "      <td>835.50</td>\n",
       "      <td>139.91</td>\n",
       "    </tr>\n",
       "  </tbody>\n",
       "</table>\n",
       "</div>"
      ],
      "text/plain": [
       "        State  \\\n",
       "3    Arkansas   \n",
       "4  California   \n",
       "5    Colorado   \n",
       "\n",
       "   Number of drivers involved in fatal collisions per billion miles  \\\n",
       "3                                               22.4                  \n",
       "4                                               12.0                  \n",
       "5                                               13.6                  \n",
       "\n",
       "   Percentage Of Drivers Involved In Fatal Collisions Who Were Speeding  \\\n",
       "3                                                 18                      \n",
       "4                                                 35                      \n",
       "5                                                 37                      \n",
       "\n",
       "   Percentage Of Drivers Involved In Fatal Collisions Who Were Alcohol-Impaired  \\\n",
       "3                                                 26                              \n",
       "4                                                 28                              \n",
       "5                                                 28                              \n",
       "\n",
       "   Percentage Of Drivers Involved In Fatal Collisions Who Were Not Distracted  \\\n",
       "3                                                 94                            \n",
       "4                                                 91                            \n",
       "5                                                 79                            \n",
       "\n",
       "   Percentage Of Drivers Involved In Fatal Collisions Who Had Not Been Involved In Any Previous Accidents  \\\n",
       "3                                                 95                                                        \n",
       "4                                                 89                                                        \n",
       "5                                                 95                                                        \n",
       "\n",
       "   Car Insurance Premiums ($)  \\\n",
       "3                      827.34   \n",
       "4                      878.41   \n",
       "5                      835.50   \n",
       "\n",
       "   Losses incurred by insurance companies for collisions per insured driver ($)  \n",
       "3                                             142.39                             \n",
       "4                                             165.63                             \n",
       "5                                             139.91                             "
      ]
     },
     "execution_count": 450,
     "metadata": {},
     "output_type": "execute_result"
    }
   ],
   "source": [
    "#Slicing rows: [n1:n2] ==> index n1 till position n2\n",
    "drvr_info[3:6]"
   ]
  },
  {
   "cell_type": "code",
   "execution_count": 451,
   "metadata": {
    "collapsed": false
   },
   "outputs": [
    {
     "data": {
      "text/html": [
       "<div>\n",
       "<table border=\"1\" class=\"dataframe\">\n",
       "  <thead>\n",
       "    <tr style=\"text-align: right;\">\n",
       "      <th></th>\n",
       "      <th>State</th>\n",
       "      <th>Number of drivers involved in fatal collisions per billion miles</th>\n",
       "      <th>Percentage Of Drivers Involved In Fatal Collisions Who Were Speeding</th>\n",
       "      <th>Percentage Of Drivers Involved In Fatal Collisions Who Were Alcohol-Impaired</th>\n",
       "      <th>Percentage Of Drivers Involved In Fatal Collisions Who Were Not Distracted</th>\n",
       "      <th>Percentage Of Drivers Involved In Fatal Collisions Who Had Not Been Involved In Any Previous Accidents</th>\n",
       "      <th>Car Insurance Premiums ($)</th>\n",
       "      <th>Losses incurred by insurance companies for collisions per insured driver ($)</th>\n",
       "    </tr>\n",
       "  </thead>\n",
       "  <tbody>\n",
       "    <tr>\n",
       "      <th>3</th>\n",
       "      <td>Arkansas</td>\n",
       "      <td>22.4</td>\n",
       "      <td>18</td>\n",
       "      <td>26</td>\n",
       "      <td>94</td>\n",
       "      <td>95</td>\n",
       "      <td>827.34</td>\n",
       "      <td>142.39</td>\n",
       "    </tr>\n",
       "    <tr>\n",
       "      <th>4</th>\n",
       "      <td>California</td>\n",
       "      <td>12.0</td>\n",
       "      <td>35</td>\n",
       "      <td>28</td>\n",
       "      <td>91</td>\n",
       "      <td>89</td>\n",
       "      <td>878.41</td>\n",
       "      <td>165.63</td>\n",
       "    </tr>\n",
       "    <tr>\n",
       "      <th>5</th>\n",
       "      <td>Colorado</td>\n",
       "      <td>13.6</td>\n",
       "      <td>37</td>\n",
       "      <td>28</td>\n",
       "      <td>79</td>\n",
       "      <td>95</td>\n",
       "      <td>835.50</td>\n",
       "      <td>139.91</td>\n",
       "    </tr>\n",
       "  </tbody>\n",
       "</table>\n",
       "</div>"
      ],
      "text/plain": [
       "        State  \\\n",
       "3    Arkansas   \n",
       "4  California   \n",
       "5    Colorado   \n",
       "\n",
       "   Number of drivers involved in fatal collisions per billion miles  \\\n",
       "3                                               22.4                  \n",
       "4                                               12.0                  \n",
       "5                                               13.6                  \n",
       "\n",
       "   Percentage Of Drivers Involved In Fatal Collisions Who Were Speeding  \\\n",
       "3                                                 18                      \n",
       "4                                                 35                      \n",
       "5                                                 37                      \n",
       "\n",
       "   Percentage Of Drivers Involved In Fatal Collisions Who Were Alcohol-Impaired  \\\n",
       "3                                                 26                              \n",
       "4                                                 28                              \n",
       "5                                                 28                              \n",
       "\n",
       "   Percentage Of Drivers Involved In Fatal Collisions Who Were Not Distracted  \\\n",
       "3                                                 94                            \n",
       "4                                                 91                            \n",
       "5                                                 79                            \n",
       "\n",
       "   Percentage Of Drivers Involved In Fatal Collisions Who Had Not Been Involved In Any Previous Accidents  \\\n",
       "3                                                 95                                                        \n",
       "4                                                 89                                                        \n",
       "5                                                 95                                                        \n",
       "\n",
       "   Car Insurance Premiums ($)  \\\n",
       "3                      827.34   \n",
       "4                      878.41   \n",
       "5                      835.50   \n",
       "\n",
       "   Losses incurred by insurance companies for collisions per insured driver ($)  \n",
       "3                                             142.39                             \n",
       "4                                             165.63                             \n",
       "5                                             139.91                             "
      ]
     },
     "execution_count": 451,
     "metadata": {},
     "output_type": "execute_result"
    }
   ],
   "source": [
    "#Slicing rows: .loc[n1:n2] ==> index n1 to index n2\n",
    "drvr_info.loc[3:5]"
   ]
  },
  {
   "cell_type": "code",
   "execution_count": 452,
   "metadata": {
    "collapsed": false
   },
   "outputs": [
    {
     "data": {
      "text/html": [
       "<div>\n",
       "<table border=\"1\" class=\"dataframe\">\n",
       "  <thead>\n",
       "    <tr style=\"text-align: right;\">\n",
       "      <th></th>\n",
       "      <th>State</th>\n",
       "      <th>Number of drivers involved in fatal collisions per billion miles</th>\n",
       "      <th>Percentage Of Drivers Involved In Fatal Collisions Who Were Speeding</th>\n",
       "      <th>Percentage Of Drivers Involved In Fatal Collisions Who Were Alcohol-Impaired</th>\n",
       "      <th>Percentage Of Drivers Involved In Fatal Collisions Who Were Not Distracted</th>\n",
       "      <th>Percentage Of Drivers Involved In Fatal Collisions Who Had Not Been Involved In Any Previous Accidents</th>\n",
       "      <th>Car Insurance Premiums ($)</th>\n",
       "      <th>Losses incurred by insurance companies for collisions per insured driver ($)</th>\n",
       "    </tr>\n",
       "  </thead>\n",
       "  <tbody>\n",
       "    <tr>\n",
       "      <th>3</th>\n",
       "      <td>Arkansas</td>\n",
       "      <td>22.4</td>\n",
       "      <td>18</td>\n",
       "      <td>26</td>\n",
       "      <td>94</td>\n",
       "      <td>95</td>\n",
       "      <td>827.34</td>\n",
       "      <td>142.39</td>\n",
       "    </tr>\n",
       "    <tr>\n",
       "      <th>6</th>\n",
       "      <td>Connecticut</td>\n",
       "      <td>10.8</td>\n",
       "      <td>46</td>\n",
       "      <td>36</td>\n",
       "      <td>87</td>\n",
       "      <td>82</td>\n",
       "      <td>1068.73</td>\n",
       "      <td>167.02</td>\n",
       "    </tr>\n",
       "    <tr>\n",
       "      <th>9</th>\n",
       "      <td>Florida</td>\n",
       "      <td>17.9</td>\n",
       "      <td>21</td>\n",
       "      <td>29</td>\n",
       "      <td>92</td>\n",
       "      <td>94</td>\n",
       "      <td>1160.13</td>\n",
       "      <td>144.18</td>\n",
       "    </tr>\n",
       "  </tbody>\n",
       "</table>\n",
       "</div>"
      ],
      "text/plain": [
       "         State  \\\n",
       "3     Arkansas   \n",
       "6  Connecticut   \n",
       "9      Florida   \n",
       "\n",
       "   Number of drivers involved in fatal collisions per billion miles  \\\n",
       "3                                               22.4                  \n",
       "6                                               10.8                  \n",
       "9                                               17.9                  \n",
       "\n",
       "   Percentage Of Drivers Involved In Fatal Collisions Who Were Speeding  \\\n",
       "3                                                 18                      \n",
       "6                                                 46                      \n",
       "9                                                 21                      \n",
       "\n",
       "   Percentage Of Drivers Involved In Fatal Collisions Who Were Alcohol-Impaired  \\\n",
       "3                                                 26                              \n",
       "6                                                 36                              \n",
       "9                                                 29                              \n",
       "\n",
       "   Percentage Of Drivers Involved In Fatal Collisions Who Were Not Distracted  \\\n",
       "3                                                 94                            \n",
       "6                                                 87                            \n",
       "9                                                 92                            \n",
       "\n",
       "   Percentage Of Drivers Involved In Fatal Collisions Who Had Not Been Involved In Any Previous Accidents  \\\n",
       "3                                                 95                                                        \n",
       "6                                                 82                                                        \n",
       "9                                                 94                                                        \n",
       "\n",
       "   Car Insurance Premiums ($)  \\\n",
       "3                      827.34   \n",
       "6                     1068.73   \n",
       "9                     1160.13   \n",
       "\n",
       "   Losses incurred by insurance companies for collisions per insured driver ($)  \n",
       "3                                             142.39                             \n",
       "6                                             167.02                             \n",
       "9                                             144.18                             "
      ]
     },
     "execution_count": 452,
     "metadata": {},
     "output_type": "execute_result"
    }
   ],
   "source": [
    "#Slicing rows: .loc[[n1,n2,n3]] ==> index n1, index n2 and index n3\n",
    "drvr_info.loc[[3,6,9]]"
   ]
  },
  {
   "cell_type": "code",
   "execution_count": 453,
   "metadata": {
    "collapsed": false
   },
   "outputs": [
    {
     "data": {
      "text/plain": [
       "0     784.55\n",
       "1    1053.48\n",
       "2     899.47\n",
       "3     827.34\n",
       "Name: Car Insurance Premiums ($), dtype: float64"
      ]
     },
     "execution_count": 453,
     "metadata": {},
     "output_type": "execute_result"
    }
   ],
   "source": [
    "# Slicing columns\n",
    "#drvr_info[\"Car Insurance Premiums ($)\"]\n",
    "drvr_info[\"Car Insurance Premiums ($)\"].head(4)"
   ]
  },
  {
   "cell_type": "code",
   "execution_count": 454,
   "metadata": {
    "collapsed": false
   },
   "outputs": [
    {
     "data": {
      "text/html": [
       "<div>\n",
       "<table border=\"1\" class=\"dataframe\">\n",
       "  <thead>\n",
       "    <tr style=\"text-align: right;\">\n",
       "      <th></th>\n",
       "      <th>State</th>\n",
       "      <th>Car Insurance Premiums ($)</th>\n",
       "    </tr>\n",
       "  </thead>\n",
       "  <tbody>\n",
       "    <tr>\n",
       "      <th>0</th>\n",
       "      <td>Alabama</td>\n",
       "      <td>784.55</td>\n",
       "    </tr>\n",
       "    <tr>\n",
       "      <th>1</th>\n",
       "      <td>Alaska</td>\n",
       "      <td>1053.48</td>\n",
       "    </tr>\n",
       "    <tr>\n",
       "      <th>2</th>\n",
       "      <td>Arizona</td>\n",
       "      <td>899.47</td>\n",
       "    </tr>\n",
       "    <tr>\n",
       "      <th>3</th>\n",
       "      <td>Arkansas</td>\n",
       "      <td>827.34</td>\n",
       "    </tr>\n",
       "  </tbody>\n",
       "</table>\n",
       "</div>"
      ],
      "text/plain": [
       "      State  Car Insurance Premiums ($)\n",
       "0   Alabama                      784.55\n",
       "1    Alaska                     1053.48\n",
       "2   Arizona                      899.47\n",
       "3  Arkansas                      827.34"
      ]
     },
     "execution_count": 454,
     "metadata": {},
     "output_type": "execute_result"
    }
   ],
   "source": [
    "#Slicing multiple columns\n",
    "drvr_info[[\"State\", \"Car Insurance Premiums ($)\"]].head(4)"
   ]
  },
  {
   "cell_type": "code",
   "execution_count": 455,
   "metadata": {
    "collapsed": false,
    "scrolled": true
   },
   "outputs": [
    {
     "data": {
      "text/html": [
       "<div>\n",
       "<table border=\"1\" class=\"dataframe\">\n",
       "  <thead>\n",
       "    <tr style=\"text-align: right;\">\n",
       "      <th></th>\n",
       "      <th>Number of drivers involved in fatal collisions per billion miles</th>\n",
       "      <th>Percentage Of Drivers Involved In Fatal Collisions Who Were Speeding</th>\n",
       "      <th>Percentage Of Drivers Involved In Fatal Collisions Who Were Alcohol-Impaired</th>\n",
       "      <th>Percentage Of Drivers Involved In Fatal Collisions Who Were Not Distracted</th>\n",
       "      <th>Percentage Of Drivers Involved In Fatal Collisions Who Had Not Been Involved In Any Previous Accidents</th>\n",
       "    </tr>\n",
       "  </thead>\n",
       "  <tbody>\n",
       "    <tr>\n",
       "      <th>0</th>\n",
       "      <td>18.8</td>\n",
       "      <td>39</td>\n",
       "      <td>30</td>\n",
       "      <td>96</td>\n",
       "      <td>80</td>\n",
       "    </tr>\n",
       "    <tr>\n",
       "      <th>1</th>\n",
       "      <td>18.1</td>\n",
       "      <td>41</td>\n",
       "      <td>25</td>\n",
       "      <td>90</td>\n",
       "      <td>94</td>\n",
       "    </tr>\n",
       "    <tr>\n",
       "      <th>2</th>\n",
       "      <td>18.6</td>\n",
       "      <td>35</td>\n",
       "      <td>28</td>\n",
       "      <td>84</td>\n",
       "      <td>96</td>\n",
       "    </tr>\n",
       "    <tr>\n",
       "      <th>3</th>\n",
       "      <td>22.4</td>\n",
       "      <td>18</td>\n",
       "      <td>26</td>\n",
       "      <td>94</td>\n",
       "      <td>95</td>\n",
       "    </tr>\n",
       "  </tbody>\n",
       "</table>\n",
       "</div>"
      ],
      "text/plain": [
       "   Number of drivers involved in fatal collisions per billion miles  \\\n",
       "0                                               18.8                  \n",
       "1                                               18.1                  \n",
       "2                                               18.6                  \n",
       "3                                               22.4                  \n",
       "\n",
       "   Percentage Of Drivers Involved In Fatal Collisions Who Were Speeding  \\\n",
       "0                                                 39                      \n",
       "1                                                 41                      \n",
       "2                                                 35                      \n",
       "3                                                 18                      \n",
       "\n",
       "   Percentage Of Drivers Involved In Fatal Collisions Who Were Alcohol-Impaired  \\\n",
       "0                                                 30                              \n",
       "1                                                 25                              \n",
       "2                                                 28                              \n",
       "3                                                 26                              \n",
       "\n",
       "   Percentage Of Drivers Involved In Fatal Collisions Who Were Not Distracted  \\\n",
       "0                                                 96                            \n",
       "1                                                 90                            \n",
       "2                                                 84                            \n",
       "3                                                 94                            \n",
       "\n",
       "   Percentage Of Drivers Involved In Fatal Collisions Who Had Not Been Involved In Any Previous Accidents  \n",
       "0                                                 80                                                       \n",
       "1                                                 94                                                       \n",
       "2                                                 96                                                       \n",
       "3                                                 95                                                       "
      ]
     },
     "execution_count": 455,
     "metadata": {},
     "output_type": "execute_result"
    }
   ],
   "source": [
    "#Select only those columns which have the word 'fatal' in the column names\n",
    "import re\n",
    "cols = drvr_info.columns\n",
    "cols_lst = cols.tolist()\n",
    "filt_cols = []\n",
    "for i in cols_lst:\n",
    "    if re.search(\"[fF]atal\",i):\n",
    "        filt_cols.append(i)\n",
    "drvr_info[filt_cols].head(4)"
   ]
  },
  {
   "cell_type": "code",
   "execution_count": 456,
   "metadata": {
    "collapsed": false
   },
   "outputs": [
    {
     "name": "stdout",
     "output_type": "stream",
     "text": [
      "0    0.39\n",
      "1    0.41\n",
      "2    0.35\n",
      "3    0.18\n",
      "4    0.35\n",
      "Name: Percentage Of Drivers Involved In Fatal Collisions Who Were Speeding, dtype: float64\n"
     ]
    }
   ],
   "source": [
    "# Transforming a column\n",
    "col_speed = \"Percentage Of Drivers Involved In Fatal Collisions Who Were Speeding\"\n",
    "speed = drvr_info[col_speed] / 100\n",
    "print(speed.head(5))"
   ]
  },
  {
   "cell_type": "code",
   "execution_count": 457,
   "metadata": {
    "collapsed": false
   },
   "outputs": [
    {
     "data": {
      "text/plain": [
       "Index(['State',\n",
       "       'Number of drivers involved in fatal collisions per billion miles',\n",
       "       'Percentage Of Drivers Involved In Fatal Collisions Who Were Speeding',\n",
       "       'Percentage Of Drivers Involved In Fatal Collisions Who Were Alcohol-Impaired',\n",
       "       'Percentage Of Drivers Involved In Fatal Collisions Who Were Not Distracted',\n",
       "       'Percentage Of Drivers Involved In Fatal Collisions Who Had Not Been Involved In Any Previous Accidents',\n",
       "       'Car Insurance Premiums ($)',\n",
       "       'Losses incurred by insurance companies for collisions per insured driver ($)',\n",
       "       'Speeding Drivers involved in Fatal Collisions per 100'],\n",
       "      dtype='object')"
      ]
     },
     "execution_count": 457,
     "metadata": {},
     "output_type": "execute_result"
    }
   ],
   "source": [
    "#Append the transformed col to the dataframe\n",
    "drvr_info[\"Speeding Drivers involved in Fatal Collisions per 100\"] = speed\n",
    "drvr_info.columns"
   ]
  },
  {
   "cell_type": "code",
   "execution_count": 458,
   "metadata": {
    "collapsed": false
   },
   "outputs": [
    {
     "data": {
      "text/html": [
       "<div>\n",
       "<table border=\"1\" class=\"dataframe\">\n",
       "  <thead>\n",
       "    <tr style=\"text-align: right;\">\n",
       "      <th></th>\n",
       "      <th>State</th>\n",
       "      <th>Number of drivers involved in fatal collisions per billion miles</th>\n",
       "      <th>Percentage Of Drivers Involved In Fatal Collisions Who Were Speeding</th>\n",
       "      <th>Percentage Of Drivers Involved In Fatal Collisions Who Were Alcohol-Impaired</th>\n",
       "      <th>Percentage Of Drivers Involved In Fatal Collisions Who Were Not Distracted</th>\n",
       "      <th>Percentage Of Drivers Involved In Fatal Collisions Who Had Not Been Involved In Any Previous Accidents</th>\n",
       "      <th>Car Insurance Premiums ($)</th>\n",
       "      <th>Losses incurred by insurance companies for collisions per insured driver ($)</th>\n",
       "      <th>Speeding Drivers involved in Fatal Collisions per 100</th>\n",
       "    </tr>\n",
       "  </thead>\n",
       "  <tbody>\n",
       "    <tr>\n",
       "      <th>0</th>\n",
       "      <td>Alabama</td>\n",
       "      <td>18.8</td>\n",
       "      <td>39</td>\n",
       "      <td>30</td>\n",
       "      <td>96</td>\n",
       "      <td>80</td>\n",
       "      <td>784.55</td>\n",
       "      <td>145.08</td>\n",
       "      <td>0.39</td>\n",
       "    </tr>\n",
       "    <tr>\n",
       "      <th>1</th>\n",
       "      <td>Alaska</td>\n",
       "      <td>18.1</td>\n",
       "      <td>41</td>\n",
       "      <td>25</td>\n",
       "      <td>90</td>\n",
       "      <td>94</td>\n",
       "      <td>1053.48</td>\n",
       "      <td>133.93</td>\n",
       "      <td>0.41</td>\n",
       "    </tr>\n",
       "    <tr>\n",
       "      <th>2</th>\n",
       "      <td>Arizona</td>\n",
       "      <td>18.6</td>\n",
       "      <td>35</td>\n",
       "      <td>28</td>\n",
       "      <td>84</td>\n",
       "      <td>96</td>\n",
       "      <td>899.47</td>\n",
       "      <td>110.35</td>\n",
       "      <td>0.35</td>\n",
       "    </tr>\n",
       "    <tr>\n",
       "      <th>3</th>\n",
       "      <td>Arkansas</td>\n",
       "      <td>22.4</td>\n",
       "      <td>18</td>\n",
       "      <td>26</td>\n",
       "      <td>94</td>\n",
       "      <td>95</td>\n",
       "      <td>827.34</td>\n",
       "      <td>142.39</td>\n",
       "      <td>0.18</td>\n",
       "    </tr>\n",
       "  </tbody>\n",
       "</table>\n",
       "</div>"
      ],
      "text/plain": [
       "      State  Number of drivers involved in fatal collisions per billion miles  \\\n",
       "0   Alabama                                               18.8                  \n",
       "1    Alaska                                               18.1                  \n",
       "2   Arizona                                               18.6                  \n",
       "3  Arkansas                                               22.4                  \n",
       "\n",
       "   Percentage Of Drivers Involved In Fatal Collisions Who Were Speeding  \\\n",
       "0                                                 39                      \n",
       "1                                                 41                      \n",
       "2                                                 35                      \n",
       "3                                                 18                      \n",
       "\n",
       "   Percentage Of Drivers Involved In Fatal Collisions Who Were Alcohol-Impaired  \\\n",
       "0                                                 30                              \n",
       "1                                                 25                              \n",
       "2                                                 28                              \n",
       "3                                                 26                              \n",
       "\n",
       "   Percentage Of Drivers Involved In Fatal Collisions Who Were Not Distracted  \\\n",
       "0                                                 96                            \n",
       "1                                                 90                            \n",
       "2                                                 84                            \n",
       "3                                                 94                            \n",
       "\n",
       "   Percentage Of Drivers Involved In Fatal Collisions Who Had Not Been Involved In Any Previous Accidents  \\\n",
       "0                                                 80                                                        \n",
       "1                                                 94                                                        \n",
       "2                                                 96                                                        \n",
       "3                                                 95                                                        \n",
       "\n",
       "   Car Insurance Premiums ($)  \\\n",
       "0                      784.55   \n",
       "1                     1053.48   \n",
       "2                      899.47   \n",
       "3                      827.34   \n",
       "\n",
       "   Losses incurred by insurance companies for collisions per insured driver ($)  \\\n",
       "0                                             145.08                              \n",
       "1                                             133.93                              \n",
       "2                                             110.35                              \n",
       "3                                             142.39                              \n",
       "\n",
       "   Speeding Drivers involved in Fatal Collisions per 100  \n",
       "0                                               0.39      \n",
       "1                                               0.41      \n",
       "2                                               0.35      \n",
       "3                                               0.18      "
      ]
     },
     "execution_count": 458,
     "metadata": {},
     "output_type": "execute_result"
    }
   ],
   "source": [
    "drvr_info.head(4)"
   ]
  },
  {
   "cell_type": "code",
   "execution_count": 459,
   "metadata": {
    "collapsed": false
   },
   "outputs": [
    {
     "name": "stdout",
     "output_type": "stream",
     "text": [
      "max_col:  1301.52\n"
     ]
    }
   ],
   "source": [
    "# Normalizing columns\n",
    "max_col = drvr_info[\"Car Insurance Premiums ($)\"].max()\n",
    "print(\"max_col: \" ,max_col)\n",
    "norm_ins = drvr_info[\"Car Insurance Premiums ($)\"]/max_col"
   ]
  },
  {
   "cell_type": "code",
   "execution_count": 460,
   "metadata": {
    "collapsed": false
   },
   "outputs": [
    {
     "data": {
      "text/plain": [
       "0     0.602795\n",
       "30    1.000000\n",
       "10    0.701603\n",
       "Name: Car Insurance Premiums ($), dtype: float64"
      ]
     },
     "execution_count": 460,
     "metadata": {},
     "output_type": "execute_result"
    }
   ],
   "source": [
    "norm_ins.loc[[0,30,10]]"
   ]
  },
  {
   "cell_type": "code",
   "execution_count": 461,
   "metadata": {
    "collapsed": false
   },
   "outputs": [
    {
     "data": {
      "text/html": [
       "<div>\n",
       "<table border=\"1\" class=\"dataframe\">\n",
       "  <thead>\n",
       "    <tr style=\"text-align: right;\">\n",
       "      <th></th>\n",
       "      <th>State</th>\n",
       "      <th>Number of drivers involved in fatal collisions per billion miles</th>\n",
       "      <th>Percentage Of Drivers Involved In Fatal Collisions Who Were Speeding</th>\n",
       "      <th>Percentage Of Drivers Involved In Fatal Collisions Who Were Alcohol-Impaired</th>\n",
       "      <th>Percentage Of Drivers Involved In Fatal Collisions Who Were Not Distracted</th>\n",
       "      <th>Percentage Of Drivers Involved In Fatal Collisions Who Had Not Been Involved In Any Previous Accidents</th>\n",
       "      <th>Car Insurance Premiums ($)</th>\n",
       "      <th>Losses incurred by insurance companies for collisions per insured driver ($)</th>\n",
       "      <th>Speeding Drivers involved in Fatal Collisions per 100</th>\n",
       "    </tr>\n",
       "  </thead>\n",
       "  <tbody>\n",
       "    <tr>\n",
       "      <th>0</th>\n",
       "      <td>Alabama</td>\n",
       "      <td>18.8</td>\n",
       "      <td>39</td>\n",
       "      <td>30</td>\n",
       "      <td>96</td>\n",
       "      <td>80</td>\n",
       "      <td>784.55</td>\n",
       "      <td>145.08</td>\n",
       "      <td>0.39</td>\n",
       "    </tr>\n",
       "    <tr>\n",
       "      <th>1</th>\n",
       "      <td>Alaska</td>\n",
       "      <td>18.1</td>\n",
       "      <td>41</td>\n",
       "      <td>25</td>\n",
       "      <td>90</td>\n",
       "      <td>94</td>\n",
       "      <td>1053.48</td>\n",
       "      <td>133.93</td>\n",
       "      <td>0.41</td>\n",
       "    </tr>\n",
       "  </tbody>\n",
       "</table>\n",
       "</div>"
      ],
      "text/plain": [
       "     State  Number of drivers involved in fatal collisions per billion miles  \\\n",
       "0  Alabama                                               18.8                  \n",
       "1   Alaska                                               18.1                  \n",
       "\n",
       "   Percentage Of Drivers Involved In Fatal Collisions Who Were Speeding  \\\n",
       "0                                                 39                      \n",
       "1                                                 41                      \n",
       "\n",
       "   Percentage Of Drivers Involved In Fatal Collisions Who Were Alcohol-Impaired  \\\n",
       "0                                                 30                              \n",
       "1                                                 25                              \n",
       "\n",
       "   Percentage Of Drivers Involved In Fatal Collisions Who Were Not Distracted  \\\n",
       "0                                                 96                            \n",
       "1                                                 90                            \n",
       "\n",
       "   Percentage Of Drivers Involved In Fatal Collisions Who Had Not Been Involved In Any Previous Accidents  \\\n",
       "0                                                 80                                                        \n",
       "1                                                 94                                                        \n",
       "\n",
       "   Car Insurance Premiums ($)  \\\n",
       "0                      784.55   \n",
       "1                     1053.48   \n",
       "\n",
       "   Losses incurred by insurance companies for collisions per insured driver ($)  \\\n",
       "0                                             145.08                              \n",
       "1                                             133.93                              \n",
       "\n",
       "   Speeding Drivers involved in Fatal Collisions per 100  \n",
       "0                                               0.39      \n",
       "1                                               0.41      "
      ]
     },
     "execution_count": 461,
     "metadata": {},
     "output_type": "execute_result"
    }
   ],
   "source": [
    "#iloc to access rows by position\n",
    "#print(drvr_info)\n",
    "drvr_info.iloc[0:2]"
   ]
  },
  {
   "cell_type": "code",
   "execution_count": 462,
   "metadata": {
    "collapsed": false
   },
   "outputs": [
    {
     "name": "stdout",
     "output_type": "stream",
     "text": [
      "Insurance Premium [0:2]\n",
      "-----------------------\n",
      "0     784.55\n",
      "1    1053.48\n",
      "Name: Car Insurance Premiums ($), dtype: float64\n",
      "\n",
      "Insurance Premium - iloc[0:2]\n",
      "-----------------------------\n",
      "0     784.55\n",
      "1    1053.48\n",
      "Name: Car Insurance Premiums ($), dtype: float64\n",
      "\n",
      "Insurance Premium - loc[0:2]\n",
      "-----------------------------\n",
      "0     784.55\n",
      "1    1053.48\n",
      "2     899.47\n",
      "Name: Car Insurance Premiums ($), dtype: float64\n",
      "\n",
      "Insurance Premium - ix[0:2]\n",
      "-----------------------------\n",
      "0     784.55\n",
      "1    1053.48\n",
      "2     899.47\n",
      "Name: Car Insurance Premiums ($), dtype: float64\n"
     ]
    }
   ],
   "source": [
    "#iloc to access rows by position\n",
    "ins_prem = drvr_info[\"Car Insurance Premiums ($)\"]\n",
    "print(\"Insurance Premium [0:2]\")\n",
    "print(\"-----------------------\")\n",
    "print(ins_prem[0:2])\n",
    "print(\"\\nInsurance Premium - iloc[0:2]\")\n",
    "print(\"-----------------------------\")\n",
    "print(ins_prem.iloc[0:2])\n",
    "print(\"\\nInsurance Premium - loc[0:2]\")\n",
    "print(\"-----------------------------\")\n",
    "print(ins_prem.loc[0:2])\n",
    "print(\"\\nInsurance Premium - ix[0:2]\")\n",
    "print(\"-----------------------------\")\n",
    "print(ins_prem.ix[0:2])"
   ]
  },
  {
   "cell_type": "code",
   "execution_count": 463,
   "metadata": {
    "collapsed": false
   },
   "outputs": [
    {
     "name": "stdout",
     "output_type": "stream",
     "text": [
      "Insurance Premium [0,2]\n",
      "-----------------------\n"
     ]
    },
    {
     "data": {
      "text/plain": [
       "39"
      ]
     },
     "execution_count": 463,
     "metadata": {},
     "output_type": "execute_result"
    }
   ],
   "source": [
    "#Indexing columns (using iloc)\n",
    "print(\"Insurance Premium [0,2]\")\n",
    "print(\"-----------------------\")\n",
    "drvr_info.iloc[0,2]"
   ]
  },
  {
   "cell_type": "code",
   "execution_count": 464,
   "metadata": {
    "collapsed": false
   },
   "outputs": [
    {
     "name": "stdout",
     "output_type": "stream",
     "text": [
      "Arizona\n",
      "         State  \\\n",
      "6  Connecticut   \n",
      "7     Delaware   \n",
      "\n",
      "   Number of drivers involved in fatal collisions per billion miles  \n",
      "6                                               10.8                 \n",
      "7                                               16.2                 \n",
      "     State  Number of drivers involved in fatal collisions per billion miles\n",
      "0  Alabama                                               18.8               \n",
      "1   Alaska                                               18.1               \n",
      "      State  Number of drivers involved in fatal collisions per billion miles  \\\n",
      "10  Georgia                                               15.6                  \n",
      "11   Hawaii                                               17.5                  \n",
      "12    Idaho                                               15.3                  \n",
      "\n",
      "    Percentage Of Drivers Involved In Fatal Collisions Who Were Speeding  \\\n",
      "10                                                 19                      \n",
      "11                                                 54                      \n",
      "12                                                 36                      \n",
      "\n",
      "    Percentage Of Drivers Involved In Fatal Collisions Who Were Alcohol-Impaired  \\\n",
      "10                                                 25                              \n",
      "11                                                 41                              \n",
      "12                                                 29                              \n",
      "\n",
      "    Percentage Of Drivers Involved In Fatal Collisions Who Were Not Distracted  \\\n",
      "10                                                 95                            \n",
      "11                                                 82                            \n",
      "12                                                 85                            \n",
      "\n",
      "    Percentage Of Drivers Involved In Fatal Collisions Who Had Not Been Involved In Any Previous Accidents  \\\n",
      "10                                                 93                                                        \n",
      "11                                                 87                                                        \n",
      "12                                                 98                                                        \n",
      "\n",
      "    Car Insurance Premiums ($)  \\\n",
      "10                      913.15   \n",
      "11                      861.18   \n",
      "12                      641.96   \n",
      "\n",
      "    Losses incurred by insurance companies for collisions per insured driver ($)  \\\n",
      "10                                             142.80                              \n",
      "11                                             120.92                              \n",
      "12                                              82.75                              \n",
      "\n",
      "    Speeding Drivers involved in Fatal Collisions per 100  \n",
      "10                                               0.19      \n",
      "11                                               0.54      \n",
      "12                                               0.36      \n"
     ]
    }
   ],
   "source": [
    "#Row 3, first column\n",
    "print(drvr_info.iloc[2,0])\n",
    "#element in position6 to 8th element, first 2 columns\n",
    "print(drvr_info.iloc[6:8,0:2])\n",
    "\n",
    "#element in positions 5,6,7 for first 2 columns\n",
    "print(drvr_info.iloc[0:2,0:2])\n",
    "\n",
    "#Element in positions 10,11,12 for all columns\n",
    "print(drvr_info.iloc[10:13,:])\n",
    "\n"
   ]
  },
  {
   "cell_type": "code",
   "execution_count": 465,
   "metadata": {
    "collapsed": false
   },
   "outputs": [
    {
     "name": "stdout",
     "output_type": "stream",
     "text": [
      "109.61\n"
     ]
    }
   ],
   "source": [
    "#Element at pos 45, col \"Losses incurred by insurance companies for collisions per insured driver ($)\"\n",
    "print(drvr_info.loc[45, \"Losses incurred by insurance companies for collisions per insured driver ($)\"])"
   ]
  },
  {
   "cell_type": "code",
   "execution_count": 466,
   "metadata": {
    "collapsed": false
   },
   "outputs": [
    {
     "name": "stdout",
     "output_type": "stream",
     "text": [
      "\n",
      " Dataframe - loc[0,2]\n",
      "-----------------------------\n"
     ]
    },
    {
     "data": {
      "text/plain": [
       "145.08000000000001"
      ]
     },
     "execution_count": 466,
     "metadata": {},
     "output_type": "execute_result"
    }
   ],
   "source": [
    "#Indexing columns (using loc)\n",
    "print(\"\\n Dataframe - loc[0,2]\")\n",
    "print(\"-----------------------------\")\n",
    "drvr_info.loc[0,\"Losses incurred by insurance companies for collisions per insured driver ($)\"]"
   ]
  },
  {
   "cell_type": "code",
   "execution_count": 467,
   "metadata": {
    "collapsed": false
   },
   "outputs": [
    {
     "name": "stdout",
     "output_type": "stream",
     "text": [
      "\n",
      " Dataframe - ix[0:2]\n",
      "-----------------------------\n"
     ]
    },
    {
     "data": {
      "text/html": [
       "<div>\n",
       "<table border=\"1\" class=\"dataframe\">\n",
       "  <thead>\n",
       "    <tr style=\"text-align: right;\">\n",
       "      <th></th>\n",
       "      <th>State</th>\n",
       "      <th>Number of drivers involved in fatal collisions per billion miles</th>\n",
       "      <th>Percentage Of Drivers Involved In Fatal Collisions Who Were Speeding</th>\n",
       "      <th>Percentage Of Drivers Involved In Fatal Collisions Who Were Alcohol-Impaired</th>\n",
       "      <th>Percentage Of Drivers Involved In Fatal Collisions Who Were Not Distracted</th>\n",
       "      <th>Percentage Of Drivers Involved In Fatal Collisions Who Had Not Been Involved In Any Previous Accidents</th>\n",
       "      <th>Car Insurance Premiums ($)</th>\n",
       "      <th>Losses incurred by insurance companies for collisions per insured driver ($)</th>\n",
       "      <th>Speeding Drivers involved in Fatal Collisions per 100</th>\n",
       "    </tr>\n",
       "  </thead>\n",
       "  <tbody>\n",
       "    <tr>\n",
       "      <th>0</th>\n",
       "      <td>Alabama</td>\n",
       "      <td>18.8</td>\n",
       "      <td>39</td>\n",
       "      <td>30</td>\n",
       "      <td>96</td>\n",
       "      <td>80</td>\n",
       "      <td>784.55</td>\n",
       "      <td>145.08</td>\n",
       "      <td>0.39</td>\n",
       "    </tr>\n",
       "    <tr>\n",
       "      <th>1</th>\n",
       "      <td>Alaska</td>\n",
       "      <td>18.1</td>\n",
       "      <td>41</td>\n",
       "      <td>25</td>\n",
       "      <td>90</td>\n",
       "      <td>94</td>\n",
       "      <td>1053.48</td>\n",
       "      <td>133.93</td>\n",
       "      <td>0.41</td>\n",
       "    </tr>\n",
       "    <tr>\n",
       "      <th>2</th>\n",
       "      <td>Arizona</td>\n",
       "      <td>18.6</td>\n",
       "      <td>35</td>\n",
       "      <td>28</td>\n",
       "      <td>84</td>\n",
       "      <td>96</td>\n",
       "      <td>899.47</td>\n",
       "      <td>110.35</td>\n",
       "      <td>0.35</td>\n",
       "    </tr>\n",
       "  </tbody>\n",
       "</table>\n",
       "</div>"
      ],
      "text/plain": [
       "     State  Number of drivers involved in fatal collisions per billion miles  \\\n",
       "0  Alabama                                               18.8                  \n",
       "1   Alaska                                               18.1                  \n",
       "2  Arizona                                               18.6                  \n",
       "\n",
       "   Percentage Of Drivers Involved In Fatal Collisions Who Were Speeding  \\\n",
       "0                                                 39                      \n",
       "1                                                 41                      \n",
       "2                                                 35                      \n",
       "\n",
       "   Percentage Of Drivers Involved In Fatal Collisions Who Were Alcohol-Impaired  \\\n",
       "0                                                 30                              \n",
       "1                                                 25                              \n",
       "2                                                 28                              \n",
       "\n",
       "   Percentage Of Drivers Involved In Fatal Collisions Who Were Not Distracted  \\\n",
       "0                                                 96                            \n",
       "1                                                 90                            \n",
       "2                                                 84                            \n",
       "\n",
       "   Percentage Of Drivers Involved In Fatal Collisions Who Had Not Been Involved In Any Previous Accidents  \\\n",
       "0                                                 80                                                        \n",
       "1                                                 94                                                        \n",
       "2                                                 96                                                        \n",
       "\n",
       "   Car Insurance Premiums ($)  \\\n",
       "0                      784.55   \n",
       "1                     1053.48   \n",
       "2                      899.47   \n",
       "\n",
       "   Losses incurred by insurance companies for collisions per insured driver ($)  \\\n",
       "0                                             145.08                              \n",
       "1                                             133.93                              \n",
       "2                                             110.35                              \n",
       "\n",
       "   Speeding Drivers involved in Fatal Collisions per 100  \n",
       "0                                               0.39      \n",
       "1                                               0.41      \n",
       "2                                               0.35      "
      ]
     },
     "execution_count": 467,
     "metadata": {},
     "output_type": "execute_result"
    }
   ],
   "source": [
    "#Indexing columns\n",
    "print(\"\\n Dataframe - ix[0:2]\")\n",
    "print(\"-----------------------------\")\n",
    "drvr_info.ix[0:2]"
   ]
  },
  {
   "cell_type": "code",
   "execution_count": 468,
   "metadata": {
    "collapsed": false
   },
   "outputs": [
    {
     "data": {
      "text/plain": [
       "State                                                                                                     Wyoming\n",
       "Number of drivers involved in fatal collisions per billion miles                                             17.4\n",
       "Percentage Of Drivers Involved In Fatal Collisions Who Were Speeding                                           42\n",
       "Percentage Of Drivers Involved In Fatal Collisions Who Were Alcohol-Impaired                                   32\n",
       "Percentage Of Drivers Involved In Fatal Collisions Who Were Not Distracted                                     81\n",
       "Percentage Of Drivers Involved In Fatal Collisions Who Had Not Been Involved In Any Previous Accidents         90\n",
       "Car Insurance Premiums ($)                                                                                 791.14\n",
       "Losses incurred by insurance companies for collisions per insured driver ($)                               122.04\n",
       "Speeding Drivers involved in Fatal Collisions per 100                                                        0.42\n",
       "Name: 50, dtype: object"
      ]
     },
     "execution_count": 468,
     "metadata": {},
     "output_type": "execute_result"
    }
   ],
   "source": [
    "#Row index 50, col index 'Car Insurance Premiums ($)'\n",
    "drvr_info.loc[50,]"
   ]
  },
  {
   "cell_type": "code",
   "execution_count": 469,
   "metadata": {
    "collapsed": false
   },
   "outputs": [
    {
     "data": {
      "text/html": [
       "<div>\n",
       "<table border=\"1\" class=\"dataframe\">\n",
       "  <thead>\n",
       "    <tr style=\"text-align: right;\">\n",
       "      <th></th>\n",
       "      <th>State</th>\n",
       "      <th>Number of drivers involved in fatal collisions per billion miles</th>\n",
       "      <th>Percentage Of Drivers Involved In Fatal Collisions Who Were Speeding</th>\n",
       "      <th>Percentage Of Drivers Involved In Fatal Collisions Who Were Alcohol-Impaired</th>\n",
       "      <th>Percentage Of Drivers Involved In Fatal Collisions Who Were Not Distracted</th>\n",
       "      <th>Percentage Of Drivers Involved In Fatal Collisions Who Had Not Been Involved In Any Previous Accidents</th>\n",
       "      <th>Car Insurance Premiums ($)</th>\n",
       "      <th>Losses incurred by insurance companies for collisions per insured driver ($)</th>\n",
       "      <th>Speeding Drivers involved in Fatal Collisions per 100</th>\n",
       "    </tr>\n",
       "  </thead>\n",
       "  <tbody>\n",
       "    <tr>\n",
       "      <th>12</th>\n",
       "      <td>Idaho</td>\n",
       "      <td>15.3</td>\n",
       "      <td>36</td>\n",
       "      <td>29</td>\n",
       "      <td>85</td>\n",
       "      <td>98</td>\n",
       "      <td>641.96</td>\n",
       "      <td>82.75</td>\n",
       "      <td>0.36</td>\n",
       "    </tr>\n",
       "    <tr>\n",
       "      <th>26</th>\n",
       "      <td>Montana</td>\n",
       "      <td>21.4</td>\n",
       "      <td>39</td>\n",
       "      <td>44</td>\n",
       "      <td>84</td>\n",
       "      <td>85</td>\n",
       "      <td>816.21</td>\n",
       "      <td>85.15</td>\n",
       "      <td>0.39</td>\n",
       "    </tr>\n",
       "    <tr>\n",
       "      <th>19</th>\n",
       "      <td>Maine</td>\n",
       "      <td>15.1</td>\n",
       "      <td>38</td>\n",
       "      <td>30</td>\n",
       "      <td>87</td>\n",
       "      <td>84</td>\n",
       "      <td>661.88</td>\n",
       "      <td>96.57</td>\n",
       "      <td>0.38</td>\n",
       "    </tr>\n",
       "  </tbody>\n",
       "</table>\n",
       "</div>"
      ],
      "text/plain": [
       "      State  Number of drivers involved in fatal collisions per billion miles  \\\n",
       "12    Idaho                                               15.3                  \n",
       "26  Montana                                               21.4                  \n",
       "19    Maine                                               15.1                  \n",
       "\n",
       "    Percentage Of Drivers Involved In Fatal Collisions Who Were Speeding  \\\n",
       "12                                                 36                      \n",
       "26                                                 39                      \n",
       "19                                                 38                      \n",
       "\n",
       "    Percentage Of Drivers Involved In Fatal Collisions Who Were Alcohol-Impaired  \\\n",
       "12                                                 29                              \n",
       "26                                                 44                              \n",
       "19                                                 30                              \n",
       "\n",
       "    Percentage Of Drivers Involved In Fatal Collisions Who Were Not Distracted  \\\n",
       "12                                                 85                            \n",
       "26                                                 84                            \n",
       "19                                                 87                            \n",
       "\n",
       "    Percentage Of Drivers Involved In Fatal Collisions Who Had Not Been Involved In Any Previous Accidents  \\\n",
       "12                                                 98                                                        \n",
       "26                                                 85                                                        \n",
       "19                                                 84                                                        \n",
       "\n",
       "    Car Insurance Premiums ($)  \\\n",
       "12                      641.96   \n",
       "26                      816.21   \n",
       "19                      661.88   \n",
       "\n",
       "    Losses incurred by insurance companies for collisions per insured driver ($)  \\\n",
       "12                                              82.75                              \n",
       "26                                              85.15                              \n",
       "19                                              96.57                              \n",
       "\n",
       "    Speeding Drivers involved in Fatal Collisions per 100  \n",
       "12                                               0.36      \n",
       "26                                               0.39      \n",
       "19                                               0.38      "
      ]
     },
     "execution_count": 469,
     "metadata": {},
     "output_type": "execute_result"
    }
   ],
   "source": [
    "#Sorting a Dataframe\n",
    "#default order is ascending\n",
    "drvr_info_srt = drvr_info.sort_values(\"Losses incurred by insurance companies for collisions per insured driver ($)\")\n",
    "drvr_info_srt.head(3)"
   ]
  },
  {
   "cell_type": "code",
   "execution_count": 470,
   "metadata": {
    "collapsed": false
   },
   "outputs": [
    {
     "data": {
      "text/html": [
       "<div>\n",
       "<table border=\"1\" class=\"dataframe\">\n",
       "  <thead>\n",
       "    <tr style=\"text-align: right;\">\n",
       "      <th></th>\n",
       "      <th>State</th>\n",
       "      <th>Number of drivers involved in fatal collisions per billion miles</th>\n",
       "      <th>Percentage Of Drivers Involved In Fatal Collisions Who Were Speeding</th>\n",
       "      <th>Percentage Of Drivers Involved In Fatal Collisions Who Were Alcohol-Impaired</th>\n",
       "      <th>Percentage Of Drivers Involved In Fatal Collisions Who Were Not Distracted</th>\n",
       "      <th>Percentage Of Drivers Involved In Fatal Collisions Who Had Not Been Involved In Any Previous Accidents</th>\n",
       "      <th>Car Insurance Premiums ($)</th>\n",
       "      <th>Losses incurred by insurance companies for collisions per insured driver ($)</th>\n",
       "      <th>Speeding Drivers involved in Fatal Collisions per 100</th>\n",
       "    </tr>\n",
       "  </thead>\n",
       "  <tbody>\n",
       "    <tr>\n",
       "      <th>18</th>\n",
       "      <td>Louisiana</td>\n",
       "      <td>20.5</td>\n",
       "      <td>35</td>\n",
       "      <td>33</td>\n",
       "      <td>73</td>\n",
       "      <td>98</td>\n",
       "      <td>1281.55</td>\n",
       "      <td>194.78</td>\n",
       "      <td>0.35</td>\n",
       "    </tr>\n",
       "    <tr>\n",
       "      <th>20</th>\n",
       "      <td>Maryland</td>\n",
       "      <td>12.5</td>\n",
       "      <td>34</td>\n",
       "      <td>32</td>\n",
       "      <td>71</td>\n",
       "      <td>99</td>\n",
       "      <td>1048.78</td>\n",
       "      <td>192.70</td>\n",
       "      <td>0.34</td>\n",
       "    </tr>\n",
       "    <tr>\n",
       "      <th>36</th>\n",
       "      <td>Oklahoma</td>\n",
       "      <td>19.9</td>\n",
       "      <td>32</td>\n",
       "      <td>29</td>\n",
       "      <td>92</td>\n",
       "      <td>94</td>\n",
       "      <td>881.51</td>\n",
       "      <td>178.86</td>\n",
       "      <td>0.32</td>\n",
       "    </tr>\n",
       "  </tbody>\n",
       "</table>\n",
       "</div>"
      ],
      "text/plain": [
       "        State  \\\n",
       "18  Louisiana   \n",
       "20   Maryland   \n",
       "36   Oklahoma   \n",
       "\n",
       "    Number of drivers involved in fatal collisions per billion miles  \\\n",
       "18                                               20.5                  \n",
       "20                                               12.5                  \n",
       "36                                               19.9                  \n",
       "\n",
       "    Percentage Of Drivers Involved In Fatal Collisions Who Were Speeding  \\\n",
       "18                                                 35                      \n",
       "20                                                 34                      \n",
       "36                                                 32                      \n",
       "\n",
       "    Percentage Of Drivers Involved In Fatal Collisions Who Were Alcohol-Impaired  \\\n",
       "18                                                 33                              \n",
       "20                                                 32                              \n",
       "36                                                 29                              \n",
       "\n",
       "    Percentage Of Drivers Involved In Fatal Collisions Who Were Not Distracted  \\\n",
       "18                                                 73                            \n",
       "20                                                 71                            \n",
       "36                                                 92                            \n",
       "\n",
       "    Percentage Of Drivers Involved In Fatal Collisions Who Had Not Been Involved In Any Previous Accidents  \\\n",
       "18                                                 98                                                        \n",
       "20                                                 99                                                        \n",
       "36                                                 94                                                        \n",
       "\n",
       "    Car Insurance Premiums ($)  \\\n",
       "18                     1281.55   \n",
       "20                     1048.78   \n",
       "36                      881.51   \n",
       "\n",
       "    Losses incurred by insurance companies for collisions per insured driver ($)  \\\n",
       "18                                             194.78                              \n",
       "20                                             192.70                              \n",
       "36                                             178.86                              \n",
       "\n",
       "    Speeding Drivers involved in Fatal Collisions per 100  \n",
       "18                                               0.35      \n",
       "20                                               0.34      \n",
       "36                                               0.32      "
      ]
     },
     "execution_count": 470,
     "metadata": {},
     "output_type": "execute_result"
    }
   ],
   "source": [
    "#Sort in descending order\n",
    "sort_col = \"Losses incurred by insurance companies for collisions per insured driver ($)\"\n",
    "drvr_info_srt = drvr_info.sort_values(sort_col, ascending = False)\n",
    "drvr_info_srt.head(3)"
   ]
  },
  {
   "cell_type": "code",
   "execution_count": 471,
   "metadata": {
    "collapsed": false
   },
   "outputs": [
    {
     "data": {
      "text/html": [
       "<div>\n",
       "<table border=\"1\" class=\"dataframe\">\n",
       "  <thead>\n",
       "    <tr style=\"text-align: right;\">\n",
       "      <th></th>\n",
       "      <th>State</th>\n",
       "      <th>Number of drivers involved in fatal collisions per billion miles</th>\n",
       "      <th>Percentage Of Drivers Involved In Fatal Collisions Who Were Speeding</th>\n",
       "      <th>Percentage Of Drivers Involved In Fatal Collisions Who Were Alcohol-Impaired</th>\n",
       "      <th>Percentage Of Drivers Involved In Fatal Collisions Who Were Not Distracted</th>\n",
       "      <th>Percentage Of Drivers Involved In Fatal Collisions Who Had Not Been Involved In Any Previous Accidents</th>\n",
       "      <th>Car Insurance Premiums ($)</th>\n",
       "      <th>Losses incurred by insurance companies for collisions per insured driver ($)</th>\n",
       "      <th>Speeding Drivers involved in Fatal Collisions per 100</th>\n",
       "    </tr>\n",
       "  </thead>\n",
       "  <tbody>\n",
       "    <tr>\n",
       "      <th>12</th>\n",
       "      <td>Idaho</td>\n",
       "      <td>15.3</td>\n",
       "      <td>36</td>\n",
       "      <td>29</td>\n",
       "      <td>85</td>\n",
       "      <td>98</td>\n",
       "      <td>641.96</td>\n",
       "      <td>82.75</td>\n",
       "      <td>0.36</td>\n",
       "    </tr>\n",
       "    <tr>\n",
       "      <th>26</th>\n",
       "      <td>Montana</td>\n",
       "      <td>21.4</td>\n",
       "      <td>39</td>\n",
       "      <td>44</td>\n",
       "      <td>84</td>\n",
       "      <td>85</td>\n",
       "      <td>816.21</td>\n",
       "      <td>85.15</td>\n",
       "      <td>0.39</td>\n",
       "    </tr>\n",
       "    <tr>\n",
       "      <th>19</th>\n",
       "      <td>Maine</td>\n",
       "      <td>15.1</td>\n",
       "      <td>38</td>\n",
       "      <td>30</td>\n",
       "      <td>87</td>\n",
       "      <td>84</td>\n",
       "      <td>661.88</td>\n",
       "      <td>96.57</td>\n",
       "      <td>0.38</td>\n",
       "    </tr>\n",
       "  </tbody>\n",
       "</table>\n",
       "</div>"
      ],
      "text/plain": [
       "      State  Number of drivers involved in fatal collisions per billion miles  \\\n",
       "12    Idaho                                               15.3                  \n",
       "26  Montana                                               21.4                  \n",
       "19    Maine                                               15.1                  \n",
       "\n",
       "    Percentage Of Drivers Involved In Fatal Collisions Who Were Speeding  \\\n",
       "12                                                 36                      \n",
       "26                                                 39                      \n",
       "19                                                 38                      \n",
       "\n",
       "    Percentage Of Drivers Involved In Fatal Collisions Who Were Alcohol-Impaired  \\\n",
       "12                                                 29                              \n",
       "26                                                 44                              \n",
       "19                                                 30                              \n",
       "\n",
       "    Percentage Of Drivers Involved In Fatal Collisions Who Were Not Distracted  \\\n",
       "12                                                 85                            \n",
       "26                                                 84                            \n",
       "19                                                 87                            \n",
       "\n",
       "    Percentage Of Drivers Involved In Fatal Collisions Who Had Not Been Involved In Any Previous Accidents  \\\n",
       "12                                                 98                                                        \n",
       "26                                                 85                                                        \n",
       "19                                                 84                                                        \n",
       "\n",
       "    Car Insurance Premiums ($)  \\\n",
       "12                      641.96   \n",
       "26                      816.21   \n",
       "19                      661.88   \n",
       "\n",
       "    Losses incurred by insurance companies for collisions per insured driver ($)  \\\n",
       "12                                              82.75                              \n",
       "26                                              85.15                              \n",
       "19                                              96.57                              \n",
       "\n",
       "    Speeding Drivers involved in Fatal Collisions per 100  \n",
       "12                                               0.36      \n",
       "26                                               0.39      \n",
       "19                                               0.38      "
      ]
     },
     "execution_count": 471,
     "metadata": {},
     "output_type": "execute_result"
    }
   ],
   "source": [
    "#Sort the dataframe in place\n",
    "drvr_info.sort_values(sort_col, inplace=True)\n",
    "drvr_info.head(3)"
   ]
  },
  {
   "cell_type": "code",
   "execution_count": 472,
   "metadata": {
    "collapsed": false
   },
   "outputs": [
    {
     "name": "stdout",
     "output_type": "stream",
     "text": [
      "Insurance Premium [0:4]\n",
      "-----------------------\n",
      "12    641.96\n",
      "26    816.21\n",
      "19    661.88\n",
      "41    669.31\n",
      "Name: Car Insurance Premiums ($), dtype: float64\n",
      "\n",
      "Insurance Premium - iloc[0:4]\n",
      "-----------------------------\n",
      "12    641.96\n",
      "26    816.21\n",
      "19    661.88\n",
      "41    669.31\n",
      "Name: Car Insurance Premiums ($), dtype: float64\n",
      "\n",
      "Insurance Premium - loc[0:4]\n",
      "-----------------------------\n",
      "0      784.55\n",
      "39    1148.99\n",
      "32    1234.31\n",
      "7     1137.87\n",
      "22    1110.61\n",
      "48     992.61\n",
      "46     768.95\n",
      "38     905.99\n",
      "42     767.91\n",
      "24     896.07\n",
      "43    1004.75\n",
      "30    1301.52\n",
      "4      878.41\n",
      "Name: Car Insurance Premiums ($), dtype: float64\n",
      "\n",
      "Insurance Premium - ix[0:4]\n",
      "-----------------------------\n",
      "0      784.55\n",
      "39    1148.99\n",
      "32    1234.31\n",
      "7     1137.87\n",
      "22    1110.61\n",
      "48     992.61\n",
      "46     768.95\n",
      "38     905.99\n",
      "42     767.91\n",
      "24     896.07\n",
      "43    1004.75\n",
      "30    1301.52\n",
      "4      878.41\n",
      "Name: Car Insurance Premiums ($), dtype: float64\n"
     ]
    }
   ],
   "source": [
    "#Using iloc on sorted dataframe\n",
    "#iloc to access rows by position\n",
    "ins_prem = drvr_info[\"Car Insurance Premiums ($)\"]\n",
    "print(\"Insurance Premium [0:4]\")\n",
    "print(\"-----------------------\")\n",
    "print(ins_prem[0:4])\n",
    "print(\"\\nInsurance Premium - iloc[0:4]\")\n",
    "print(\"-----------------------------\")\n",
    "print(ins_prem.iloc[0:4])\n",
    "print(\"\\nInsurance Premium - loc[0:4]\")\n",
    "print(\"-----------------------------\")\n",
    "print(ins_prem.loc[0:4])\n",
    "print(\"\\nInsurance Premium - ix[0:4]\")\n",
    "print(\"-----------------------------\")\n",
    "print(ins_prem.ix[0:4])"
   ]
  },
  {
   "cell_type": "code",
   "execution_count": 473,
   "metadata": {
    "collapsed": false
   },
   "outputs": [
    {
     "data": {
      "text/html": [
       "<div>\n",
       "<table border=\"1\" class=\"dataframe\">\n",
       "  <thead>\n",
       "    <tr style=\"text-align: right;\">\n",
       "      <th></th>\n",
       "      <th>index</th>\n",
       "      <th>State</th>\n",
       "      <th>Number of drivers involved in fatal collisions per billion miles</th>\n",
       "      <th>Percentage Of Drivers Involved In Fatal Collisions Who Were Speeding</th>\n",
       "      <th>Percentage Of Drivers Involved In Fatal Collisions Who Were Alcohol-Impaired</th>\n",
       "      <th>Percentage Of Drivers Involved In Fatal Collisions Who Were Not Distracted</th>\n",
       "      <th>Percentage Of Drivers Involved In Fatal Collisions Who Had Not Been Involved In Any Previous Accidents</th>\n",
       "      <th>Car Insurance Premiums ($)</th>\n",
       "      <th>Losses incurred by insurance companies for collisions per insured driver ($)</th>\n",
       "      <th>Speeding Drivers involved in Fatal Collisions per 100</th>\n",
       "    </tr>\n",
       "  </thead>\n",
       "  <tbody>\n",
       "    <tr>\n",
       "      <th>0</th>\n",
       "      <td>12</td>\n",
       "      <td>Idaho</td>\n",
       "      <td>15.3</td>\n",
       "      <td>36</td>\n",
       "      <td>29</td>\n",
       "      <td>85</td>\n",
       "      <td>98</td>\n",
       "      <td>641.96</td>\n",
       "      <td>82.75</td>\n",
       "      <td>0.36</td>\n",
       "    </tr>\n",
       "    <tr>\n",
       "      <th>1</th>\n",
       "      <td>26</td>\n",
       "      <td>Montana</td>\n",
       "      <td>21.4</td>\n",
       "      <td>39</td>\n",
       "      <td>44</td>\n",
       "      <td>84</td>\n",
       "      <td>85</td>\n",
       "      <td>816.21</td>\n",
       "      <td>85.15</td>\n",
       "      <td>0.39</td>\n",
       "    </tr>\n",
       "  </tbody>\n",
       "</table>\n",
       "</div>"
      ],
      "text/plain": [
       "   index    State  \\\n",
       "0     12    Idaho   \n",
       "1     26  Montana   \n",
       "\n",
       "   Number of drivers involved in fatal collisions per billion miles  \\\n",
       "0                                               15.3                  \n",
       "1                                               21.4                  \n",
       "\n",
       "   Percentage Of Drivers Involved In Fatal Collisions Who Were Speeding  \\\n",
       "0                                                 36                      \n",
       "1                                                 39                      \n",
       "\n",
       "   Percentage Of Drivers Involved In Fatal Collisions Who Were Alcohol-Impaired  \\\n",
       "0                                                 29                              \n",
       "1                                                 44                              \n",
       "\n",
       "   Percentage Of Drivers Involved In Fatal Collisions Who Were Not Distracted  \\\n",
       "0                                                 85                            \n",
       "1                                                 84                            \n",
       "\n",
       "   Percentage Of Drivers Involved In Fatal Collisions Who Had Not Been Involved In Any Previous Accidents  \\\n",
       "0                                                 98                                                        \n",
       "1                                                 85                                                        \n",
       "\n",
       "   Car Insurance Premiums ($)  \\\n",
       "0                      641.96   \n",
       "1                      816.21   \n",
       "\n",
       "   Losses incurred by insurance companies for collisions per insured driver ($)  \\\n",
       "0                                              82.75                              \n",
       "1                                              85.15                              \n",
       "\n",
       "   Speeding Drivers involved in Fatal Collisions per 100  \n",
       "0                                               0.36      \n",
       "1                                               0.39      "
      ]
     },
     "execution_count": 473,
     "metadata": {},
     "output_type": "execute_result"
    }
   ],
   "source": [
    "#Reindexing rows:\n",
    "\n",
    "drvr_info.reset_index()[0:2]"
   ]
  },
  {
   "cell_type": "code",
   "execution_count": 476,
   "metadata": {
    "collapsed": false
   },
   "outputs": [
    {
     "data": {
      "text/html": [
       "<div>\n",
       "<table border=\"1\" class=\"dataframe\">\n",
       "  <thead>\n",
       "    <tr style=\"text-align: right;\">\n",
       "      <th></th>\n",
       "      <th>State</th>\n",
       "      <th>Number of drivers involved in fatal collisions per billion miles</th>\n",
       "      <th>Percentage Of Drivers Involved In Fatal Collisions Who Were Speeding</th>\n",
       "      <th>Percentage Of Drivers Involved In Fatal Collisions Who Were Alcohol-Impaired</th>\n",
       "      <th>Percentage Of Drivers Involved In Fatal Collisions Who Were Not Distracted</th>\n",
       "      <th>Percentage Of Drivers Involved In Fatal Collisions Who Had Not Been Involved In Any Previous Accidents</th>\n",
       "      <th>Car Insurance Premiums ($)</th>\n",
       "      <th>Losses incurred by insurance companies for collisions per insured driver ($)</th>\n",
       "      <th>Speeding Drivers involved in Fatal Collisions per 100</th>\n",
       "    </tr>\n",
       "  </thead>\n",
       "  <tbody>\n",
       "    <tr>\n",
       "      <th>3</th>\n",
       "      <td>South Dakota</td>\n",
       "      <td>19.4</td>\n",
       "      <td>31</td>\n",
       "      <td>33</td>\n",
       "      <td>98</td>\n",
       "      <td>86</td>\n",
       "      <td>669.31</td>\n",
       "      <td>96.87</td>\n",
       "      <td>0.31</td>\n",
       "    </tr>\n",
       "    <tr>\n",
       "      <th>4</th>\n",
       "      <td>Oregon</td>\n",
       "      <td>12.8</td>\n",
       "      <td>33</td>\n",
       "      <td>26</td>\n",
       "      <td>67</td>\n",
       "      <td>90</td>\n",
       "      <td>804.71</td>\n",
       "      <td>104.61</td>\n",
       "      <td>0.33</td>\n",
       "    </tr>\n",
       "  </tbody>\n",
       "</table>\n",
       "</div>"
      ],
      "text/plain": [
       "          State  \\\n",
       "3  South Dakota   \n",
       "4        Oregon   \n",
       "\n",
       "   Number of drivers involved in fatal collisions per billion miles  \\\n",
       "3                                               19.4                  \n",
       "4                                               12.8                  \n",
       "\n",
       "   Percentage Of Drivers Involved In Fatal Collisions Who Were Speeding  \\\n",
       "3                                                 31                      \n",
       "4                                                 33                      \n",
       "\n",
       "   Percentage Of Drivers Involved In Fatal Collisions Who Were Alcohol-Impaired  \\\n",
       "3                                                 33                              \n",
       "4                                                 26                              \n",
       "\n",
       "   Percentage Of Drivers Involved In Fatal Collisions Who Were Not Distracted  \\\n",
       "3                                                 98                            \n",
       "4                                                 67                            \n",
       "\n",
       "   Percentage Of Drivers Involved In Fatal Collisions Who Had Not Been Involved In Any Previous Accidents  \\\n",
       "3                                                 86                                                        \n",
       "4                                                 90                                                        \n",
       "\n",
       "   Car Insurance Premiums ($)  \\\n",
       "3                      669.31   \n",
       "4                      804.71   \n",
       "\n",
       "   Losses incurred by insurance companies for collisions per insured driver ($)  \\\n",
       "3                                              96.87                              \n",
       "4                                             104.61                              \n",
       "\n",
       "   Speeding Drivers involved in Fatal Collisions per 100  \n",
       "3                                               0.31      \n",
       "4                                               0.33      "
      ]
     },
     "execution_count": 476,
     "metadata": {},
     "output_type": "execute_result"
    }
   ],
   "source": [
    "#Reindexing rows (drop index)\n",
    "drvr_info_drp = drvr_info.reset_index(drop=True)\n",
    "drvr_info_drp.iloc[3:5,:]"
   ]
  },
  {
   "cell_type": "code",
   "execution_count": null,
   "metadata": {
    "collapsed": true
   },
   "outputs": [],
   "source": []
  }
 ],
 "metadata": {
  "anaconda-cloud": {},
  "kernelspec": {
   "display_name": "Python [Root]",
   "language": "python",
   "name": "Python [Root]"
  },
  "language_info": {
   "codemirror_mode": {
    "name": "ipython",
    "version": 3
   },
   "file_extension": ".py",
   "mimetype": "text/x-python",
   "name": "python",
   "nbconvert_exporter": "python",
   "pygments_lexer": "ipython3",
   "version": "3.5.2"
  }
 },
 "nbformat": 4,
 "nbformat_minor": 0
}
