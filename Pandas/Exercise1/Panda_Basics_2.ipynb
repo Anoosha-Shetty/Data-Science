{
 "cells": [
  {
   "cell_type": "code",
   "execution_count": 287,
   "metadata": {
    "collapsed": false
   },
   "outputs": [
    {
     "data": {
      "text/html": [
       "<div>\n",
       "<table border=\"1\" class=\"dataframe\">\n",
       "  <thead>\n",
       "    <tr style=\"text-align: right;\">\n",
       "      <th></th>\n",
       "      <th>title</th>\n",
       "      <th>site</th>\n",
       "      <th>country</th>\n",
       "      <th>year_release</th>\n",
       "      <th>box_office</th>\n",
       "      <th>director</th>\n",
       "      <th>number_of_subjects</th>\n",
       "      <th>subject</th>\n",
       "      <th>type_of_subject</th>\n",
       "      <th>race_known</th>\n",
       "      <th>subject_race</th>\n",
       "      <th>person_of_color</th>\n",
       "      <th>subject_sex</th>\n",
       "      <th>lead_actor_actress</th>\n",
       "    </tr>\n",
       "  </thead>\n",
       "  <tbody>\n",
       "    <tr>\n",
       "      <th>0</th>\n",
       "      <td>10 Rillington Place</td>\n",
       "      <td>http://www.imdb.com/title/tt0066730/</td>\n",
       "      <td>UK</td>\n",
       "      <td>1971</td>\n",
       "      <td>-</td>\n",
       "      <td>Richard Fleischer</td>\n",
       "      <td>1</td>\n",
       "      <td>John Christie</td>\n",
       "      <td>Criminal</td>\n",
       "      <td>Unknown</td>\n",
       "      <td>NaN</td>\n",
       "      <td>0</td>\n",
       "      <td>Male</td>\n",
       "      <td>Richard Attenborough</td>\n",
       "    </tr>\n",
       "    <tr>\n",
       "      <th>1</th>\n",
       "      <td>12 Years a Slave</td>\n",
       "      <td>http://www.imdb.com/title/tt2024544/</td>\n",
       "      <td>US/UK</td>\n",
       "      <td>2013</td>\n",
       "      <td>$56.7M</td>\n",
       "      <td>Steve McQueen</td>\n",
       "      <td>1</td>\n",
       "      <td>Solomon Northup</td>\n",
       "      <td>Other</td>\n",
       "      <td>Known</td>\n",
       "      <td>African American</td>\n",
       "      <td>1</td>\n",
       "      <td>Male</td>\n",
       "      <td>Chiwetel Ejiofor</td>\n",
       "    </tr>\n",
       "  </tbody>\n",
       "</table>\n",
       "</div>"
      ],
      "text/plain": [
       "                 title                                  site country  \\\n",
       "0  10 Rillington Place  http://www.imdb.com/title/tt0066730/      UK   \n",
       "1     12 Years a Slave  http://www.imdb.com/title/tt2024544/   US/UK   \n",
       "\n",
       "   year_release box_office           director  number_of_subjects  \\\n",
       "0          1971          -  Richard Fleischer                   1   \n",
       "1          2013     $56.7M      Steve McQueen                   1   \n",
       "\n",
       "            subject type_of_subject race_known      subject_race  \\\n",
       "0     John Christie        Criminal    Unknown               NaN   \n",
       "1   Solomon Northup           Other      Known  African American   \n",
       "\n",
       "   person_of_color subject_sex    lead_actor_actress  \n",
       "0                0        Male  Richard Attenborough  \n",
       "1                1        Male      Chiwetel Ejiofor  "
      ]
     },
     "execution_count": 287,
     "metadata": {},
     "output_type": "execute_result"
    }
   ],
   "source": [
    "import pandas as pd\n",
    "biop = pd.read_csv(r'D:\\GitHub\\Data-Science\\Pandas\\Exercise1\\biopics.csv', encoding='latin-1')\n",
    "biop.head(2)"
   ]
  },
  {
   "cell_type": "code",
   "execution_count": 301,
   "metadata": {
    "collapsed": false
   },
   "outputs": [
    {
     "data": {
      "text/plain": [
       "0     True\n",
       "1    False\n",
       "2     True\n",
       "3    False\n",
       "4     True\n",
       "Name: subject_race, dtype: bool"
      ]
     },
     "execution_count": 301,
     "metadata": {},
     "output_type": "execute_result"
    }
   ],
   "source": [
    "#Find missing data ==> (NaN - 'not a number' is used to indicate a missing value)\n",
    "#Get the list of entries with missing value for the column subject race\n",
    "sub_race = biop[\"subject_race\"]\n",
    "race_null = pd.isnull(sub_race)\n",
    "race_null.loc[0:4]"
   ]
  },
  {
   "cell_type": "code",
   "execution_count": 302,
   "metadata": {
    "collapsed": false
   },
   "outputs": [
    {
     "data": {
      "text/plain": [
       "0    NaN\n",
       "2    NaN\n",
       "4    NaN\n",
       "8    NaN\n",
       "Name: subject_race, dtype: object"
      ]
     },
     "execution_count": 302,
     "metadata": {},
     "output_type": "execute_result"
    }
   ],
   "source": [
    "sub_race_null = sub_race[race_null]\n",
    "sub_race_null[0:4]"
   ]
  },
  {
   "cell_type": "code",
   "execution_count": 303,
   "metadata": {
    "collapsed": false
   },
   "outputs": [
    {
     "name": "stdout",
     "output_type": "stream",
     "text": [
      "197\n"
     ]
    }
   ],
   "source": [
    "print(len(sub_race_null))"
   ]
  },
  {
   "cell_type": "code",
   "execution_count": 306,
   "metadata": {
    "collapsed": false
   },
   "outputs": [
    {
     "data": {
      "text/plain": [
       "1    African American\n",
       "3               White\n",
       "5      Asian American\n",
       "6               White\n",
       "Name: subject_race, dtype: object"
      ]
     },
     "execution_count": 306,
     "metadata": {},
     "output_type": "execute_result"
    }
   ],
   "source": [
    "#Get the list of entries with valid values for subject race\n",
    "race_not_null = biop[\"subject_race\"][race_null == False]\n",
    "race_not_null[0:4]"
   ]
  },
  {
   "cell_type": "code",
   "execution_count": null,
   "metadata": {
    "collapsed": true
   },
   "outputs": [],
   "source": [
    "#Calculating mean: the mean() function ignores the rows with NaN entries while calculating the sum and count. \n",
    "#mean() function in pandas ignores the missing values."
   ]
  },
  {
   "cell_type": "markdown",
   "metadata": {},
   "source": [
    "The dropna() method takes an axis parameter, which indicates whether you would like to drop rows or columns. Specifying axis=0 or axis='index' will drop any rows that have null values, while specifying axis=1 or axis='columns' will drop any columns that have null values."
   ]
  },
  {
   "cell_type": "code",
   "execution_count": 324,
   "metadata": {
    "collapsed": false
   },
   "outputs": [
    {
     "data": {
      "text/html": [
       "<div>\n",
       "<table border=\"1\" class=\"dataframe\">\n",
       "  <thead>\n",
       "    <tr style=\"text-align: right;\">\n",
       "      <th></th>\n",
       "      <th>title</th>\n",
       "      <th>site</th>\n",
       "      <th>country</th>\n",
       "      <th>year_release</th>\n",
       "      <th>box_office</th>\n",
       "      <th>director</th>\n",
       "      <th>number_of_subjects</th>\n",
       "      <th>subject</th>\n",
       "      <th>type_of_subject</th>\n",
       "      <th>race_known</th>\n",
       "      <th>subject_race</th>\n",
       "      <th>person_of_color</th>\n",
       "      <th>subject_sex</th>\n",
       "      <th>lead_actor_actress</th>\n",
       "    </tr>\n",
       "  </thead>\n",
       "  <tbody>\n",
       "    <tr>\n",
       "      <th>1</th>\n",
       "      <td>12 Years a Slave</td>\n",
       "      <td>http://www.imdb.com/title/tt2024544/</td>\n",
       "      <td>US/UK</td>\n",
       "      <td>2013</td>\n",
       "      <td>$56.7M</td>\n",
       "      <td>Steve McQueen</td>\n",
       "      <td>1</td>\n",
       "      <td>Solomon Northup</td>\n",
       "      <td>Other</td>\n",
       "      <td>Known</td>\n",
       "      <td>African American</td>\n",
       "      <td>1</td>\n",
       "      <td>Male</td>\n",
       "      <td>Chiwetel Ejiofor</td>\n",
       "    </tr>\n",
       "    <tr>\n",
       "      <th>3</th>\n",
       "      <td>1987</td>\n",
       "      <td>http://www.imdb.com/title/tt2833074/</td>\n",
       "      <td>Canada</td>\n",
       "      <td>2014</td>\n",
       "      <td>-</td>\n",
       "      <td>Ricardo Trogi</td>\n",
       "      <td>1</td>\n",
       "      <td>Ricardo Trogi</td>\n",
       "      <td>Other</td>\n",
       "      <td>Known</td>\n",
       "      <td>White</td>\n",
       "      <td>0</td>\n",
       "      <td>Male</td>\n",
       "      <td>Jean-Carl Boucher</td>\n",
       "    </tr>\n",
       "  </tbody>\n",
       "</table>\n",
       "</div>"
      ],
      "text/plain": [
       "              title                                  site country  \\\n",
       "1  12 Years a Slave  http://www.imdb.com/title/tt2024544/   US/UK   \n",
       "3              1987  http://www.imdb.com/title/tt2833074/  Canada   \n",
       "\n",
       "   year_release box_office       director  number_of_subjects  \\\n",
       "1          2013     $56.7M  Steve McQueen                   1   \n",
       "3          2014          -  Ricardo Trogi                   1   \n",
       "\n",
       "            subject type_of_subject race_known      subject_race  \\\n",
       "1   Solomon Northup           Other      Known  African American   \n",
       "3     Ricardo Trogi           Other      Known             White   \n",
       "\n",
       "   person_of_color subject_sex lead_actor_actress  \n",
       "1                1        Male   Chiwetel Ejiofor  \n",
       "3                0        Male  Jean-Carl Boucher  "
      ]
     },
     "execution_count": 324,
     "metadata": {},
     "output_type": "execute_result"
    }
   ],
   "source": [
    "table_null_rows = biop.dropna(axis=0)\n",
    "table_null_rows[0:2]"
   ]
  },
  {
   "cell_type": "code",
   "execution_count": 330,
   "metadata": {
    "collapsed": false
   },
   "outputs": [
    {
     "data": {
      "text/html": [
       "<div>\n",
       "<table border=\"1\" class=\"dataframe\">\n",
       "  <thead>\n",
       "    <tr style=\"text-align: right;\">\n",
       "      <th></th>\n",
       "      <th>title</th>\n",
       "      <th>site</th>\n",
       "      <th>country</th>\n",
       "      <th>year_release</th>\n",
       "      <th>box_office</th>\n",
       "      <th>director</th>\n",
       "      <th>number_of_subjects</th>\n",
       "      <th>subject</th>\n",
       "      <th>type_of_subject</th>\n",
       "      <th>race_known</th>\n",
       "      <th>person_of_color</th>\n",
       "      <th>subject_sex</th>\n",
       "    </tr>\n",
       "  </thead>\n",
       "  <tbody>\n",
       "    <tr>\n",
       "      <th>0</th>\n",
       "      <td>10 Rillington Place</td>\n",
       "      <td>http://www.imdb.com/title/tt0066730/</td>\n",
       "      <td>UK</td>\n",
       "      <td>1971</td>\n",
       "      <td>-</td>\n",
       "      <td>Richard Fleischer</td>\n",
       "      <td>1</td>\n",
       "      <td>John Christie</td>\n",
       "      <td>Criminal</td>\n",
       "      <td>Unknown</td>\n",
       "      <td>0</td>\n",
       "      <td>Male</td>\n",
       "    </tr>\n",
       "    <tr>\n",
       "      <th>1</th>\n",
       "      <td>12 Years a Slave</td>\n",
       "      <td>http://www.imdb.com/title/tt2024544/</td>\n",
       "      <td>US/UK</td>\n",
       "      <td>2013</td>\n",
       "      <td>$56.7M</td>\n",
       "      <td>Steve McQueen</td>\n",
       "      <td>1</td>\n",
       "      <td>Solomon Northup</td>\n",
       "      <td>Other</td>\n",
       "      <td>Known</td>\n",
       "      <td>1</td>\n",
       "      <td>Male</td>\n",
       "    </tr>\n",
       "  </tbody>\n",
       "</table>\n",
       "</div>"
      ],
      "text/plain": [
       "                 title                                  site country  \\\n",
       "0  10 Rillington Place  http://www.imdb.com/title/tt0066730/      UK   \n",
       "1     12 Years a Slave  http://www.imdb.com/title/tt2024544/   US/UK   \n",
       "\n",
       "   year_release box_office           director  number_of_subjects  \\\n",
       "0          1971          -  Richard Fleischer                   1   \n",
       "1          2013     $56.7M      Steve McQueen                   1   \n",
       "\n",
       "            subject type_of_subject race_known  person_of_color subject_sex  \n",
       "0     John Christie        Criminal    Unknown                0        Male  \n",
       "1   Solomon Northup           Other      Known                1        Male  "
      ]
     },
     "execution_count": 330,
     "metadata": {},
     "output_type": "execute_result"
    }
   ],
   "source": [
    "table_null_cols = biop.dropna(axis=1)\n",
    "table_null_cols[0:2]"
   ]
  },
  {
   "cell_type": "code",
   "execution_count": 331,
   "metadata": {
    "collapsed": false
   },
   "outputs": [
    {
     "data": {
      "text/html": [
       "<div>\n",
       "<table border=\"1\" class=\"dataframe\">\n",
       "  <thead>\n",
       "    <tr style=\"text-align: right;\">\n",
       "      <th></th>\n",
       "      <th>title</th>\n",
       "      <th>site</th>\n",
       "      <th>country</th>\n",
       "      <th>year_release</th>\n",
       "      <th>box_office</th>\n",
       "      <th>director</th>\n",
       "      <th>number_of_subjects</th>\n",
       "      <th>subject</th>\n",
       "      <th>type_of_subject</th>\n",
       "      <th>race_known</th>\n",
       "      <th>subject_race</th>\n",
       "      <th>person_of_color</th>\n",
       "      <th>subject_sex</th>\n",
       "      <th>lead_actor_actress</th>\n",
       "    </tr>\n",
       "  </thead>\n",
       "  <tbody>\n",
       "    <tr>\n",
       "      <th>1</th>\n",
       "      <td>12 Years a Slave</td>\n",
       "      <td>http://www.imdb.com/title/tt2024544/</td>\n",
       "      <td>US/UK</td>\n",
       "      <td>2013</td>\n",
       "      <td>$56.7M</td>\n",
       "      <td>Steve McQueen</td>\n",
       "      <td>1</td>\n",
       "      <td>Solomon Northup</td>\n",
       "      <td>Other</td>\n",
       "      <td>Known</td>\n",
       "      <td>African American</td>\n",
       "      <td>1</td>\n",
       "      <td>Male</td>\n",
       "      <td>Chiwetel Ejiofor</td>\n",
       "    </tr>\n",
       "    <tr>\n",
       "      <th>3</th>\n",
       "      <td>1987</td>\n",
       "      <td>http://www.imdb.com/title/tt2833074/</td>\n",
       "      <td>Canada</td>\n",
       "      <td>2014</td>\n",
       "      <td>-</td>\n",
       "      <td>Ricardo Trogi</td>\n",
       "      <td>1</td>\n",
       "      <td>Ricardo Trogi</td>\n",
       "      <td>Other</td>\n",
       "      <td>Known</td>\n",
       "      <td>White</td>\n",
       "      <td>0</td>\n",
       "      <td>Male</td>\n",
       "      <td>Jean-Carl Boucher</td>\n",
       "    </tr>\n",
       "  </tbody>\n",
       "</table>\n",
       "</div>"
      ],
      "text/plain": [
       "              title                                  site country  \\\n",
       "1  12 Years a Slave  http://www.imdb.com/title/tt2024544/   US/UK   \n",
       "3              1987  http://www.imdb.com/title/tt2833074/  Canada   \n",
       "\n",
       "   year_release box_office       director  number_of_subjects  \\\n",
       "1          2013     $56.7M  Steve McQueen                   1   \n",
       "3          2014          -  Ricardo Trogi                   1   \n",
       "\n",
       "            subject type_of_subject race_known      subject_race  \\\n",
       "1   Solomon Northup           Other      Known  African American   \n",
       "3     Ricardo Trogi           Other      Known             White   \n",
       "\n",
       "   person_of_color subject_sex lead_actor_actress  \n",
       "1                1        Male   Chiwetel Ejiofor  \n",
       "3                0        Male  Jean-Carl Boucher  "
      ]
     },
     "execution_count": 331,
     "metadata": {},
     "output_type": "execute_result"
    }
   ],
   "source": [
    "table_null_cols = biop.dropna(axis=0,subset=[\"subject_race\",\"race_known\"])\n",
    "table_null_cols[0:2]"
   ]
  },
  {
   "cell_type": "code",
   "execution_count": null,
   "metadata": {
    "collapsed": false
   },
   "outputs": [],
   "source": []
  },
  {
   "cell_type": "code",
   "execution_count": null,
   "metadata": {
    "collapsed": false
   },
   "outputs": [],
   "source": []
  },
  {
   "cell_type": "code",
   "execution_count": null,
   "metadata": {
    "collapsed": false
   },
   "outputs": [],
   "source": []
  },
  {
   "cell_type": "code",
   "execution_count": null,
   "metadata": {
    "collapsed": true
   },
   "outputs": [],
   "source": []
  }
 ],
 "metadata": {
  "anaconda-cloud": {},
  "celltoolbar": "Raw Cell Format",
  "kernelspec": {
   "display_name": "Python [Root]",
   "language": "python",
   "name": "Python [Root]"
  },
  "language_info": {
   "codemirror_mode": {
    "name": "ipython",
    "version": 3
   },
   "file_extension": ".py",
   "mimetype": "text/x-python",
   "name": "python",
   "nbconvert_exporter": "python",
   "pygments_lexer": "ipython3",
   "version": "3.5.2"
  }
 },
 "nbformat": 4,
 "nbformat_minor": 0
}
