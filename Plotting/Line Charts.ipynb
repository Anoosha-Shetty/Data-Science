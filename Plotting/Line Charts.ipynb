{
 "cells": [
  {
   "cell_type": "code",
   "execution_count": 32,
   "metadata": {
    "collapsed": true
   },
   "outputs": [],
   "source": [
    "import matplotlib.pyplot as plt\n",
    "plt.plot()\n",
    "plt.show()\n",
    "#Fig 0"
   ]
  },
  {
   "cell_type": "code",
   "execution_count": 33,
   "metadata": {
    "collapsed": false
   },
   "outputs": [],
   "source": [
    "x = [1,2,3]\n",
    "y = [10,20,10]\n",
    "\n",
    "plt.plot(x,y)\n",
    "plt.xlabel(\"x-axis\")\n",
    "plt.ylabel(\"y-axis\")\n",
    "plt.title(\"Sample Plot - 1\")\n",
    "plt.show()\n",
    "#Fig 1"
   ]
  },
  {
   "cell_type": "code",
   "execution_count": 37,
   "metadata": {
    "collapsed": false
   },
   "outputs": [],
   "source": [
    "import pandas as pd\n",
    "pol = pd.read_csv(r'D:\\GitHub\\Datasets\\police-locals\\police-locals.csv')\n",
    "x = pol[\"police_force_size\"][1:10]\n",
    "\n",
    "y = 100 *pol[\"all\"][1:10]\n",
    "plt.plot(x,y)\n",
    "plt.xlabel(\"x-axis (Police force size)\")\n",
    "plt.ylabel(\"y-axis (All - % of the total police force that lives in the city)\")\n",
    "plt.title(\"Sample Plot - 2\")\n",
    "plt.show()\n",
    "\n",
    "#Fig 2"
   ]
  },
  {
   "cell_type": "code",
   "execution_count": 53,
   "metadata": {
    "collapsed": false
   },
   "outputs": [],
   "source": [
    "import pandas as pd\n",
    "pol = pd.read_csv(r'D:\\GitHub\\Datasets\\police-locals\\police-locals.csv')\n",
    "\n",
    "x_axis = pol[\"city\"][0:20]\n",
    "y_axis = 100 *pol[\"all\"][0:20]\n",
    "\n",
    "plt.xlabel(\"x-axis (City)\")\n",
    "\n",
    "lng = len(x_axis)\n",
    "rang = range(lng)\n",
    "\n",
    "plt.xticks(rang,x_axis, rotation= 90)\n",
    "plt.plot(rang,y_axis,\"g\")\n",
    "plt.ylabel(\"y-axis (All - % of the total police force that lives in the city)\")\n",
    "plt.title(\"Sample Plot - 3\")\n",
    "plt.show()\n",
    "\n",
    "#Fig 3"
   ]
  },
  {
   "cell_type": "markdown",
   "metadata": {},
   "source": [
    "Subplots\n",
    "\n",
    "a container for all plots was created (returned as a Figure object)\n",
    "\n",
    "a container for the plot was positioned on a grid (the plot returned as an Axes object)\n",
    "\n",
    "visual symbols were added to the plot (using the Axes methods)\n",
    "\n",
    "fig = plt.figure()\n",
    "\n",
    "axes_obj = fig.add_subplot(nrows, ncols, plot_number)\n",
    "\n",
    "\n"
   ]
  },
  {
   "cell_type": "code",
   "execution_count": 54,
   "metadata": {
    "collapsed": false
   },
   "outputs": [],
   "source": [
    "fig = plt.figure()\n",
    "ax1 = fig.add_subplot(2,1,1)\n",
    "ax1.set_title(\"Subplot 1\")\n",
    "ax2 = fig.add_subplot(2,1,2)\n",
    "ax2.set_title(\"Subplot 2\")\n",
    "plt.show()\n",
    "\n",
    "#Fig 4"
   ]
  },
  {
   "cell_type": "code",
   "execution_count": 67,
   "metadata": {
    "collapsed": false
   },
   "outputs": [],
   "source": [
    "import pandas as pd\n",
    "import textwrap\n",
    "pol = pd.read_csv(r'D:\\GitHub\\Datasets\\police-locals\\police-locals.csv')\n",
    "\n",
    "fig = plt.figure(figsize=(15,15))    #Setting the plotting area\n",
    "ax1 = fig.add_subplot(2,1,1)\n",
    "ax2 = fig.add_subplot(2,1,2)\n",
    "ylab = \"y-axis (All - % of the total police force that lives in the city)\"\n",
    "\n",
    "ax1.set_xlabel(\"x-axis (Police force size)\")\n",
    "ax1.set_ylabel(\"\\n\".join (textwrap.wrap(ylab, 20)))\n",
    "ax1.plot(pol[\"police_force_size\"][1:10], 100 *pol[\"all\"][1:10])\n",
    "ax1.set_title (\"Subplot 1\")\n",
    "\n",
    "ax2.set_xlabel(\"x-axis (City)\")\n",
    "lng = len(pol[\"city\"][1:10])\n",
    "rang = range(lng)\n",
    "\n",
    "plt.xticks(rang,x_axis, rotation= 15)\n",
    "plt.plot(rang,100 *pol[\"all\"][1:10],\"g\")\n",
    "\n",
    "ax2.set_ylabel(\"\\n\".join (textwrap.wrap(ylab, 20)))\n",
    "ax2.set_title (\"Subplot 2\")\n",
    "\n",
    "plt.show()\n",
    "#Fig 5"
   ]
  },
  {
   "cell_type": "code",
   "execution_count": null,
   "metadata": {
    "collapsed": true
   },
   "outputs": [],
   "source": [
    "#Overlaying line charts\n",
    "#legend\n"
   ]
  },
  {
   "cell_type": "code",
   "execution_count": null,
   "metadata": {
    "collapsed": false
   },
   "outputs": [],
   "source": [
    "import pandas as pd\n",
    "drg = pd.read_csv(r'D:\\GitHub\\Datasets\\drug-use-by-age\\drug-use-by-age.csv')\n",
    "x = drg[\"age\"]\n",
    "\n",
    "y = drg[\"alcohol-use\"]\n",
    "print(y)\n",
    "\n",
    "# plt.plot(x,y)\n",
    "# plt.xlabel(\"x-axis1\")\n",
    "# plt.ylabel(\"y-axis\")\n",
    "# plt.title(\"Sample Plot\")"
   ]
  },
  {
   "cell_type": "code",
   "execution_count": null,
   "metadata": {
    "collapsed": true
   },
   "outputs": [],
   "source": []
  }
 ],
 "metadata": {
  "kernelspec": {
   "display_name": "Python [Root]",
   "language": "python",
   "name": "Python [Root]"
  },
  "language_info": {
   "codemirror_mode": {
    "name": "ipython",
    "version": 3
   },
   "file_extension": ".py",
   "mimetype": "text/x-python",
   "name": "python",
   "nbconvert_exporter": "python",
   "pygments_lexer": "ipython3",
   "version": "3.5.2"
  }
 },
 "nbformat": 4,
 "nbformat_minor": 0
}
